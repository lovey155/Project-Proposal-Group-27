{
 "cells": [
  {
   "cell_type": "markdown",
   "id": "3167e9af",
   "metadata": {},
   "source": [
    "Group #27's Project Proposal for DSCI 100 Sect.002"
   ]
  },
  {
   "cell_type": "markdown",
   "id": "3602d3da",
   "metadata": {},
   "source": [
    "Title: Predicting Diagnosis of Heart Disease Based on Physical Indicator Variables"
   ]
  },
  {
   "cell_type": "markdown",
   "id": "a67678be",
   "metadata": {},
   "source": [
    "**Predicting Diagnosis of Heart Disease Based on Physical Indicator Variables**"
   ]
  },
  {
   "cell_type": "markdown",
   "id": "73f442b7",
   "metadata": {},
   "source": [
    "Introduction: "
   ]
  },
  {
   "cell_type": "code",
   "execution_count": 3,
   "id": "79410043",
   "metadata": {},
   "outputs": [],
   "source": [
    "system(\"git pull origin master\")"
   ]
  },
  {
   "cell_type": "markdown",
   "id": "aabd78df",
   "metadata": {},
   "source": [
    "| Atrribute Number | Varible | Observations Possible | Definition | \n",
    "|  :----: |    :----:   |  :----:  |  :----:  |\n",
    "| 1     | age       | numerical value  | number in years |\n",
    "| 2   | sex        | 1 = male; 0 = female      |**FILL**      |\n",
    "| 3   | cp | Value 1: typical angina, Value 2: atypical angina, Value 3: non-anginal pain, Value 4: asymptomatic     |chest pain type |\n",
    "| 4   | trestbps        | in mm Hg on admission to the hospital     |resting blood pressure  |\n",
    "| 5   | chol        |  in mg/dl     |serum cholesterol       |\n",
    "| 6   | fbs        | (1 = true; 0 = false)      |fasting blood sugar > 120 mg/dl      |\n",
    "| 7   | restecg        |Value 0: normal, Value 1: having ST-T wave abnormality (T wave inversions and/or ST elevation or depression of > 0.05 mV), Value 2: showing probable or definite left ventricular hypertrophy by Estes' criteria      |resting electrocardiographic results    |\n",
    "| 8   | thalach        | numerical value      |maximum heart rate achieved   |\n",
    "| 9   | exang        | (1 = yes; 0 = no)      |exercise induced angina      |\n",
    "| 10   | oldpeak        | **FILL**      |ST depression induced by exercise relative to rest      |\n",
    "| 11  | slope        | Value 1: upsloping, Value 2: flat, Value 3: downsloping      |the slope of the peak exercise ST segment     |\n",
    "| 12   | ca        | 0-3      |number of major vessels colored by fluoroscopy     |\n",
    "| 13   | thal        |3 = normal; 6 = fixed defect; 7 = reversible defect       |**FILL**      |\n",
    "| 14  | num        | Value 0: < 50% diameter, Value 1: > 50% diameter narrowing (in any major vessel: attributes 59 through 68 are vessels)      |diagnosis of heart disease (angiographic disease status)      |"
   ]
  },
  {
   "cell_type": "code",
   "execution_count": 1,
   "id": "95f89ae4",
   "metadata": {},
   "outputs": [
    {
     "name": "stderr",
     "output_type": "stream",
     "text": [
      "── \u001b[1mAttaching packages\u001b[22m ─────────────────────────────────────── tidyverse 1.3.1 ──\n",
      "\n",
      "\u001b[32m✔\u001b[39m \u001b[34mggplot2\u001b[39m 3.3.6     \u001b[32m✔\u001b[39m \u001b[34mpurrr  \u001b[39m 0.3.4\n",
      "\u001b[32m✔\u001b[39m \u001b[34mtibble \u001b[39m 3.1.7     \u001b[32m✔\u001b[39m \u001b[34mdplyr  \u001b[39m 1.0.9\n",
      "\u001b[32m✔\u001b[39m \u001b[34mtidyr  \u001b[39m 1.2.0     \u001b[32m✔\u001b[39m \u001b[34mstringr\u001b[39m 1.4.0\n",
      "\u001b[32m✔\u001b[39m \u001b[34mreadr  \u001b[39m 2.1.2     \u001b[32m✔\u001b[39m \u001b[34mforcats\u001b[39m 0.5.1\n",
      "\n",
      "── \u001b[1mConflicts\u001b[22m ────────────────────────────────────────── tidyverse_conflicts() ──\n",
      "\u001b[31m✖\u001b[39m \u001b[34mdplyr\u001b[39m::\u001b[32mfilter()\u001b[39m masks \u001b[34mstats\u001b[39m::filter()\n",
      "\u001b[31m✖\u001b[39m \u001b[34mdplyr\u001b[39m::\u001b[32mlag()\u001b[39m    masks \u001b[34mstats\u001b[39m::lag()\n",
      "\n",
      "── \u001b[1mAttaching packages\u001b[22m ────────────────────────────────────── tidymodels 1.0.0 ──\n",
      "\n",
      "\u001b[32m✔\u001b[39m \u001b[34mbroom       \u001b[39m 1.0.0     \u001b[32m✔\u001b[39m \u001b[34mrsample     \u001b[39m 1.0.0\n",
      "\u001b[32m✔\u001b[39m \u001b[34mdials       \u001b[39m 1.0.0     \u001b[32m✔\u001b[39m \u001b[34mtune        \u001b[39m 1.0.0\n",
      "\u001b[32m✔\u001b[39m \u001b[34minfer       \u001b[39m 1.0.2     \u001b[32m✔\u001b[39m \u001b[34mworkflows   \u001b[39m 1.0.0\n",
      "\u001b[32m✔\u001b[39m \u001b[34mmodeldata   \u001b[39m 1.0.0     \u001b[32m✔\u001b[39m \u001b[34mworkflowsets\u001b[39m 1.0.0\n",
      "\u001b[32m✔\u001b[39m \u001b[34mparsnip     \u001b[39m 1.0.0     \u001b[32m✔\u001b[39m \u001b[34myardstick   \u001b[39m 1.0.0\n",
      "\u001b[32m✔\u001b[39m \u001b[34mrecipes     \u001b[39m 1.0.1     \n",
      "\n",
      "── \u001b[1mConflicts\u001b[22m ───────────────────────────────────────── tidymodels_conflicts() ──\n",
      "\u001b[31m✖\u001b[39m \u001b[34mscales\u001b[39m::\u001b[32mdiscard()\u001b[39m masks \u001b[34mpurrr\u001b[39m::discard()\n",
      "\u001b[31m✖\u001b[39m \u001b[34mdplyr\u001b[39m::\u001b[32mfilter()\u001b[39m   masks \u001b[34mstats\u001b[39m::filter()\n",
      "\u001b[31m✖\u001b[39m \u001b[34mrecipes\u001b[39m::\u001b[32mfixed()\u001b[39m  masks \u001b[34mstringr\u001b[39m::fixed()\n",
      "\u001b[31m✖\u001b[39m \u001b[34mdplyr\u001b[39m::\u001b[32mlag()\u001b[39m      masks \u001b[34mstats\u001b[39m::lag()\n",
      "\u001b[31m✖\u001b[39m \u001b[34myardstick\u001b[39m::\u001b[32mspec()\u001b[39m masks \u001b[34mreadr\u001b[39m::spec()\n",
      "\u001b[31m✖\u001b[39m \u001b[34mrecipes\u001b[39m::\u001b[32mstep()\u001b[39m   masks \u001b[34mstats\u001b[39m::step()\n",
      "\u001b[34m•\u001b[39m Use suppressPackageStartupMessages() to eliminate package startup messages\n",
      "\n",
      "Warning message in file(filename, \"r\", encoding = encoding):\n",
      "“cannot open file 'tests.R': No such file or directory”\n"
     ]
    },
    {
     "ename": "ERROR",
     "evalue": "Error in file(filename, \"r\", encoding = encoding): cannot open the connection\n",
     "output_type": "error",
     "traceback": [
      "Error in file(filename, \"r\", encoding = encoding): cannot open the connection\nTraceback:\n",
      "1. source(\"tests.R\")",
      "2. file(filename, \"r\", encoding = encoding)"
     ]
    }
   ],
   "source": [
    "library(tidyverse)\n",
    "library(repr)\n",
    "library(tidymodels)\n",
    "options(repr.matrix.max.rows = 6)\n",
    "source(\"tests.R\")\n",
    "source('cleanup.R')"
   ]
  },
  {
   "cell_type": "code",
   "execution_count": 2,
   "id": "82670cb0",
   "metadata": {},
   "outputs": [
    {
     "data": {
      "text/html": [
       "<table class=\"dataframe\">\n",
       "<caption>A data.frame: 920 × 16</caption>\n",
       "<thead>\n",
       "\t<tr><th scope=col>id</th><th scope=col>age</th><th scope=col>sex</th><th scope=col>dataset</th><th scope=col>cp</th><th scope=col>trestbps</th><th scope=col>chol</th><th scope=col>fbs</th><th scope=col>restecg</th><th scope=col>thalch</th><th scope=col>exang</th><th scope=col>oldpeak</th><th scope=col>slope</th><th scope=col>ca</th><th scope=col>thal</th><th scope=col>num</th></tr>\n",
       "\t<tr><th scope=col>&lt;int&gt;</th><th scope=col>&lt;int&gt;</th><th scope=col>&lt;chr&gt;</th><th scope=col>&lt;chr&gt;</th><th scope=col>&lt;chr&gt;</th><th scope=col>&lt;int&gt;</th><th scope=col>&lt;int&gt;</th><th scope=col>&lt;lgl&gt;</th><th scope=col>&lt;chr&gt;</th><th scope=col>&lt;int&gt;</th><th scope=col>&lt;lgl&gt;</th><th scope=col>&lt;dbl&gt;</th><th scope=col>&lt;chr&gt;</th><th scope=col>&lt;int&gt;</th><th scope=col>&lt;chr&gt;</th><th scope=col>&lt;int&gt;</th></tr>\n",
       "</thead>\n",
       "<tbody>\n",
       "\t<tr><td>1</td><td>63</td><td>Male</td><td>Cleveland</td><td>typical angina</td><td>145</td><td>233</td><td> TRUE</td><td>lv hypertrophy</td><td>150</td><td>FALSE</td><td>2.3</td><td>downsloping</td><td>0</td><td>fixed defect     </td><td>0</td></tr>\n",
       "\t<tr><td>2</td><td>67</td><td>Male</td><td>Cleveland</td><td>asymptomatic  </td><td>160</td><td>286</td><td>FALSE</td><td>lv hypertrophy</td><td>108</td><td> TRUE</td><td>1.5</td><td>flat       </td><td>3</td><td>normal           </td><td>2</td></tr>\n",
       "\t<tr><td>3</td><td>67</td><td>Male</td><td>Cleveland</td><td>asymptomatic  </td><td>120</td><td>229</td><td>FALSE</td><td>lv hypertrophy</td><td>129</td><td> TRUE</td><td>2.6</td><td>flat       </td><td>2</td><td>reversable defect</td><td>1</td></tr>\n",
       "\t<tr><td>⋮</td><td>⋮</td><td>⋮</td><td>⋮</td><td>⋮</td><td>⋮</td><td>⋮</td><td>⋮</td><td>⋮</td><td>⋮</td><td>⋮</td><td>⋮</td><td>⋮</td><td>⋮</td><td>⋮</td><td>⋮</td></tr>\n",
       "\t<tr><td>918</td><td>55</td><td>Male</td><td>VA Long Beach</td><td>asymptomatic   </td><td>122</td><td>223</td><td> TRUE</td><td>st-t abnormality</td><td>100</td><td>FALSE</td><td> 0</td><td></td><td>NA</td><td>fixed defect</td><td>2</td></tr>\n",
       "\t<tr><td>919</td><td>58</td><td>Male</td><td>VA Long Beach</td><td>asymptomatic   </td><td> NA</td><td>385</td><td> TRUE</td><td>lv hypertrophy  </td><td> NA</td><td>   NA</td><td>NA</td><td></td><td>NA</td><td>            </td><td>0</td></tr>\n",
       "\t<tr><td>920</td><td>62</td><td>Male</td><td>VA Long Beach</td><td>atypical angina</td><td>120</td><td>254</td><td>FALSE</td><td>lv hypertrophy  </td><td> 93</td><td> TRUE</td><td> 0</td><td></td><td>NA</td><td>            </td><td>1</td></tr>\n",
       "</tbody>\n",
       "</table>\n"
      ],
      "text/latex": [
       "A data.frame: 920 × 16\n",
       "\\begin{tabular}{llllllllllllllll}\n",
       " id & age & sex & dataset & cp & trestbps & chol & fbs & restecg & thalch & exang & oldpeak & slope & ca & thal & num\\\\\n",
       " <int> & <int> & <chr> & <chr> & <chr> & <int> & <int> & <lgl> & <chr> & <int> & <lgl> & <dbl> & <chr> & <int> & <chr> & <int>\\\\\n",
       "\\hline\n",
       "\t 1 & 63 & Male & Cleveland & typical angina & 145 & 233 &  TRUE & lv hypertrophy & 150 & FALSE & 2.3 & downsloping & 0 & fixed defect      & 0\\\\\n",
       "\t 2 & 67 & Male & Cleveland & asymptomatic   & 160 & 286 & FALSE & lv hypertrophy & 108 &  TRUE & 1.5 & flat        & 3 & normal            & 2\\\\\n",
       "\t 3 & 67 & Male & Cleveland & asymptomatic   & 120 & 229 & FALSE & lv hypertrophy & 129 &  TRUE & 2.6 & flat        & 2 & reversable defect & 1\\\\\n",
       "\t ⋮ & ⋮ & ⋮ & ⋮ & ⋮ & ⋮ & ⋮ & ⋮ & ⋮ & ⋮ & ⋮ & ⋮ & ⋮ & ⋮ & ⋮ & ⋮\\\\\n",
       "\t 918 & 55 & Male & VA Long Beach & asymptomatic    & 122 & 223 &  TRUE & st-t abnormality & 100 & FALSE &  0 &  & NA & fixed defect & 2\\\\\n",
       "\t 919 & 58 & Male & VA Long Beach & asymptomatic    &  NA & 385 &  TRUE & lv hypertrophy   &  NA &    NA & NA &  & NA &              & 0\\\\\n",
       "\t 920 & 62 & Male & VA Long Beach & atypical angina & 120 & 254 & FALSE & lv hypertrophy   &  93 &  TRUE &  0 &  & NA &              & 1\\\\\n",
       "\\end{tabular}\n"
      ],
      "text/markdown": [
       "\n",
       "A data.frame: 920 × 16\n",
       "\n",
       "| id &lt;int&gt; | age &lt;int&gt; | sex &lt;chr&gt; | dataset &lt;chr&gt; | cp &lt;chr&gt; | trestbps &lt;int&gt; | chol &lt;int&gt; | fbs &lt;lgl&gt; | restecg &lt;chr&gt; | thalch &lt;int&gt; | exang &lt;lgl&gt; | oldpeak &lt;dbl&gt; | slope &lt;chr&gt; | ca &lt;int&gt; | thal &lt;chr&gt; | num &lt;int&gt; |\n",
       "|---|---|---|---|---|---|---|---|---|---|---|---|---|---|---|---|\n",
       "| 1 | 63 | Male | Cleveland | typical angina | 145 | 233 |  TRUE | lv hypertrophy | 150 | FALSE | 2.3 | downsloping | 0 | fixed defect      | 0 |\n",
       "| 2 | 67 | Male | Cleveland | asymptomatic   | 160 | 286 | FALSE | lv hypertrophy | 108 |  TRUE | 1.5 | flat        | 3 | normal            | 2 |\n",
       "| 3 | 67 | Male | Cleveland | asymptomatic   | 120 | 229 | FALSE | lv hypertrophy | 129 |  TRUE | 2.6 | flat        | 2 | reversable defect | 1 |\n",
       "| ⋮ | ⋮ | ⋮ | ⋮ | ⋮ | ⋮ | ⋮ | ⋮ | ⋮ | ⋮ | ⋮ | ⋮ | ⋮ | ⋮ | ⋮ | ⋮ |\n",
       "| 918 | 55 | Male | VA Long Beach | asymptomatic    | 122 | 223 |  TRUE | st-t abnormality | 100 | FALSE |  0 | <!----> | NA | fixed defect | 2 |\n",
       "| 919 | 58 | Male | VA Long Beach | asymptomatic    |  NA | 385 |  TRUE | lv hypertrophy   |  NA |    NA | NA | <!----> | NA | <!----> | 0 |\n",
       "| 920 | 62 | Male | VA Long Beach | atypical angina | 120 | 254 | FALSE | lv hypertrophy   |  93 |  TRUE |  0 | <!----> | NA | <!----> | 1 |\n",
       "\n"
      ],
      "text/plain": [
       "    id  age sex  dataset       cp              trestbps chol fbs  \n",
       "1   1   63  Male Cleveland     typical angina  145      233   TRUE\n",
       "2   2   67  Male Cleveland     asymptomatic    160      286  FALSE\n",
       "3   3   67  Male Cleveland     asymptomatic    120      229  FALSE\n",
       "⋮   ⋮   ⋮   ⋮    ⋮             ⋮               ⋮        ⋮    ⋮    \n",
       "918 918 55  Male VA Long Beach asymptomatic    122      223   TRUE\n",
       "919 919 58  Male VA Long Beach asymptomatic     NA      385   TRUE\n",
       "920 920 62  Male VA Long Beach atypical angina 120      254  FALSE\n",
       "    restecg          thalch exang oldpeak slope       ca thal              num\n",
       "1   lv hypertrophy   150    FALSE 2.3     downsloping 0  fixed defect      0  \n",
       "2   lv hypertrophy   108     TRUE 1.5     flat        3  normal            2  \n",
       "3   lv hypertrophy   129     TRUE 2.6     flat        2  reversable defect 1  \n",
       "⋮   ⋮                ⋮      ⋮     ⋮       ⋮           ⋮  ⋮                 ⋮  \n",
       "918 st-t abnormality 100    FALSE  0                  NA fixed defect      2  \n",
       "919 lv hypertrophy    NA       NA NA                  NA                   0  \n",
       "920 lv hypertrophy    93     TRUE  0                  NA                   1  "
      ]
     },
     "metadata": {},
     "output_type": "display_data"
    }
   ],
   "source": [
    "#Demonstrate that the dataset can be read from the web into R \n",
    "heart_data <- read.csv(\"data/heart_disease_uci.csv\")\n",
    "heart_data"
   ]
  },
  {
   "cell_type": "code",
   "execution_count": 3,
   "id": "4f9955fb",
   "metadata": {},
   "outputs": [
    {
     "data": {
      "text/html": [
       "<table class=\"dataframe\">\n",
       "<caption>A data.frame: 303 × 16</caption>\n",
       "<thead>\n",
       "\t<tr><th></th><th scope=col>age</th><th scope=col>sex</th><th scope=col>chest_pain</th><th scope=col>resting_blood_pressure</th><th scope=col>cholesterol</th><th scope=col>fasting_blood_sugar</th><th scope=col>rest_ecg</th><th scope=col>max_heart_rate</th><th scope=col>exercise_induced_angina</th><th scope=col>ST_depression</th><th scope=col>ST_slope</th><th scope=col>num_major_vessels</th><th scope=col>thalassemia</th><th scope=col>target</th><th scope=col>NA</th><th scope=col>NA</th></tr>\n",
       "\t<tr><th></th><th scope=col>&lt;int&gt;</th><th scope=col>&lt;int&gt;</th><th scope=col>&lt;chr&gt;</th><th scope=col>&lt;chr&gt;</th><th scope=col>&lt;chr&gt;</th><th scope=col>&lt;int&gt;</th><th scope=col>&lt;int&gt;</th><th scope=col>&lt;lgl&gt;</th><th scope=col>&lt;chr&gt;</th><th scope=col>&lt;int&gt;</th><th scope=col>&lt;lgl&gt;</th><th scope=col>&lt;dbl&gt;</th><th scope=col>&lt;chr&gt;</th><th scope=col>&lt;int&gt;</th><th scope=col>&lt;chr&gt;</th><th scope=col>&lt;int&gt;</th></tr>\n",
       "</thead>\n",
       "<tbody>\n",
       "\t<tr><th scope=row>1</th><td>1</td><td>63</td><td>Male</td><td>Cleveland</td><td>typical angina</td><td>145</td><td>233</td><td> TRUE</td><td>lv hypertrophy</td><td>150</td><td>FALSE</td><td>2.3</td><td>downsloping</td><td>0</td><td>fixed defect     </td><td>0</td></tr>\n",
       "\t<tr><th scope=row>2</th><td>2</td><td>67</td><td>Male</td><td>Cleveland</td><td>asymptomatic  </td><td>160</td><td>286</td><td>FALSE</td><td>lv hypertrophy</td><td>108</td><td> TRUE</td><td>1.5</td><td>flat       </td><td>3</td><td>normal           </td><td>2</td></tr>\n",
       "\t<tr><th scope=row>3</th><td>3</td><td>67</td><td>Male</td><td>Cleveland</td><td>asymptomatic  </td><td>120</td><td>229</td><td>FALSE</td><td>lv hypertrophy</td><td>129</td><td> TRUE</td><td>2.6</td><td>flat       </td><td>2</td><td>reversable defect</td><td>1</td></tr>\n",
       "\t<tr><th scope=row>⋮</th><td>⋮</td><td>⋮</td><td>⋮</td><td>⋮</td><td>⋮</td><td>⋮</td><td>⋮</td><td>⋮</td><td>⋮</td><td>⋮</td><td>⋮</td><td>⋮</td><td>⋮</td><td>⋮</td><td>⋮</td><td>⋮</td></tr>\n",
       "\t<tr><th scope=row>509</th><td>509</td><td>47</td><td>Male</td><td>Hungary      </td><td>asymptomatic</td><td>150</td><td>226</td><td>FALSE</td><td>normal          </td><td> 98</td><td>TRUE</td><td>1.5</td><td>flat</td><td>0</td><td>reversable defect</td><td>1</td></tr>\n",
       "\t<tr><th scope=row>749</th><td>749</td><td>56</td><td>Male</td><td>VA Long Beach</td><td>asymptomatic</td><td>120</td><td>100</td><td>FALSE</td><td>normal          </td><td>120</td><td>TRUE</td><td>1.5</td><td>flat</td><td>0</td><td>reversable defect</td><td>1</td></tr>\n",
       "\t<tr><th scope=row>760</th><td>760</td><td>59</td><td>Male</td><td>VA Long Beach</td><td>asymptomatic</td><td>154</td><td>  0</td><td>FALSE</td><td>st-t abnormality</td><td>131</td><td>TRUE</td><td>1.5</td><td>    </td><td>0</td><td>                 </td><td>0</td></tr>\n",
       "</tbody>\n",
       "</table>\n"
      ],
      "text/latex": [
       "A data.frame: 303 × 16\n",
       "\\begin{tabular}{r|llllllllllllllll}\n",
       "  & age & sex & chest\\_pain & resting\\_blood\\_pressure & cholesterol & fasting\\_blood\\_sugar & rest\\_ecg & max\\_heart\\_rate & exercise\\_induced\\_angina & ST\\_depression & ST\\_slope & num\\_major\\_vessels & thalassemia & target & NA & NA\\\\\n",
       "  & <int> & <int> & <chr> & <chr> & <chr> & <int> & <int> & <lgl> & <chr> & <int> & <lgl> & <dbl> & <chr> & <int> & <chr> & <int>\\\\\n",
       "\\hline\n",
       "\t1 & 1 & 63 & Male & Cleveland & typical angina & 145 & 233 &  TRUE & lv hypertrophy & 150 & FALSE & 2.3 & downsloping & 0 & fixed defect      & 0\\\\\n",
       "\t2 & 2 & 67 & Male & Cleveland & asymptomatic   & 160 & 286 & FALSE & lv hypertrophy & 108 &  TRUE & 1.5 & flat        & 3 & normal            & 2\\\\\n",
       "\t3 & 3 & 67 & Male & Cleveland & asymptomatic   & 120 & 229 & FALSE & lv hypertrophy & 129 &  TRUE & 2.6 & flat        & 2 & reversable defect & 1\\\\\n",
       "\t⋮ & ⋮ & ⋮ & ⋮ & ⋮ & ⋮ & ⋮ & ⋮ & ⋮ & ⋮ & ⋮ & ⋮ & ⋮ & ⋮ & ⋮ & ⋮ & ⋮\\\\\n",
       "\t509 & 509 & 47 & Male & Hungary       & asymptomatic & 150 & 226 & FALSE & normal           &  98 & TRUE & 1.5 & flat & 0 & reversable defect & 1\\\\\n",
       "\t749 & 749 & 56 & Male & VA Long Beach & asymptomatic & 120 & 100 & FALSE & normal           & 120 & TRUE & 1.5 & flat & 0 & reversable defect & 1\\\\\n",
       "\t760 & 760 & 59 & Male & VA Long Beach & asymptomatic & 154 &   0 & FALSE & st-t abnormality & 131 & TRUE & 1.5 &      & 0 &                   & 0\\\\\n",
       "\\end{tabular}\n"
      ],
      "text/markdown": [
       "\n",
       "A data.frame: 303 × 16\n",
       "\n",
       "| <!--/--> | age &lt;int&gt; | sex &lt;int&gt; | chest_pain &lt;chr&gt; | resting_blood_pressure &lt;chr&gt; | cholesterol &lt;chr&gt; | fasting_blood_sugar &lt;int&gt; | rest_ecg &lt;int&gt; | max_heart_rate &lt;lgl&gt; | exercise_induced_angina &lt;chr&gt; | ST_depression &lt;int&gt; | ST_slope &lt;lgl&gt; | num_major_vessels &lt;dbl&gt; | thalassemia &lt;chr&gt; | target &lt;int&gt; | NA &lt;chr&gt; | NA &lt;int&gt; |\n",
       "|---|---|---|---|---|---|---|---|---|---|---|---|---|---|---|---|---|\n",
       "| 1 | 1 | 63 | Male | Cleveland | typical angina | 145 | 233 |  TRUE | lv hypertrophy | 150 | FALSE | 2.3 | downsloping | 0 | fixed defect      | 0 |\n",
       "| 2 | 2 | 67 | Male | Cleveland | asymptomatic   | 160 | 286 | FALSE | lv hypertrophy | 108 |  TRUE | 1.5 | flat        | 3 | normal            | 2 |\n",
       "| 3 | 3 | 67 | Male | Cleveland | asymptomatic   | 120 | 229 | FALSE | lv hypertrophy | 129 |  TRUE | 2.6 | flat        | 2 | reversable defect | 1 |\n",
       "| ⋮ | ⋮ | ⋮ | ⋮ | ⋮ | ⋮ | ⋮ | ⋮ | ⋮ | ⋮ | ⋮ | ⋮ | ⋮ | ⋮ | ⋮ | ⋮ | ⋮ |\n",
       "| 509 | 509 | 47 | Male | Hungary       | asymptomatic | 150 | 226 | FALSE | normal           |  98 | TRUE | 1.5 | flat | 0 | reversable defect | 1 |\n",
       "| 749 | 749 | 56 | Male | VA Long Beach | asymptomatic | 120 | 100 | FALSE | normal           | 120 | TRUE | 1.5 | flat | 0 | reversable defect | 1 |\n",
       "| 760 | 760 | 59 | Male | VA Long Beach | asymptomatic | 154 |   0 | FALSE | st-t abnormality | 131 | TRUE | 1.5 | <!----> | 0 | <!----> | 0 |\n",
       "\n"
      ],
      "text/plain": [
       "    age sex chest_pain resting_blood_pressure cholesterol   \n",
       "1   1   63  Male       Cleveland              typical angina\n",
       "2   2   67  Male       Cleveland              asymptomatic  \n",
       "3   3   67  Male       Cleveland              asymptomatic  \n",
       "⋮   ⋮   ⋮   ⋮          ⋮                      ⋮             \n",
       "509 509 47  Male       Hungary                asymptomatic  \n",
       "749 749 56  Male       VA Long Beach          asymptomatic  \n",
       "760 760 59  Male       VA Long Beach          asymptomatic  \n",
       "    fasting_blood_sugar rest_ecg max_heart_rate exercise_induced_angina\n",
       "1   145                 233       TRUE          lv hypertrophy         \n",
       "2   160                 286      FALSE          lv hypertrophy         \n",
       "3   120                 229      FALSE          lv hypertrophy         \n",
       "⋮   ⋮                   ⋮        ⋮              ⋮                      \n",
       "509 150                 226      FALSE          normal                 \n",
       "749 120                 100      FALSE          normal                 \n",
       "760 154                   0      FALSE          st-t abnormality       \n",
       "    ST_depression ST_slope num_major_vessels thalassemia target\n",
       "1   150           FALSE    2.3               downsloping 0     \n",
       "2   108            TRUE    1.5               flat        3     \n",
       "3   129            TRUE    2.6               flat        2     \n",
       "⋮   ⋮             ⋮        ⋮                 ⋮           ⋮     \n",
       "509  98           TRUE     1.5               flat        0     \n",
       "749 120           TRUE     1.5               flat        0     \n",
       "760 131           TRUE     1.5                           0     \n",
       "    <NA>              <NA>\n",
       "1   fixed defect      0   \n",
       "2   normal            2   \n",
       "3   reversable defect 1   \n",
       "⋮   ⋮                 ⋮   \n",
       "509 reversable defect 1   \n",
       "749 reversable defect 1   \n",
       "760                   0   "
      ]
     },
     "metadata": {},
     "output_type": "display_data"
    }
   ],
   "source": [
    "#Clean and wrangle your data into a tidy format\n",
    "heart_data_2 <- na.omit(heart_data)\n",
    "colnames(heart_data_2) <- c(\"age\", \"sex\", \"chest_pain\", \"resting_blood_pressure\", \"cholesterol\", \"fasting_blood_sugar\", \"rest_ecg\", \"max_heart_rate\", \"exercise_induced_angina\", \"ST_depression\", \"ST_slope\", \"num_major_vessels\", \"thalassemia\", \"target\")\n",
    "heart_data_2"
   ]
  },
  {
   "cell_type": "code",
   "execution_count": 4,
   "id": "0e6e033e",
   "metadata": {},
   "outputs": [
    {
     "ename": "ERROR",
     "evalue": "Error in eval(expr, envir, enclos): object 'Hello' not found\n",
     "output_type": "error",
     "traceback": [
      "Error in eval(expr, envir, enclos): object 'Hello' not found\nTraceback:\n"
     ]
    }
   ],
   "source": [
    "#Using only training data, summarize the data in at least one table\n",
    "Hello"
   ]
  },
  {
   "cell_type": "code",
   "execution_count": 5,
   "id": "d090219a",
   "metadata": {},
   "outputs": [],
   "source": [
    "#Using only training data, visualize the data with at least one plot relevant to the analysis you plan to do\n"
   ]
  },
  {
   "cell_type": "markdown",
   "id": "9b070c51",
   "metadata": {},
   "source": [
    "**Methods:** \n",
    "\n",
    "Our data originally includes 14 variables We don’t plan to use it all. We are going to start with 12 and find the best combination of them. \n",
    "\n",
    "Our starting 12: #1,#2,#3,#4,#5,#6,#7,#8,#9,#10,#11,#13\n",
    "\n",
    "Excluding varible #12 - We are treating this as a null variable which just shows the amount of vessels they screened during the testing. \n",
    "                             But for our focus on physical indicators we are going to treat the data as if the number of vessels checked had no impact on the likelihood of finding \n",
    "                             heart disease. \n",
    "\n",
    "Predictor - #14 \n",
    "\n",
    "To narrow down to our 6 most accurate variables our data analysis will consist of\n",
    "1. Forward selection\n",
    "- Filter out null variable + predictor\n",
    "- Carry out forward selection (steps in 6.8.3 in textbook)  \n",
    "- Make table (accuracy of each string of predictors)  \n",
    "- Pick our best predictors \n",
    "2. Find best K neighbors value and plot accuracy vs. k-value\n",
    "3. Create model with best predictors and best k-value \n",
    "4. Use test data with predictor model, display with table. \n",
    "\n",
    "*Visualizations:* \n",
    "Best K neighbor visualization will be a line graph most likely plotting accuracy vs k number. Our best predictors visualization will be a table with three columns, size, model_string and accuracy. For our final visualization of the outcome of our model (having selected the best from the above two tests) will be a table depicting the predictor variables (Value 0 or Value 1) of our test data set. "
   ]
  },
  {
   "cell_type": "markdown",
   "id": "f2ef99ea",
   "metadata": {},
   "source": [
    "<<<<<<< REMOTE CELL DELETED >>>>>>>\n",
    "Methods: \n",
    ""
   ]
  },
  {
   "cell_type": "markdown",
   "id": "a98df3a1",
   "metadata": {},
   "source": [
    "Expected outcomes and significance:\n",
    "\n",
    "Through the process of forward selection and evaluating the accuracy of different combinations of predictors, we aim to identify the six most accurate variables for predicting heart disease from the dataset. Additionally, we plan to find the best value for the K-neighbors parameter in your model.\n",
    "\n",
    "By determining the most accurate predictors and optimizing the K value, this analysis can lead to a more efficient and accurate heart disease prediction model, as accurate prediction of heart disease can help in early detection, prevention, and timely treatment.\n",
    "\n",
    "Potential future questions:\n",
    "\n",
    "Are there any interactions or correlations between the selected predictors that affect the prediction of heart disease?\n",
    "\n",
    "Can additional variables or features from the dataset be incorporated to further improve the accuracy of the heart disease prediction model?\n"
   ]
  }
 ],
 "metadata": {
  "kernelspec": {
   "display_name": "R",
   "language": "R",
   "name": "ir"
  },
  "language_info": {
   "codemirror_mode": "r",
   "file_extension": ".r",
   "mimetype": "text/x-r-source",
   "name": "R",
   "pygments_lexer": "r",
   "version": "4.1.3"
  }
 },
 "nbformat": 4,
 "nbformat_minor": 5
}
