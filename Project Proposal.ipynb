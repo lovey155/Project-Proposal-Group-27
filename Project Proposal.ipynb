{
 "cells": [
  {
   "cell_type": "markdown",
   "id": "e39d6caa-1094-4349-ab77-ab149b1e7d58",
   "metadata": {},
   "source": [
    "Group #27's Project Proposal for DSCI 100 Sect.002"
   ]
  },
  {
   "cell_type": "markdown",
   "id": "f9ace6f3-a46c-429b-abd6-cfb32ebd3ed5",
   "metadata": {},
   "source": [
    "Title:"
   ]
  },
  {
   "cell_type": "markdown",
   "id": "4e0522ee-f3ef-4243-aa61-7739f202a8be",
   "metadata": {},
   "source": [
    "Introduction:"
   ]
  },
  {
   "cell_type": "code",
   "execution_count": 1,
   "id": "655c4b81-6535-451c-a64a-b49c4f5b7e2c",
   "metadata": {},
   "outputs": [
    {
     "name": "stderr",
     "output_type": "stream",
     "text": [
      "── \u001b[1mAttaching packages\u001b[22m ─────────────────────────────────────── tidyverse 1.3.1 ──\n",
      "\n",
      "\u001b[32m✔\u001b[39m \u001b[34mggplot2\u001b[39m 3.3.6     \u001b[32m✔\u001b[39m \u001b[34mpurrr  \u001b[39m 0.3.4\n",
      "\u001b[32m✔\u001b[39m \u001b[34mtibble \u001b[39m 3.1.7     \u001b[32m✔\u001b[39m \u001b[34mdplyr  \u001b[39m 1.0.9\n",
      "\u001b[32m✔\u001b[39m \u001b[34mtidyr  \u001b[39m 1.2.0     \u001b[32m✔\u001b[39m \u001b[34mstringr\u001b[39m 1.4.0\n",
      "\u001b[32m✔\u001b[39m \u001b[34mreadr  \u001b[39m 2.1.2     \u001b[32m✔\u001b[39m \u001b[34mforcats\u001b[39m 0.5.1\n",
      "\n",
      "── \u001b[1mConflicts\u001b[22m ────────────────────────────────────────── tidyverse_conflicts() ──\n",
      "\u001b[31m✖\u001b[39m \u001b[34mdplyr\u001b[39m::\u001b[32mfilter()\u001b[39m masks \u001b[34mstats\u001b[39m::filter()\n",
      "\u001b[31m✖\u001b[39m \u001b[34mdplyr\u001b[39m::\u001b[32mlag()\u001b[39m    masks \u001b[34mstats\u001b[39m::lag()\n",
      "\n",
      "── \u001b[1mAttaching packages\u001b[22m ────────────────────────────────────── tidymodels 1.0.0 ──\n",
      "\n",
      "\u001b[32m✔\u001b[39m \u001b[34mbroom       \u001b[39m 1.0.0     \u001b[32m✔\u001b[39m \u001b[34mrsample     \u001b[39m 1.0.0\n",
      "\u001b[32m✔\u001b[39m \u001b[34mdials       \u001b[39m 1.0.0     \u001b[32m✔\u001b[39m \u001b[34mtune        \u001b[39m 1.0.0\n",
      "\u001b[32m✔\u001b[39m \u001b[34minfer       \u001b[39m 1.0.2     \u001b[32m✔\u001b[39m \u001b[34mworkflows   \u001b[39m 1.0.0\n",
      "\u001b[32m✔\u001b[39m \u001b[34mmodeldata   \u001b[39m 1.0.0     \u001b[32m✔\u001b[39m \u001b[34mworkflowsets\u001b[39m 1.0.0\n",
      "\u001b[32m✔\u001b[39m \u001b[34mparsnip     \u001b[39m 1.0.0     \u001b[32m✔\u001b[39m \u001b[34myardstick   \u001b[39m 1.0.0\n",
      "\u001b[32m✔\u001b[39m \u001b[34mrecipes     \u001b[39m 1.0.1     \n",
      "\n",
      "── \u001b[1mConflicts\u001b[22m ───────────────────────────────────────── tidymodels_conflicts() ──\n",
      "\u001b[31m✖\u001b[39m \u001b[34mscales\u001b[39m::\u001b[32mdiscard()\u001b[39m masks \u001b[34mpurrr\u001b[39m::discard()\n",
      "\u001b[31m✖\u001b[39m \u001b[34mdplyr\u001b[39m::\u001b[32mfilter()\u001b[39m   masks \u001b[34mstats\u001b[39m::filter()\n",
      "\u001b[31m✖\u001b[39m \u001b[34mrecipes\u001b[39m::\u001b[32mfixed()\u001b[39m  masks \u001b[34mstringr\u001b[39m::fixed()\n",
      "\u001b[31m✖\u001b[39m \u001b[34mdplyr\u001b[39m::\u001b[32mlag()\u001b[39m      masks \u001b[34mstats\u001b[39m::lag()\n",
      "\u001b[31m✖\u001b[39m \u001b[34myardstick\u001b[39m::\u001b[32mspec()\u001b[39m masks \u001b[34mreadr\u001b[39m::spec()\n",
      "\u001b[31m✖\u001b[39m \u001b[34mrecipes\u001b[39m::\u001b[32mstep()\u001b[39m   masks \u001b[34mstats\u001b[39m::step()\n",
      "\u001b[34m•\u001b[39m Use suppressPackageStartupMessages() to eliminate package startup messages\n",
      "\n",
      "Warning message in file(filename, \"r\", encoding = encoding):\n",
      "“cannot open file 'tests.R': No such file or directory”\n"
     ]
    },
    {
     "ename": "ERROR",
     "evalue": "Error in file(filename, \"r\", encoding = encoding): cannot open the connection\n",
     "output_type": "error",
     "traceback": [
      "Error in file(filename, \"r\", encoding = encoding): cannot open the connection\nTraceback:\n",
      "1. source(\"tests.R\")",
      "2. file(filename, \"r\", encoding = encoding)"
     ]
    }
   ],
   "source": [
    "library(tidyverse)\n",
    "library(repr)\n",
    "library(tidymodels)\n",
    "options(repr.matrix.max.rows = 6)\n",
    "source(\"tests.R\")\n",
    "source('cleanup.R')"
   ]
  },
  {
   "cell_type": "code",
   "execution_count": 36,
   "id": "57338411-d339-4c08-a952-d95fb049a200",
   "metadata": {},
   "outputs": [
    {
     "data": {
      "text/html": [
       "<table class=\"dataframe\">\n",
       "<caption>A data.frame: 920 × 16</caption>\n",
       "<thead>\n",
       "\t<tr><th scope=col>id</th><th scope=col>age</th><th scope=col>sex</th><th scope=col>dataset</th><th scope=col>cp</th><th scope=col>trestbps</th><th scope=col>chol</th><th scope=col>fbs</th><th scope=col>restecg</th><th scope=col>thalch</th><th scope=col>exang</th><th scope=col>oldpeak</th><th scope=col>slope</th><th scope=col>ca</th><th scope=col>thal</th><th scope=col>num</th></tr>\n",
       "\t<tr><th scope=col>&lt;int&gt;</th><th scope=col>&lt;int&gt;</th><th scope=col>&lt;chr&gt;</th><th scope=col>&lt;chr&gt;</th><th scope=col>&lt;chr&gt;</th><th scope=col>&lt;int&gt;</th><th scope=col>&lt;int&gt;</th><th scope=col>&lt;lgl&gt;</th><th scope=col>&lt;chr&gt;</th><th scope=col>&lt;int&gt;</th><th scope=col>&lt;lgl&gt;</th><th scope=col>&lt;dbl&gt;</th><th scope=col>&lt;chr&gt;</th><th scope=col>&lt;int&gt;</th><th scope=col>&lt;chr&gt;</th><th scope=col>&lt;int&gt;</th></tr>\n",
       "</thead>\n",
       "<tbody>\n",
       "\t<tr><td>1</td><td>63</td><td>Male</td><td>Cleveland</td><td>typical angina</td><td>145</td><td>233</td><td> TRUE</td><td>lv hypertrophy</td><td>150</td><td>FALSE</td><td>2.3</td><td>downsloping</td><td>0</td><td>fixed defect     </td><td>0</td></tr>\n",
       "\t<tr><td>2</td><td>67</td><td>Male</td><td>Cleveland</td><td>asymptomatic  </td><td>160</td><td>286</td><td>FALSE</td><td>lv hypertrophy</td><td>108</td><td> TRUE</td><td>1.5</td><td>flat       </td><td>3</td><td>normal           </td><td>2</td></tr>\n",
       "\t<tr><td>3</td><td>67</td><td>Male</td><td>Cleveland</td><td>asymptomatic  </td><td>120</td><td>229</td><td>FALSE</td><td>lv hypertrophy</td><td>129</td><td> TRUE</td><td>2.6</td><td>flat       </td><td>2</td><td>reversable defect</td><td>1</td></tr>\n",
       "\t<tr><td>⋮</td><td>⋮</td><td>⋮</td><td>⋮</td><td>⋮</td><td>⋮</td><td>⋮</td><td>⋮</td><td>⋮</td><td>⋮</td><td>⋮</td><td>⋮</td><td>⋮</td><td>⋮</td><td>⋮</td><td>⋮</td></tr>\n",
       "\t<tr><td>918</td><td>55</td><td>Male</td><td>VA Long Beach</td><td>asymptomatic   </td><td>122</td><td>223</td><td> TRUE</td><td>st-t abnormality</td><td>100</td><td>FALSE</td><td> 0</td><td></td><td>NA</td><td>fixed defect</td><td>2</td></tr>\n",
       "\t<tr><td>919</td><td>58</td><td>Male</td><td>VA Long Beach</td><td>asymptomatic   </td><td> NA</td><td>385</td><td> TRUE</td><td>lv hypertrophy  </td><td> NA</td><td>   NA</td><td>NA</td><td></td><td>NA</td><td>            </td><td>0</td></tr>\n",
       "\t<tr><td>920</td><td>62</td><td>Male</td><td>VA Long Beach</td><td>atypical angina</td><td>120</td><td>254</td><td>FALSE</td><td>lv hypertrophy  </td><td> 93</td><td> TRUE</td><td> 0</td><td></td><td>NA</td><td>            </td><td>1</td></tr>\n",
       "</tbody>\n",
       "</table>\n"
      ],
      "text/latex": [
       "A data.frame: 920 × 16\n",
       "\\begin{tabular}{llllllllllllllll}\n",
       " id & age & sex & dataset & cp & trestbps & chol & fbs & restecg & thalch & exang & oldpeak & slope & ca & thal & num\\\\\n",
       " <int> & <int> & <chr> & <chr> & <chr> & <int> & <int> & <lgl> & <chr> & <int> & <lgl> & <dbl> & <chr> & <int> & <chr> & <int>\\\\\n",
       "\\hline\n",
       "\t 1 & 63 & Male & Cleveland & typical angina & 145 & 233 &  TRUE & lv hypertrophy & 150 & FALSE & 2.3 & downsloping & 0 & fixed defect      & 0\\\\\n",
       "\t 2 & 67 & Male & Cleveland & asymptomatic   & 160 & 286 & FALSE & lv hypertrophy & 108 &  TRUE & 1.5 & flat        & 3 & normal            & 2\\\\\n",
       "\t 3 & 67 & Male & Cleveland & asymptomatic   & 120 & 229 & FALSE & lv hypertrophy & 129 &  TRUE & 2.6 & flat        & 2 & reversable defect & 1\\\\\n",
       "\t ⋮ & ⋮ & ⋮ & ⋮ & ⋮ & ⋮ & ⋮ & ⋮ & ⋮ & ⋮ & ⋮ & ⋮ & ⋮ & ⋮ & ⋮ & ⋮\\\\\n",
       "\t 918 & 55 & Male & VA Long Beach & asymptomatic    & 122 & 223 &  TRUE & st-t abnormality & 100 & FALSE &  0 &  & NA & fixed defect & 2\\\\\n",
       "\t 919 & 58 & Male & VA Long Beach & asymptomatic    &  NA & 385 &  TRUE & lv hypertrophy   &  NA &    NA & NA &  & NA &              & 0\\\\\n",
       "\t 920 & 62 & Male & VA Long Beach & atypical angina & 120 & 254 & FALSE & lv hypertrophy   &  93 &  TRUE &  0 &  & NA &              & 1\\\\\n",
       "\\end{tabular}\n"
      ],
      "text/markdown": [
       "\n",
       "A data.frame: 920 × 16\n",
       "\n",
       "| id &lt;int&gt; | age &lt;int&gt; | sex &lt;chr&gt; | dataset &lt;chr&gt; | cp &lt;chr&gt; | trestbps &lt;int&gt; | chol &lt;int&gt; | fbs &lt;lgl&gt; | restecg &lt;chr&gt; | thalch &lt;int&gt; | exang &lt;lgl&gt; | oldpeak &lt;dbl&gt; | slope &lt;chr&gt; | ca &lt;int&gt; | thal &lt;chr&gt; | num &lt;int&gt; |\n",
       "|---|---|---|---|---|---|---|---|---|---|---|---|---|---|---|---|\n",
       "| 1 | 63 | Male | Cleveland | typical angina | 145 | 233 |  TRUE | lv hypertrophy | 150 | FALSE | 2.3 | downsloping | 0 | fixed defect      | 0 |\n",
       "| 2 | 67 | Male | Cleveland | asymptomatic   | 160 | 286 | FALSE | lv hypertrophy | 108 |  TRUE | 1.5 | flat        | 3 | normal            | 2 |\n",
       "| 3 | 67 | Male | Cleveland | asymptomatic   | 120 | 229 | FALSE | lv hypertrophy | 129 |  TRUE | 2.6 | flat        | 2 | reversable defect | 1 |\n",
       "| ⋮ | ⋮ | ⋮ | ⋮ | ⋮ | ⋮ | ⋮ | ⋮ | ⋮ | ⋮ | ⋮ | ⋮ | ⋮ | ⋮ | ⋮ | ⋮ |\n",
       "| 918 | 55 | Male | VA Long Beach | asymptomatic    | 122 | 223 |  TRUE | st-t abnormality | 100 | FALSE |  0 | <!----> | NA | fixed defect | 2 |\n",
       "| 919 | 58 | Male | VA Long Beach | asymptomatic    |  NA | 385 |  TRUE | lv hypertrophy   |  NA |    NA | NA | <!----> | NA | <!----> | 0 |\n",
       "| 920 | 62 | Male | VA Long Beach | atypical angina | 120 | 254 | FALSE | lv hypertrophy   |  93 |  TRUE |  0 | <!----> | NA | <!----> | 1 |\n",
       "\n"
      ],
      "text/plain": [
       "    id  age sex  dataset       cp              trestbps chol fbs  \n",
       "1   1   63  Male Cleveland     typical angina  145      233   TRUE\n",
       "2   2   67  Male Cleveland     asymptomatic    160      286  FALSE\n",
       "3   3   67  Male Cleveland     asymptomatic    120      229  FALSE\n",
       "⋮   ⋮   ⋮   ⋮    ⋮             ⋮               ⋮        ⋮    ⋮    \n",
       "918 918 55  Male VA Long Beach asymptomatic    122      223   TRUE\n",
       "919 919 58  Male VA Long Beach asymptomatic     NA      385   TRUE\n",
       "920 920 62  Male VA Long Beach atypical angina 120      254  FALSE\n",
       "    restecg          thalch exang oldpeak slope       ca thal              num\n",
       "1   lv hypertrophy   150    FALSE 2.3     downsloping 0  fixed defect      0  \n",
       "2   lv hypertrophy   108     TRUE 1.5     flat        3  normal            2  \n",
       "3   lv hypertrophy   129     TRUE 2.6     flat        2  reversable defect 1  \n",
       "⋮   ⋮                ⋮      ⋮     ⋮       ⋮           ⋮  ⋮                 ⋮  \n",
       "918 st-t abnormality 100    FALSE  0                  NA fixed defect      2  \n",
       "919 lv hypertrophy    NA       NA NA                  NA                   0  \n",
       "920 lv hypertrophy    93     TRUE  0                  NA                   1  "
      ]
     },
     "metadata": {},
     "output_type": "display_data"
    }
   ],
   "source": [
    "#Demonstrate that the dataset can be read from the web into R \n",
    "heart_data <- read.csv(\"data/heart_disease_uci.csv\")\n",
    "heart_data"
   ]
  },
  {
   "cell_type": "code",
   "execution_count": 53,
   "id": "3633f7e6-a1c3-475b-b150-03748852e1ca",
   "metadata": {},
   "outputs": [
    {
     "data": {
      "text/html": [
       "<table class=\"dataframe\">\n",
       "<caption>A data.frame: 303 × 14</caption>\n",
       "<thead>\n",
       "\t<tr><th></th><th scope=col>age</th><th scope=col>sex</th><th scope=col>chest_pain</th><th scope=col>resting_blood_pressure</th><th scope=col>cholesterol</th><th scope=col>fasting_blood_sugar</th><th scope=col>rest_ecg</th><th scope=col>max_heart_rate</th><th scope=col>exercise_induced_angina</th><th scope=col>ST_depression</th><th scope=col>ST_slope</th><th scope=col>num_major_vessels</th><th scope=col>thalassemia</th><th scope=col>target</th></tr>\n",
       "\t<tr><th></th><th scope=col>&lt;int&gt;</th><th scope=col>&lt;chr&gt;</th><th scope=col>&lt;chr&gt;</th><th scope=col>&lt;int&gt;</th><th scope=col>&lt;int&gt;</th><th scope=col>&lt;lgl&gt;</th><th scope=col>&lt;chr&gt;</th><th scope=col>&lt;int&gt;</th><th scope=col>&lt;lgl&gt;</th><th scope=col>&lt;dbl&gt;</th><th scope=col>&lt;chr&gt;</th><th scope=col>&lt;int&gt;</th><th scope=col>&lt;chr&gt;</th><th scope=col>&lt;int&gt;</th></tr>\n",
       "</thead>\n",
       "<tbody>\n",
       "\t<tr><th scope=row>1</th><td>63</td><td>Male</td><td>typical angina</td><td>145</td><td>233</td><td> TRUE</td><td>lv hypertrophy</td><td>150</td><td>FALSE</td><td>2.3</td><td>downsloping</td><td>0</td><td>fixed defect     </td><td>0</td></tr>\n",
       "\t<tr><th scope=row>2</th><td>67</td><td>Male</td><td>asymptomatic  </td><td>160</td><td>286</td><td>FALSE</td><td>lv hypertrophy</td><td>108</td><td> TRUE</td><td>1.5</td><td>flat       </td><td>3</td><td>normal           </td><td>2</td></tr>\n",
       "\t<tr><th scope=row>3</th><td>67</td><td>Male</td><td>asymptomatic  </td><td>120</td><td>229</td><td>FALSE</td><td>lv hypertrophy</td><td>129</td><td> TRUE</td><td>2.6</td><td>flat       </td><td>2</td><td>reversable defect</td><td>1</td></tr>\n",
       "\t<tr><th scope=row>⋮</th><td>⋮</td><td>⋮</td><td>⋮</td><td>⋮</td><td>⋮</td><td>⋮</td><td>⋮</td><td>⋮</td><td>⋮</td><td>⋮</td><td>⋮</td><td>⋮</td><td>⋮</td><td>⋮</td></tr>\n",
       "\t<tr><th scope=row>301</th><td>47</td><td>Male</td><td>asymptomatic</td><td>150</td><td>226</td><td>FALSE</td><td>normal          </td><td> 98</td><td>TRUE</td><td>1.5</td><td>flat</td><td>0</td><td>reversable defect</td><td>1</td></tr>\n",
       "\t<tr><th scope=row>302</th><td>56</td><td>Male</td><td>asymptomatic</td><td>120</td><td>100</td><td>FALSE</td><td>normal          </td><td>120</td><td>TRUE</td><td>1.5</td><td>flat</td><td>0</td><td>reversable defect</td><td>1</td></tr>\n",
       "\t<tr><th scope=row>303</th><td>59</td><td>Male</td><td>asymptomatic</td><td>154</td><td>  0</td><td>FALSE</td><td>st-t abnormality</td><td>131</td><td>TRUE</td><td>1.5</td><td>    </td><td>0</td><td>                 </td><td>0</td></tr>\n",
       "</tbody>\n",
       "</table>\n"
      ],
      "text/latex": [
       "A data.frame: 303 × 14\n",
       "\\begin{tabular}{r|llllllllllllll}\n",
       "  & age & sex & chest\\_pain & resting\\_blood\\_pressure & cholesterol & fasting\\_blood\\_sugar & rest\\_ecg & max\\_heart\\_rate & exercise\\_induced\\_angina & ST\\_depression & ST\\_slope & num\\_major\\_vessels & thalassemia & target\\\\\n",
       "  & <int> & <chr> & <chr> & <int> & <int> & <lgl> & <chr> & <int> & <lgl> & <dbl> & <chr> & <int> & <chr> & <int>\\\\\n",
       "\\hline\n",
       "\t1 & 63 & Male & typical angina & 145 & 233 &  TRUE & lv hypertrophy & 150 & FALSE & 2.3 & downsloping & 0 & fixed defect      & 0\\\\\n",
       "\t2 & 67 & Male & asymptomatic   & 160 & 286 & FALSE & lv hypertrophy & 108 &  TRUE & 1.5 & flat        & 3 & normal            & 2\\\\\n",
       "\t3 & 67 & Male & asymptomatic   & 120 & 229 & FALSE & lv hypertrophy & 129 &  TRUE & 2.6 & flat        & 2 & reversable defect & 1\\\\\n",
       "\t⋮ & ⋮ & ⋮ & ⋮ & ⋮ & ⋮ & ⋮ & ⋮ & ⋮ & ⋮ & ⋮ & ⋮ & ⋮ & ⋮ & ⋮\\\\\n",
       "\t301 & 47 & Male & asymptomatic & 150 & 226 & FALSE & normal           &  98 & TRUE & 1.5 & flat & 0 & reversable defect & 1\\\\\n",
       "\t302 & 56 & Male & asymptomatic & 120 & 100 & FALSE & normal           & 120 & TRUE & 1.5 & flat & 0 & reversable defect & 1\\\\\n",
       "\t303 & 59 & Male & asymptomatic & 154 &   0 & FALSE & st-t abnormality & 131 & TRUE & 1.5 &      & 0 &                   & 0\\\\\n",
       "\\end{tabular}\n"
      ],
      "text/markdown": [
       "\n",
       "A data.frame: 303 × 14\n",
       "\n",
       "| <!--/--> | age &lt;int&gt; | sex &lt;chr&gt; | chest_pain &lt;chr&gt; | resting_blood_pressure &lt;int&gt; | cholesterol &lt;int&gt; | fasting_blood_sugar &lt;lgl&gt; | rest_ecg &lt;chr&gt; | max_heart_rate &lt;int&gt; | exercise_induced_angina &lt;lgl&gt; | ST_depression &lt;dbl&gt; | ST_slope &lt;chr&gt; | num_major_vessels &lt;int&gt; | thalassemia &lt;chr&gt; | target &lt;int&gt; |\n",
       "|---|---|---|---|---|---|---|---|---|---|---|---|---|---|---|\n",
       "| 1 | 63 | Male | typical angina | 145 | 233 |  TRUE | lv hypertrophy | 150 | FALSE | 2.3 | downsloping | 0 | fixed defect      | 0 |\n",
       "| 2 | 67 | Male | asymptomatic   | 160 | 286 | FALSE | lv hypertrophy | 108 |  TRUE | 1.5 | flat        | 3 | normal            | 2 |\n",
       "| 3 | 67 | Male | asymptomatic   | 120 | 229 | FALSE | lv hypertrophy | 129 |  TRUE | 2.6 | flat        | 2 | reversable defect | 1 |\n",
       "| ⋮ | ⋮ | ⋮ | ⋮ | ⋮ | ⋮ | ⋮ | ⋮ | ⋮ | ⋮ | ⋮ | ⋮ | ⋮ | ⋮ | ⋮ |\n",
       "| 301 | 47 | Male | asymptomatic | 150 | 226 | FALSE | normal           |  98 | TRUE | 1.5 | flat | 0 | reversable defect | 1 |\n",
       "| 302 | 56 | Male | asymptomatic | 120 | 100 | FALSE | normal           | 120 | TRUE | 1.5 | flat | 0 | reversable defect | 1 |\n",
       "| 303 | 59 | Male | asymptomatic | 154 |   0 | FALSE | st-t abnormality | 131 | TRUE | 1.5 | <!----> | 0 | <!----> | 0 |\n",
       "\n"
      ],
      "text/plain": [
       "    age sex  chest_pain     resting_blood_pressure cholesterol\n",
       "1   63  Male typical angina 145                    233        \n",
       "2   67  Male asymptomatic   160                    286        \n",
       "3   67  Male asymptomatic   120                    229        \n",
       "⋮   ⋮   ⋮    ⋮              ⋮                      ⋮          \n",
       "301 47  Male asymptomatic   150                    226        \n",
       "302 56  Male asymptomatic   120                    100        \n",
       "303 59  Male asymptomatic   154                      0        \n",
       "    fasting_blood_sugar rest_ecg         max_heart_rate exercise_induced_angina\n",
       "1    TRUE               lv hypertrophy   150            FALSE                  \n",
       "2   FALSE               lv hypertrophy   108             TRUE                  \n",
       "3   FALSE               lv hypertrophy   129             TRUE                  \n",
       "⋮   ⋮                   ⋮                ⋮              ⋮                      \n",
       "301 FALSE               normal            98            TRUE                   \n",
       "302 FALSE               normal           120            TRUE                   \n",
       "303 FALSE               st-t abnormality 131            TRUE                   \n",
       "    ST_depression ST_slope    num_major_vessels thalassemia       target\n",
       "1   2.3           downsloping 0                 fixed defect      0     \n",
       "2   1.5           flat        3                 normal            2     \n",
       "3   2.6           flat        2                 reversable defect 1     \n",
       "⋮   ⋮             ⋮           ⋮                 ⋮                 ⋮     \n",
       "301 1.5           flat        0                 reversable defect 1     \n",
       "302 1.5           flat        0                 reversable defect 1     \n",
       "303 1.5                       0                                   0     "
      ]
     },
     "metadata": {},
     "output_type": "display_data"
    }
   ],
   "source": [
    "#Clean and wrangle your data into a tidy format\n",
    "heart_data_2 <- na.omit(heart_data)\n",
    "colnames(heart_data_2) <- c(\"age\", \"sex\", \"chest_pain\", \"resting_blood_pressure\", \"cholesterol\", \"fasting_blood_sugar\", \"rest_ecg\", \"max_heart_rate\", \"exercise_induced_angina\", \"ST_depression\", \"ST_slope\", \"num_major_vessels\", \"thalassemia\", \"target\")\n",
    "heart_data_2"
   ]
  },
  {
   "cell_type": "code",
   "execution_count": null,
   "id": "5aeb81a2-f789-4704-a408-058e92765b85",
   "metadata": {},
   "outputs": [],
   "source": [
    "#Using only training data, summarize the data in at least one table\n"
   ]
  },
  {
   "cell_type": "code",
   "execution_count": null,
   "id": "a49dc8ce-8026-45ba-bbad-ac8c7d71b653",
   "metadata": {},
   "outputs": [],
   "source": [
    "#Using only training data, visualize the data with at least one plot relevant to the analysis you plan to do\n"
   ]
  }
 ],
 "metadata": {
  "kernelspec": {
   "display_name": "R",
   "language": "R",
   "name": "ir"
  },
  "language_info": {
   "codemirror_mode": "r",
   "file_extension": ".r",
   "mimetype": "text/x-r-source",
   "name": "R",
   "pygments_lexer": "r",
   "version": "4.1.3"
  }
 },
 "nbformat": 4,
 "nbformat_minor": 5
}
