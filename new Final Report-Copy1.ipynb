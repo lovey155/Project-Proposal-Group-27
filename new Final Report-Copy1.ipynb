{
 "cells": [
  {
   "cell_type": "markdown",
   "id": "3167e9af",
   "metadata": {},
   "source": [
    "**Group #27's Project Proposal for DSCI 100 Sect.002**\n",
    "\n",
    "Ella Woolcott, Nylah Grewal, Anoushka Gautam, Loveleen Chandi"
   ]
  },
  {
   "cell_type": "markdown",
   "id": "a67678be",
   "metadata": {},
   "source": [
    "**Predicting Diagnosis of Heart Disease Based on Physical Indicator Variables**"
   ]
  },
  {
   "cell_type": "markdown",
   "id": "73f442b7",
   "metadata": {},
   "source": [
    "**Introduction**\n",
    "\n",
    "Heart disease is a general term used to describe multiple medical conditions relating to the heart. Analyzing data relating to heart disease can have broad applications in public health and medicine, as heart disease is a leading cause of death. Symptoms of heart disease include chest pains, heart palpitations, and clogged blood vessels. Risk factors include high blood pressure and cholesterol. These variables are observed in the data set…upon wrangling the data, we may observe relationships between the patient’s symptoms and outcome/diagnosis.\n",
    "\n",
    "The predictive question we are going to answer is:\n",
    "What variables give the most reliable and accurate predictor outcome? \n",
    "\n",
    "The heart disease data set we have chosen to analyze comes from a machine learning repository and contains 4 databases from Cleveland, Long Beach, Hungary, and Switzerland. The dataset contains a lot of medical terminology, as shown in the table of 14 variables. The possible observations for each variable in the data set are categorical, integer, or numerical values.\n"
   ]
  },
  {
   "cell_type": "markdown",
   "id": "aabd78df",
   "metadata": {},
   "source": [
    "| Atrribute Number | Varible | Observations Possible | Definition | \n",
    "|  :----: |    :----:   |  :----:  |  :----:  |\n",
    "| 1     | age       | numerical value  | number in years |\n",
    "| 2   | sex        | 1 = male; 0 = female      |self-explanatory      |\n",
    "| 3   | chest_pain | Value 1: typical angina, Value 2: atypical angina, Value 3: non-anginal pain, Value 4: asymptomatic     |chest pain type |\n",
    "| 4   | resting_blood_pressure        | in mm Hg on admission to the hospital     |resting blood pressure  |\n",
    "| 5   | cholesterol        |  in mg/dl     |serum cholesterol       |\n",
    "| 6   | fasting_blood_sugar        | 1 = presence of diabetes (or blood sugar of >120mg/dl) and 0 = absence of diabetes (or blood sugar of <120mg/dl)    |fasting blood sugar > 120 mg/dl      |\n",
    "| 7   | rest_ecg        |Value 0: normal, Value 1: having ST-T wave abnormality (T wave inversions and/or ST elevation or depression of > 0.05 mV), Value 2: showing probable or definite left ventricular hypertrophy by Estes' criteria      |resting electrocardiographic results    |\n",
    "| 8   | max_heart_rate       | numerical value      |maximum heart rate achieved   |\n",
    "| 9   | exercise_induced_angina        | (1 = yes; 0 = no)      |exercise induced angina      |\n",
    "| 10   | oldpeak        | numerical value     |ST depression induced by exercise relative to rest      |\n",
    "| 11  | ST_slope        | Value 1: upsloping, Value 2: flat, Value 3: downsloping      |the slope of the peak exercise ST segment     |\n",
    "| 12   | thalassemia        |3 = normal; 6 = fixed defect; 7 = reversible defect       |A blood disorder called thalassemia      |\n",
    "| 13  | diagnosis        | Value 0: < 50% diameter, Value 1: > 50% diameter narrowing (in any major vessel: attributes 59 through 68 are vessels), meaning 0 = absence of heart disease while 1 = presence of heart disease      |diagnosis of heart disease (angiographic disease status)      |"
   ]
  },
  {
   "cell_type": "markdown",
   "id": "d5c16338-27c9-47bd-954f-011aaf9eb562",
   "metadata": {},
   "source": [
    "**Methods and Results**"
   ]
  },
  {
   "cell_type": "code",
   "execution_count": 1,
   "id": "95f89ae4",
   "metadata": {},
   "outputs": [
    {
     "name": "stderr",
     "output_type": "stream",
     "text": [
      "Updating HTML index of packages in '.Library'\n",
      "\n",
      "Making 'packages.html' ...\n",
      " done\n",
      "\n",
      "── \u001b[1mAttaching packages\u001b[22m ─────────────────────────────────────── tidyverse 1.3.1 ──\n",
      "\n",
      "\u001b[32m✔\u001b[39m \u001b[34mggplot2\u001b[39m 3.3.6     \u001b[32m✔\u001b[39m \u001b[34mpurrr  \u001b[39m 0.3.4\n",
      "\u001b[32m✔\u001b[39m \u001b[34mtibble \u001b[39m 3.1.7     \u001b[32m✔\u001b[39m \u001b[34mdplyr  \u001b[39m 1.0.9\n",
      "\u001b[32m✔\u001b[39m \u001b[34mtidyr  \u001b[39m 1.2.0     \u001b[32m✔\u001b[39m \u001b[34mstringr\u001b[39m 1.4.0\n",
      "\u001b[32m✔\u001b[39m \u001b[34mreadr  \u001b[39m 2.1.2     \u001b[32m✔\u001b[39m \u001b[34mforcats\u001b[39m 0.5.1\n",
      "\n",
      "── \u001b[1mConflicts\u001b[22m ────────────────────────────────────────── tidyverse_conflicts() ──\n",
      "\u001b[31m✖\u001b[39m \u001b[34mdplyr\u001b[39m::\u001b[32mfilter()\u001b[39m masks \u001b[34mstats\u001b[39m::filter()\n",
      "\u001b[31m✖\u001b[39m \u001b[34mdplyr\u001b[39m::\u001b[32mlag()\u001b[39m    masks \u001b[34mstats\u001b[39m::lag()\n",
      "\n",
      "── \u001b[1mAttaching packages\u001b[22m ────────────────────────────────────── tidymodels 1.0.0 ──\n",
      "\n",
      "\u001b[32m✔\u001b[39m \u001b[34mbroom       \u001b[39m 1.0.0     \u001b[32m✔\u001b[39m \u001b[34mrsample     \u001b[39m 1.0.0\n",
      "\u001b[32m✔\u001b[39m \u001b[34mdials       \u001b[39m 1.0.0     \u001b[32m✔\u001b[39m \u001b[34mtune        \u001b[39m 1.0.0\n",
      "\u001b[32m✔\u001b[39m \u001b[34minfer       \u001b[39m 1.0.2     \u001b[32m✔\u001b[39m \u001b[34mworkflows   \u001b[39m 1.0.0\n",
      "\u001b[32m✔\u001b[39m \u001b[34mmodeldata   \u001b[39m 1.0.0     \u001b[32m✔\u001b[39m \u001b[34mworkflowsets\u001b[39m 1.0.0\n",
      "\u001b[32m✔\u001b[39m \u001b[34mparsnip     \u001b[39m 1.0.0     \u001b[32m✔\u001b[39m \u001b[34myardstick   \u001b[39m 1.0.0\n",
      "\u001b[32m✔\u001b[39m \u001b[34mrecipes     \u001b[39m 1.0.1     \n",
      "\n",
      "── \u001b[1mConflicts\u001b[22m ───────────────────────────────────────── tidymodels_conflicts() ──\n",
      "\u001b[31m✖\u001b[39m \u001b[34mscales\u001b[39m::\u001b[32mdiscard()\u001b[39m masks \u001b[34mpurrr\u001b[39m::discard()\n",
      "\u001b[31m✖\u001b[39m \u001b[34mdplyr\u001b[39m::\u001b[32mfilter()\u001b[39m   masks \u001b[34mstats\u001b[39m::filter()\n",
      "\u001b[31m✖\u001b[39m \u001b[34mrecipes\u001b[39m::\u001b[32mfixed()\u001b[39m  masks \u001b[34mstringr\u001b[39m::fixed()\n",
      "\u001b[31m✖\u001b[39m \u001b[34mdplyr\u001b[39m::\u001b[32mlag()\u001b[39m      masks \u001b[34mstats\u001b[39m::lag()\n",
      "\u001b[31m✖\u001b[39m \u001b[34myardstick\u001b[39m::\u001b[32mspec()\u001b[39m masks \u001b[34mreadr\u001b[39m::spec()\n",
      "\u001b[31m✖\u001b[39m \u001b[34mrecipes\u001b[39m::\u001b[32mstep()\u001b[39m   masks \u001b[34mstats\u001b[39m::step()\n",
      "\u001b[34m•\u001b[39m Dig deeper into tidy modeling with R at \u001b[32mhttps://www.tmwr.org\u001b[39m\n",
      "\n"
     ]
    }
   ],
   "source": [
    "install.packages(\"leaps\")\n",
    "library(tidyverse)\n",
    "library(repr)\n",
    "library(tidymodels)\n",
    "library(leaps)\n",
    "options(repr.matrix.max.rows = 6)"
   ]
  },
  {
   "cell_type": "markdown",
   "id": "1de371a5-f786-4ee0-bfc0-f8065ecaee66",
   "metadata": {},
   "source": [
    "**Step 1:** \n",
    "Demonstrate that the dataset can be read from the web into R"
   ]
  },
  {
   "cell_type": "code",
   "execution_count": 2,
   "id": "82670cb0",
   "metadata": {},
   "outputs": [
    {
     "data": {
      "text/html": [
       "<table class=\"dataframe\">\n",
       "<caption>A data.frame: 303 × 14</caption>\n",
       "<thead>\n",
       "\t<tr><th scope=col>V1</th><th scope=col>V2</th><th scope=col>V3</th><th scope=col>V4</th><th scope=col>V5</th><th scope=col>V6</th><th scope=col>V7</th><th scope=col>V8</th><th scope=col>V9</th><th scope=col>V10</th><th scope=col>V11</th><th scope=col>V12</th><th scope=col>V13</th><th scope=col>V14</th></tr>\n",
       "\t<tr><th scope=col>&lt;dbl&gt;</th><th scope=col>&lt;dbl&gt;</th><th scope=col>&lt;dbl&gt;</th><th scope=col>&lt;dbl&gt;</th><th scope=col>&lt;dbl&gt;</th><th scope=col>&lt;dbl&gt;</th><th scope=col>&lt;dbl&gt;</th><th scope=col>&lt;dbl&gt;</th><th scope=col>&lt;dbl&gt;</th><th scope=col>&lt;dbl&gt;</th><th scope=col>&lt;dbl&gt;</th><th scope=col>&lt;chr&gt;</th><th scope=col>&lt;chr&gt;</th><th scope=col>&lt;int&gt;</th></tr>\n",
       "</thead>\n",
       "<tbody>\n",
       "\t<tr><td>63</td><td>1</td><td>1</td><td>145</td><td>233</td><td>1</td><td>2</td><td>150</td><td>0</td><td>2.3</td><td>3</td><td>0.0</td><td>6.0</td><td>0</td></tr>\n",
       "\t<tr><td>67</td><td>1</td><td>4</td><td>160</td><td>286</td><td>0</td><td>2</td><td>108</td><td>1</td><td>1.5</td><td>2</td><td>3.0</td><td>3.0</td><td>2</td></tr>\n",
       "\t<tr><td>67</td><td>1</td><td>4</td><td>120</td><td>229</td><td>0</td><td>2</td><td>129</td><td>1</td><td>2.6</td><td>2</td><td>2.0</td><td>7.0</td><td>1</td></tr>\n",
       "\t<tr><td>⋮</td><td>⋮</td><td>⋮</td><td>⋮</td><td>⋮</td><td>⋮</td><td>⋮</td><td>⋮</td><td>⋮</td><td>⋮</td><td>⋮</td><td>⋮</td><td>⋮</td><td>⋮</td></tr>\n",
       "\t<tr><td>57</td><td>1</td><td>4</td><td>130</td><td>131</td><td>0</td><td>0</td><td>115</td><td>1</td><td>1.2</td><td>2</td><td>1.0</td><td>7.0</td><td>3</td></tr>\n",
       "\t<tr><td>57</td><td>0</td><td>2</td><td>130</td><td>236</td><td>0</td><td>2</td><td>174</td><td>0</td><td>0.0</td><td>2</td><td>1.0</td><td>3.0</td><td>1</td></tr>\n",
       "\t<tr><td>38</td><td>1</td><td>3</td><td>138</td><td>175</td><td>0</td><td>0</td><td>173</td><td>0</td><td>0.0</td><td>1</td><td>?  </td><td>3.0</td><td>0</td></tr>\n",
       "</tbody>\n",
       "</table>\n"
      ],
      "text/latex": [
       "A data.frame: 303 × 14\n",
       "\\begin{tabular}{llllllllllllll}\n",
       " V1 & V2 & V3 & V4 & V5 & V6 & V7 & V8 & V9 & V10 & V11 & V12 & V13 & V14\\\\\n",
       " <dbl> & <dbl> & <dbl> & <dbl> & <dbl> & <dbl> & <dbl> & <dbl> & <dbl> & <dbl> & <dbl> & <chr> & <chr> & <int>\\\\\n",
       "\\hline\n",
       "\t 63 & 1 & 1 & 145 & 233 & 1 & 2 & 150 & 0 & 2.3 & 3 & 0.0 & 6.0 & 0\\\\\n",
       "\t 67 & 1 & 4 & 160 & 286 & 0 & 2 & 108 & 1 & 1.5 & 2 & 3.0 & 3.0 & 2\\\\\n",
       "\t 67 & 1 & 4 & 120 & 229 & 0 & 2 & 129 & 1 & 2.6 & 2 & 2.0 & 7.0 & 1\\\\\n",
       "\t ⋮ & ⋮ & ⋮ & ⋮ & ⋮ & ⋮ & ⋮ & ⋮ & ⋮ & ⋮ & ⋮ & ⋮ & ⋮ & ⋮\\\\\n",
       "\t 57 & 1 & 4 & 130 & 131 & 0 & 0 & 115 & 1 & 1.2 & 2 & 1.0 & 7.0 & 3\\\\\n",
       "\t 57 & 0 & 2 & 130 & 236 & 0 & 2 & 174 & 0 & 0.0 & 2 & 1.0 & 3.0 & 1\\\\\n",
       "\t 38 & 1 & 3 & 138 & 175 & 0 & 0 & 173 & 0 & 0.0 & 1 & ?   & 3.0 & 0\\\\\n",
       "\\end{tabular}\n"
      ],
      "text/markdown": [
       "\n",
       "A data.frame: 303 × 14\n",
       "\n",
       "| V1 &lt;dbl&gt; | V2 &lt;dbl&gt; | V3 &lt;dbl&gt; | V4 &lt;dbl&gt; | V5 &lt;dbl&gt; | V6 &lt;dbl&gt; | V7 &lt;dbl&gt; | V8 &lt;dbl&gt; | V9 &lt;dbl&gt; | V10 &lt;dbl&gt; | V11 &lt;dbl&gt; | V12 &lt;chr&gt; | V13 &lt;chr&gt; | V14 &lt;int&gt; |\n",
       "|---|---|---|---|---|---|---|---|---|---|---|---|---|---|\n",
       "| 63 | 1 | 1 | 145 | 233 | 1 | 2 | 150 | 0 | 2.3 | 3 | 0.0 | 6.0 | 0 |\n",
       "| 67 | 1 | 4 | 160 | 286 | 0 | 2 | 108 | 1 | 1.5 | 2 | 3.0 | 3.0 | 2 |\n",
       "| 67 | 1 | 4 | 120 | 229 | 0 | 2 | 129 | 1 | 2.6 | 2 | 2.0 | 7.0 | 1 |\n",
       "| ⋮ | ⋮ | ⋮ | ⋮ | ⋮ | ⋮ | ⋮ | ⋮ | ⋮ | ⋮ | ⋮ | ⋮ | ⋮ | ⋮ |\n",
       "| 57 | 1 | 4 | 130 | 131 | 0 | 0 | 115 | 1 | 1.2 | 2 | 1.0 | 7.0 | 3 |\n",
       "| 57 | 0 | 2 | 130 | 236 | 0 | 2 | 174 | 0 | 0.0 | 2 | 1.0 | 3.0 | 1 |\n",
       "| 38 | 1 | 3 | 138 | 175 | 0 | 0 | 173 | 0 | 0.0 | 1 | ?   | 3.0 | 0 |\n",
       "\n"
      ],
      "text/plain": [
       "    V1 V2 V3 V4  V5  V6 V7 V8  V9 V10 V11 V12 V13 V14\n",
       "1   63 1  1  145 233 1  2  150 0  2.3 3   0.0 6.0 0  \n",
       "2   67 1  4  160 286 0  2  108 1  1.5 2   3.0 3.0 2  \n",
       "3   67 1  4  120 229 0  2  129 1  2.6 2   2.0 7.0 1  \n",
       "⋮   ⋮  ⋮  ⋮  ⋮   ⋮   ⋮  ⋮  ⋮   ⋮  ⋮   ⋮   ⋮   ⋮   ⋮  \n",
       "301 57 1  4  130 131 0  0  115 1  1.2 2   1.0 7.0 3  \n",
       "302 57 0  2  130 236 0  2  174 0  0.0 2   1.0 3.0 1  \n",
       "303 38 1  3  138 175 0  0  173 0  0.0 1   ?   3.0 0  "
      ]
     },
     "metadata": {},
     "output_type": "display_data"
    }
   ],
   "source": [
    "heart_data<- read.csv(\"https://archive.ics.uci.edu/ml/machine-learning-databases/heart-disease/processed.cleveland.data\", header = FALSE)\n",
    "heart_data"
   ]
  },
  {
   "cell_type": "markdown",
   "id": "4edb24f7-c42d-44c1-8d3c-8db0ae563a84",
   "metadata": {},
   "source": [
    "**Step 2:**\n",
    "Clean and wrangle your data into a tidy format"
   ]
  },
  {
   "cell_type": "code",
   "execution_count": 35,
   "id": "cc5e395f-54db-4dd2-9f23-1b64064e4023",
   "metadata": {},
   "outputs": [
    {
     "data": {
      "text/html": [
       "<style>\n",
       ".list-inline {list-style: none; margin:0; padding: 0}\n",
       ".list-inline>li {display: inline-block}\n",
       ".list-inline>li:not(:last-child)::after {content: \"\\00b7\"; padding: 0 .5ex}\n",
       "</style>\n",
       "<ol class=list-inline><li>'age'</li><li>'sex'</li><li>'chest_pain'</li><li>'resting_blood_pressure'</li><li>'cholesterol'</li><li>'fasting_blood_sugar'</li><li>'rest_ecg'</li><li>'max_heart_rate'</li><li>'exercise_induced_angina'</li><li>'ST_depression'</li><li>'ST_slope'</li><li>'num_major_vessels'</li><li>'thalassemia'</li><li>'diagnosis'</li></ol>\n"
      ],
      "text/latex": [
       "\\begin{enumerate*}\n",
       "\\item 'age'\n",
       "\\item 'sex'\n",
       "\\item 'chest\\_pain'\n",
       "\\item 'resting\\_blood\\_pressure'\n",
       "\\item 'cholesterol'\n",
       "\\item 'fasting\\_blood\\_sugar'\n",
       "\\item 'rest\\_ecg'\n",
       "\\item 'max\\_heart\\_rate'\n",
       "\\item 'exercise\\_induced\\_angina'\n",
       "\\item 'ST\\_depression'\n",
       "\\item 'ST\\_slope'\n",
       "\\item 'num\\_major\\_vessels'\n",
       "\\item 'thalassemia'\n",
       "\\item 'diagnosis'\n",
       "\\end{enumerate*}\n"
      ],
      "text/markdown": [
       "1. 'age'\n",
       "2. 'sex'\n",
       "3. 'chest_pain'\n",
       "4. 'resting_blood_pressure'\n",
       "5. 'cholesterol'\n",
       "6. 'fasting_blood_sugar'\n",
       "7. 'rest_ecg'\n",
       "8. 'max_heart_rate'\n",
       "9. 'exercise_induced_angina'\n",
       "10. 'ST_depression'\n",
       "11. 'ST_slope'\n",
       "12. 'num_major_vessels'\n",
       "13. 'thalassemia'\n",
       "14. 'diagnosis'\n",
       "\n",
       "\n"
      ],
      "text/plain": [
       " [1] \"age\"                     \"sex\"                    \n",
       " [3] \"chest_pain\"              \"resting_blood_pressure\" \n",
       " [5] \"cholesterol\"             \"fasting_blood_sugar\"    \n",
       " [7] \"rest_ecg\"                \"max_heart_rate\"         \n",
       " [9] \"exercise_induced_angina\" \"ST_depression\"          \n",
       "[11] \"ST_slope\"                \"num_major_vessels\"      \n",
       "[13] \"thalassemia\"             \"diagnosis\"              "
      ]
     },
     "metadata": {},
     "output_type": "display_data"
    },
    {
     "data": {
      "text/html": [
       "<table class=\"dataframe\">\n",
       "<caption>A data.frame: 303 × 12</caption>\n",
       "<thead>\n",
       "\t<tr><th scope=col>age</th><th scope=col>sex</th><th scope=col>chest_pain</th><th scope=col>resting_blood_pressure</th><th scope=col>cholesterol</th><th scope=col>fasting_blood_sugar</th><th scope=col>rest_ecg</th><th scope=col>max_heart_rate</th><th scope=col>exercise_induced_angina</th><th scope=col>ST_slope</th><th scope=col>thalassemia</th><th scope=col>diagnosis</th></tr>\n",
       "\t<tr><th scope=col>&lt;dbl&gt;</th><th scope=col>&lt;dbl&gt;</th><th scope=col>&lt;dbl&gt;</th><th scope=col>&lt;dbl&gt;</th><th scope=col>&lt;dbl&gt;</th><th scope=col>&lt;dbl&gt;</th><th scope=col>&lt;dbl&gt;</th><th scope=col>&lt;dbl&gt;</th><th scope=col>&lt;dbl&gt;</th><th scope=col>&lt;dbl&gt;</th><th scope=col>&lt;chr&gt;</th><th scope=col>&lt;int&gt;</th></tr>\n",
       "</thead>\n",
       "<tbody>\n",
       "\t<tr><td>63</td><td>1</td><td>1</td><td>145</td><td>233</td><td>1</td><td>2</td><td>150</td><td>0</td><td>3</td><td>6.0</td><td>0</td></tr>\n",
       "\t<tr><td>67</td><td>1</td><td>4</td><td>160</td><td>286</td><td>0</td><td>2</td><td>108</td><td>1</td><td>2</td><td>3.0</td><td>2</td></tr>\n",
       "\t<tr><td>67</td><td>1</td><td>4</td><td>120</td><td>229</td><td>0</td><td>2</td><td>129</td><td>1</td><td>2</td><td>7.0</td><td>1</td></tr>\n",
       "\t<tr><td>⋮</td><td>⋮</td><td>⋮</td><td>⋮</td><td>⋮</td><td>⋮</td><td>⋮</td><td>⋮</td><td>⋮</td><td>⋮</td><td>⋮</td><td>⋮</td></tr>\n",
       "\t<tr><td>57</td><td>1</td><td>4</td><td>130</td><td>131</td><td>0</td><td>0</td><td>115</td><td>1</td><td>2</td><td>7.0</td><td>3</td></tr>\n",
       "\t<tr><td>57</td><td>0</td><td>2</td><td>130</td><td>236</td><td>0</td><td>2</td><td>174</td><td>0</td><td>2</td><td>3.0</td><td>1</td></tr>\n",
       "\t<tr><td>38</td><td>1</td><td>3</td><td>138</td><td>175</td><td>0</td><td>0</td><td>173</td><td>0</td><td>1</td><td>3.0</td><td>0</td></tr>\n",
       "</tbody>\n",
       "</table>\n"
      ],
      "text/latex": [
       "A data.frame: 303 × 12\n",
       "\\begin{tabular}{llllllllllll}\n",
       " age & sex & chest\\_pain & resting\\_blood\\_pressure & cholesterol & fasting\\_blood\\_sugar & rest\\_ecg & max\\_heart\\_rate & exercise\\_induced\\_angina & ST\\_slope & thalassemia & diagnosis\\\\\n",
       " <dbl> & <dbl> & <dbl> & <dbl> & <dbl> & <dbl> & <dbl> & <dbl> & <dbl> & <dbl> & <chr> & <int>\\\\\n",
       "\\hline\n",
       "\t 63 & 1 & 1 & 145 & 233 & 1 & 2 & 150 & 0 & 3 & 6.0 & 0\\\\\n",
       "\t 67 & 1 & 4 & 160 & 286 & 0 & 2 & 108 & 1 & 2 & 3.0 & 2\\\\\n",
       "\t 67 & 1 & 4 & 120 & 229 & 0 & 2 & 129 & 1 & 2 & 7.0 & 1\\\\\n",
       "\t ⋮ & ⋮ & ⋮ & ⋮ & ⋮ & ⋮ & ⋮ & ⋮ & ⋮ & ⋮ & ⋮ & ⋮\\\\\n",
       "\t 57 & 1 & 4 & 130 & 131 & 0 & 0 & 115 & 1 & 2 & 7.0 & 3\\\\\n",
       "\t 57 & 0 & 2 & 130 & 236 & 0 & 2 & 174 & 0 & 2 & 3.0 & 1\\\\\n",
       "\t 38 & 1 & 3 & 138 & 175 & 0 & 0 & 173 & 0 & 1 & 3.0 & 0\\\\\n",
       "\\end{tabular}\n"
      ],
      "text/markdown": [
       "\n",
       "A data.frame: 303 × 12\n",
       "\n",
       "| age &lt;dbl&gt; | sex &lt;dbl&gt; | chest_pain &lt;dbl&gt; | resting_blood_pressure &lt;dbl&gt; | cholesterol &lt;dbl&gt; | fasting_blood_sugar &lt;dbl&gt; | rest_ecg &lt;dbl&gt; | max_heart_rate &lt;dbl&gt; | exercise_induced_angina &lt;dbl&gt; | ST_slope &lt;dbl&gt; | thalassemia &lt;chr&gt; | diagnosis &lt;int&gt; |\n",
       "|---|---|---|---|---|---|---|---|---|---|---|---|\n",
       "| 63 | 1 | 1 | 145 | 233 | 1 | 2 | 150 | 0 | 3 | 6.0 | 0 |\n",
       "| 67 | 1 | 4 | 160 | 286 | 0 | 2 | 108 | 1 | 2 | 3.0 | 2 |\n",
       "| 67 | 1 | 4 | 120 | 229 | 0 | 2 | 129 | 1 | 2 | 7.0 | 1 |\n",
       "| ⋮ | ⋮ | ⋮ | ⋮ | ⋮ | ⋮ | ⋮ | ⋮ | ⋮ | ⋮ | ⋮ | ⋮ |\n",
       "| 57 | 1 | 4 | 130 | 131 | 0 | 0 | 115 | 1 | 2 | 7.0 | 3 |\n",
       "| 57 | 0 | 2 | 130 | 236 | 0 | 2 | 174 | 0 | 2 | 3.0 | 1 |\n",
       "| 38 | 1 | 3 | 138 | 175 | 0 | 0 | 173 | 0 | 1 | 3.0 | 0 |\n",
       "\n"
      ],
      "text/plain": [
       "    age sex chest_pain resting_blood_pressure cholesterol fasting_blood_sugar\n",
       "1   63  1   1          145                    233         1                  \n",
       "2   67  1   4          160                    286         0                  \n",
       "3   67  1   4          120                    229         0                  \n",
       "⋮   ⋮   ⋮   ⋮          ⋮                      ⋮           ⋮                  \n",
       "301 57  1   4          130                    131         0                  \n",
       "302 57  0   2          130                    236         0                  \n",
       "303 38  1   3          138                    175         0                  \n",
       "    rest_ecg max_heart_rate exercise_induced_angina ST_slope thalassemia\n",
       "1   2        150            0                       3        6.0        \n",
       "2   2        108            1                       2        3.0        \n",
       "3   2        129            1                       2        7.0        \n",
       "⋮   ⋮        ⋮              ⋮                       ⋮        ⋮          \n",
       "301 0        115            1                       2        7.0        \n",
       "302 2        174            0                       2        3.0        \n",
       "303 0        173            0                       1        3.0        \n",
       "    diagnosis\n",
       "1   0        \n",
       "2   2        \n",
       "3   1        \n",
       "⋮   ⋮        \n",
       "301 3        \n",
       "302 1        \n",
       "303 0        "
      ]
     },
     "metadata": {},
     "output_type": "display_data"
    }
   ],
   "source": [
    "colnames(heart_data) <- c(\"age\", \"sex\", \"chest_pain\", \"resting_blood_pressure\", \"cholesterol\", \"fasting_blood_sugar\", \"rest_ecg\", \"max_heart_rate\", \"exercise_induced_angina\", \"ST_depression\", \"ST_slope\", \"num_major_vessels\", \"thalassemia\", \"diagnosis\")\n",
    "colnames(heart_data)\n",
    "heart_data_clean <- heart_data[c(\"age\", \"sex\", \"chest_pain\", \"resting_blood_pressure\", \"cholesterol\", \"fasting_blood_sugar\", \"rest_ecg\", \"max_heart_rate\", \"exercise_induced_angina\", \"ST_slope\", \"thalassemia\", \"diagnosis\")]\n",
    "heart_data_clean"
   ]
  },
  {
   "cell_type": "markdown",
   "id": "8684b95b-b9e0-4a73-aa87-f2b7b069725c",
   "metadata": {},
   "source": [
    "**Step 3:** \n",
    "Convert necessary columns to factors"
   ]
  },
  {
   "cell_type": "code",
   "execution_count": 34,
   "id": "418bd038-5c21-456c-8334-ed94fad5eb9d",
   "metadata": {},
   "outputs": [
    {
     "data": {
      "text/html": [
       "<table class=\"dataframe\">\n",
       "<caption>A data.frame: 303 × 12</caption>\n",
       "<thead>\n",
       "\t<tr><th scope=col>age</th><th scope=col>sex</th><th scope=col>chest_pain</th><th scope=col>resting_blood_pressure</th><th scope=col>cholesterol</th><th scope=col>fasting_blood_sugar</th><th scope=col>rest_ecg</th><th scope=col>max_heart_rate</th><th scope=col>exercise_induced_angina</th><th scope=col>ST_slope</th><th scope=col>thalassemia</th><th scope=col>diagnosis</th></tr>\n",
       "\t<tr><th scope=col>&lt;dbl&gt;</th><th scope=col>&lt;fct&gt;</th><th scope=col>&lt;fct&gt;</th><th scope=col>&lt;dbl&gt;</th><th scope=col>&lt;dbl&gt;</th><th scope=col>&lt;fct&gt;</th><th scope=col>&lt;fct&gt;</th><th scope=col>&lt;dbl&gt;</th><th scope=col>&lt;fct&gt;</th><th scope=col>&lt;fct&gt;</th><th scope=col>&lt;fct&gt;</th><th scope=col>&lt;fct&gt;</th></tr>\n",
       "</thead>\n",
       "<tbody>\n",
       "\t<tr><td>63</td><td>1</td><td>1</td><td>145</td><td>233</td><td>1</td><td>2</td><td>150</td><td>0</td><td>3</td><td>NA</td><td>0</td></tr>\n",
       "\t<tr><td>67</td><td>1</td><td>4</td><td>160</td><td>286</td><td>0</td><td>2</td><td>108</td><td>1</td><td>2</td><td>NA</td><td>1</td></tr>\n",
       "\t<tr><td>67</td><td>1</td><td>4</td><td>120</td><td>229</td><td>0</td><td>2</td><td>129</td><td>1</td><td>2</td><td>NA</td><td>1</td></tr>\n",
       "\t<tr><td>⋮</td><td>⋮</td><td>⋮</td><td>⋮</td><td>⋮</td><td>⋮</td><td>⋮</td><td>⋮</td><td>⋮</td><td>⋮</td><td>⋮</td><td>⋮</td></tr>\n",
       "\t<tr><td>57</td><td>1</td><td>4</td><td>130</td><td>131</td><td>0</td><td>0</td><td>115</td><td>1</td><td>2</td><td>NA</td><td>1</td></tr>\n",
       "\t<tr><td>57</td><td>0</td><td>2</td><td>130</td><td>236</td><td>0</td><td>2</td><td>174</td><td>0</td><td>2</td><td>NA</td><td>1</td></tr>\n",
       "\t<tr><td>38</td><td>1</td><td>3</td><td>138</td><td>175</td><td>0</td><td>0</td><td>173</td><td>0</td><td>1</td><td>NA</td><td>0</td></tr>\n",
       "</tbody>\n",
       "</table>\n"
      ],
      "text/latex": [
       "A data.frame: 303 × 12\n",
       "\\begin{tabular}{llllllllllll}\n",
       " age & sex & chest\\_pain & resting\\_blood\\_pressure & cholesterol & fasting\\_blood\\_sugar & rest\\_ecg & max\\_heart\\_rate & exercise\\_induced\\_angina & ST\\_slope & thalassemia & diagnosis\\\\\n",
       " <dbl> & <fct> & <fct> & <dbl> & <dbl> & <fct> & <fct> & <dbl> & <fct> & <fct> & <fct> & <fct>\\\\\n",
       "\\hline\n",
       "\t 63 & 1 & 1 & 145 & 233 & 1 & 2 & 150 & 0 & 3 & NA & 0\\\\\n",
       "\t 67 & 1 & 4 & 160 & 286 & 0 & 2 & 108 & 1 & 2 & NA & 1\\\\\n",
       "\t 67 & 1 & 4 & 120 & 229 & 0 & 2 & 129 & 1 & 2 & NA & 1\\\\\n",
       "\t ⋮ & ⋮ & ⋮ & ⋮ & ⋮ & ⋮ & ⋮ & ⋮ & ⋮ & ⋮ & ⋮ & ⋮\\\\\n",
       "\t 57 & 1 & 4 & 130 & 131 & 0 & 0 & 115 & 1 & 2 & NA & 1\\\\\n",
       "\t 57 & 0 & 2 & 130 & 236 & 0 & 2 & 174 & 0 & 2 & NA & 1\\\\\n",
       "\t 38 & 1 & 3 & 138 & 175 & 0 & 0 & 173 & 0 & 1 & NA & 0\\\\\n",
       "\\end{tabular}\n"
      ],
      "text/markdown": [
       "\n",
       "A data.frame: 303 × 12\n",
       "\n",
       "| age &lt;dbl&gt; | sex &lt;fct&gt; | chest_pain &lt;fct&gt; | resting_blood_pressure &lt;dbl&gt; | cholesterol &lt;dbl&gt; | fasting_blood_sugar &lt;fct&gt; | rest_ecg &lt;fct&gt; | max_heart_rate &lt;dbl&gt; | exercise_induced_angina &lt;fct&gt; | ST_slope &lt;fct&gt; | thalassemia &lt;fct&gt; | diagnosis &lt;fct&gt; |\n",
       "|---|---|---|---|---|---|---|---|---|---|---|---|\n",
       "| 63 | 1 | 1 | 145 | 233 | 1 | 2 | 150 | 0 | 3 | NA | 0 |\n",
       "| 67 | 1 | 4 | 160 | 286 | 0 | 2 | 108 | 1 | 2 | NA | 1 |\n",
       "| 67 | 1 | 4 | 120 | 229 | 0 | 2 | 129 | 1 | 2 | NA | 1 |\n",
       "| ⋮ | ⋮ | ⋮ | ⋮ | ⋮ | ⋮ | ⋮ | ⋮ | ⋮ | ⋮ | ⋮ | ⋮ |\n",
       "| 57 | 1 | 4 | 130 | 131 | 0 | 0 | 115 | 1 | 2 | NA | 1 |\n",
       "| 57 | 0 | 2 | 130 | 236 | 0 | 2 | 174 | 0 | 2 | NA | 1 |\n",
       "| 38 | 1 | 3 | 138 | 175 | 0 | 0 | 173 | 0 | 1 | NA | 0 |\n",
       "\n"
      ],
      "text/plain": [
       "    age sex chest_pain resting_blood_pressure cholesterol fasting_blood_sugar\n",
       "1   63  1   1          145                    233         1                  \n",
       "2   67  1   4          160                    286         0                  \n",
       "3   67  1   4          120                    229         0                  \n",
       "⋮   ⋮   ⋮   ⋮          ⋮                      ⋮           ⋮                  \n",
       "301 57  1   4          130                    131         0                  \n",
       "302 57  0   2          130                    236         0                  \n",
       "303 38  1   3          138                    175         0                  \n",
       "    rest_ecg max_heart_rate exercise_induced_angina ST_slope thalassemia\n",
       "1   2        150            0                       3        NA         \n",
       "2   2        108            1                       2        NA         \n",
       "3   2        129            1                       2        NA         \n",
       "⋮   ⋮        ⋮              ⋮                       ⋮        ⋮          \n",
       "301 0        115            1                       2        NA         \n",
       "302 2        174            0                       2        NA         \n",
       "303 0        173            0                       1        NA         \n",
       "    diagnosis\n",
       "1   0        \n",
       "2   1        \n",
       "3   1        \n",
       "⋮   ⋮        \n",
       "301 1        \n",
       "302 1        \n",
       "303 0        "
      ]
     },
     "metadata": {},
     "output_type": "display_data"
    }
   ],
   "source": [
    "heart_data_clean$sex <- as.factor(heart_data_clean$sex)\n",
    "heart_data_clean$chest_pain <- as.factor(heart_data_clean$chest_pain)\n",
    "heart_data_clean$fasting_blood_sugar <- as.factor(heart_data_clean$fasting_blood_sugar)\n",
    "heart_data_clean$rest_ecg <- factor(heart_data_clean$rest_ecg, levels = c(\"0\", \"1\", \"2\"))\n",
    "heart_data_clean$exercise_induced_angina <- as.factor(heart_data_clean$exercise_induced_angina)\n",
    "heart_data_clean$ST_slope <- as.factor(heart_data_clean$ST_slope)\n",
    "heart_data_clean$thalassemia <- factor(heart_data_clean$thalassemia, levels = c(\"3\", \"6\", \"7\"))\n",
    "\n",
    "heart_data_clean$diagnosis[heart_data_clean$diagnosis == 0] <- 0\n",
    "heart_data_clean$diagnosis[heart_data_clean$diagnosis == 1] <- 1\n",
    "heart_data_clean$diagnosis[heart_data_clean$diagnosis == 2] <- 1\n",
    "heart_data_clean$diagnosis[heart_data_clean$diagnosis == 3] <- 1\n",
    "heart_data_clean$diagnosis[heart_data_clean$diagnosis == 4] <- 1\n",
    "heart_data_clean$diagnosis <- as.factor(heart_data_clean$diagnosis)\n",
    "\n",
    "heart_data_clean"
   ]
  },
  {
   "cell_type": "markdown",
   "id": "d9a014d4-11b8-4d71-bf66-8d3f946286f5",
   "metadata": {},
   "source": [
    "**Step 4:** \n",
    "Split into training and testing data"
   ]
  },
  {
   "cell_type": "code",
   "execution_count": 5,
   "id": "f4bcc58e-578d-433f-b113-9bd7f3f79d55",
   "metadata": {},
   "outputs": [],
   "source": [
    "set.seed(20)\n",
    "heart_split <- initial_split(heart_data_clean, prop = 0.75, strata = diagnosis)\n",
    "heart_train <- training(heart_split)\n",
    "heart_test <- testing(heart_split)"
   ]
  },
  {
   "cell_type": "markdown",
   "id": "48e3fc95-63e6-4e9d-a31b-24b062c9b9de",
   "metadata": {},
   "source": [
    "**Step 5:** Predictor Selection - select relevant columns as predictor variables"
   ]
  },
  {
   "cell_type": "code",
   "execution_count": 6,
   "id": "3520323d-c20c-4507-8826-4dc2e4e84cb4",
   "metadata": {},
   "outputs": [],
   "source": [
    "set.seed(20)\n",
    "heart_data_select <- heart_train |>\n",
    "    mutate(diagnosis = as.numeric(diagnosis))|>\n",
    "    select(-thalassemia)"
   ]
  },
  {
   "cell_type": "markdown",
   "id": "4f25fc0b-6ca2-4f83-8780-f18553dc95cd",
   "metadata": {},
   "source": [
    "**Step 6:**\n",
    "Perform feature selection using a model"
   ]
  },
  {
   "cell_type": "code",
   "execution_count": 7,
   "id": "d1673d87-eecf-4a24-ada6-b556f0ed9bbf",
   "metadata": {},
   "outputs": [
    {
     "data": {
      "text/plain": [
       "\n",
       "Call:\n",
       "lm(formula = diagnosis ~ ., data = heart_data_select)\n",
       "\n",
       "Residuals:\n",
       "     Min       1Q   Median       3Q      Max \n",
       "-0.99558 -0.24019  0.00302  0.23696  0.93151 \n",
       "\n",
       "Coefficients:\n",
       "                           Estimate Std. Error t value Pr(>|t|)    \n",
       "(Intercept)               0.3122762  0.3801506   0.821 0.412311    \n",
       "age                       0.0043893  0.0032296   1.359 0.175571    \n",
       "sex1                      0.2619880  0.0585181   4.477 1.24e-05 ***\n",
       "chest_pain2               0.0456387  0.1107429   0.412 0.680672    \n",
       "chest_pain3               0.0372372  0.1004071   0.371 0.711110    \n",
       "chest_pain4               0.3839245  0.0991471   3.872 0.000144 ***\n",
       "resting_blood_pressure    0.0031256  0.0015316   2.041 0.042518 *  \n",
       "cholesterol               0.0004895  0.0005269   0.929 0.354007    \n",
       "fasting_blood_sugar1     -0.0048510  0.0737881  -0.066 0.947645    \n",
       "rest_ecg1                 0.1414254  0.1997870   0.708 0.479797    \n",
       "rest_ecg2                 0.0610996  0.0537215   1.137 0.256680    \n",
       "max_heart_rate           -0.0011939  0.0014369  -0.831 0.406972    \n",
       "exercise_induced_angina1  0.1583004  0.0627138   2.524 0.012330 *  \n",
       "ST_slope2                 0.1947283  0.0590931   3.295 0.001152 ** \n",
       "ST_slope3                 0.0938948  0.1113488   0.843 0.400039    \n",
       "---\n",
       "Signif. codes:  0 ‘***’ 0.001 ‘**’ 0.01 ‘*’ 0.05 ‘.’ 0.1 ‘ ’ 1\n",
       "\n",
       "Residual standard error: 0.3798 on 212 degrees of freedom\n",
       "Multiple R-squared:  0.4573,\tAdjusted R-squared:  0.4215 \n",
       "F-statistic: 12.76 on 14 and 212 DF,  p-value: < 2.2e-16\n"
      ]
     },
     "metadata": {},
     "output_type": "display_data"
    }
   ],
   "source": [
    "lm1 <- lm(heart_data_select,formula=diagnosis ~.)\n",
    "summary(lm1)"
   ]
  },
  {
   "cell_type": "markdown",
   "id": "1de84fef-1e6e-4c9e-894e-0f5a9e852d4d",
   "metadata": {},
   "source": [
    "**Step 7:** Obtain feature importance"
   ]
  },
  {
   "cell_type": "code",
   "execution_count": 8,
   "id": "6e12853d-9868-4811-81b4-aee67a5f4e19",
   "metadata": {},
   "outputs": [
    {
     "data": {
      "text/html": [
       "<table class=\"dataframe\">\n",
       "<caption>A data.frame: 14 × 14</caption>\n",
       "<thead>\n",
       "\t<tr><th></th><th scope=col>age</th><th scope=col>sex1</th><th scope=col>chest_pain2</th><th scope=col>chest_pain3</th><th scope=col>chest_pain4</th><th scope=col>resting_blood_pressure</th><th scope=col>cholesterol</th><th scope=col>fasting_blood_sugar1</th><th scope=col>rest_ecg1</th><th scope=col>rest_ecg2</th><th scope=col>max_heart_rate</th><th scope=col>exercise_induced_angina1</th><th scope=col>ST_slope2</th><th scope=col>ST_slope3</th></tr>\n",
       "\t<tr><th></th><th scope=col>&lt;chr&gt;</th><th scope=col>&lt;chr&gt;</th><th scope=col>&lt;chr&gt;</th><th scope=col>&lt;chr&gt;</th><th scope=col>&lt;chr&gt;</th><th scope=col>&lt;chr&gt;</th><th scope=col>&lt;chr&gt;</th><th scope=col>&lt;chr&gt;</th><th scope=col>&lt;chr&gt;</th><th scope=col>&lt;chr&gt;</th><th scope=col>&lt;chr&gt;</th><th scope=col>&lt;chr&gt;</th><th scope=col>&lt;chr&gt;</th><th scope=col>&lt;chr&gt;</th></tr>\n",
       "</thead>\n",
       "<tbody>\n",
       "\t<tr><th scope=row>1  ( 1 )</th><td> </td><td> </td><td> </td><td> </td><td>*</td><td> </td><td> </td><td> </td><td> </td><td> </td><td> </td><td> </td><td> </td><td> </td></tr>\n",
       "\t<tr><th scope=row>2  ( 1 )</th><td> </td><td> </td><td> </td><td> </td><td>*</td><td> </td><td> </td><td> </td><td> </td><td> </td><td> </td><td> </td><td>*</td><td> </td></tr>\n",
       "\t<tr><th scope=row>3  ( 1 )</th><td> </td><td>*</td><td> </td><td> </td><td>*</td><td> </td><td> </td><td> </td><td> </td><td> </td><td> </td><td> </td><td>*</td><td> </td></tr>\n",
       "\t<tr><th scope=row>⋮</th><td>⋮</td><td>⋮</td><td>⋮</td><td>⋮</td><td>⋮</td><td>⋮</td><td>⋮</td><td>⋮</td><td>⋮</td><td>⋮</td><td>⋮</td><td>⋮</td><td>⋮</td><td>⋮</td></tr>\n",
       "\t<tr><th scope=row>12  ( 1 )</th><td>*</td><td>*</td><td>*</td><td> </td><td>*</td><td>*</td><td>*</td><td> </td><td>*</td><td>*</td><td>*</td><td>*</td><td>*</td><td>*</td></tr>\n",
       "\t<tr><th scope=row>13  ( 1 )</th><td>*</td><td>*</td><td>*</td><td>*</td><td>*</td><td>*</td><td>*</td><td> </td><td>*</td><td>*</td><td>*</td><td>*</td><td>*</td><td>*</td></tr>\n",
       "\t<tr><th scope=row>14  ( 1 )</th><td>*</td><td>*</td><td>*</td><td>*</td><td>*</td><td>*</td><td>*</td><td>*</td><td>*</td><td>*</td><td>*</td><td>*</td><td>*</td><td>*</td></tr>\n",
       "</tbody>\n",
       "</table>\n"
      ],
      "text/latex": [
       "A data.frame: 14 × 14\n",
       "\\begin{tabular}{r|llllllllllllll}\n",
       "  & age & sex1 & chest\\_pain2 & chest\\_pain3 & chest\\_pain4 & resting\\_blood\\_pressure & cholesterol & fasting\\_blood\\_sugar1 & rest\\_ecg1 & rest\\_ecg2 & max\\_heart\\_rate & exercise\\_induced\\_angina1 & ST\\_slope2 & ST\\_slope3\\\\\n",
       "  & <chr> & <chr> & <chr> & <chr> & <chr> & <chr> & <chr> & <chr> & <chr> & <chr> & <chr> & <chr> & <chr> & <chr>\\\\\n",
       "\\hline\n",
       "\t1  ( 1 ) &   &   &   &   & * &   &   &   &   &   &   &   &   &  \\\\\n",
       "\t2  ( 1 ) &   &   &   &   & * &   &   &   &   &   &   &   & * &  \\\\\n",
       "\t3  ( 1 ) &   & * &   &   & * &   &   &   &   &   &   &   & * &  \\\\\n",
       "\t⋮ & ⋮ & ⋮ & ⋮ & ⋮ & ⋮ & ⋮ & ⋮ & ⋮ & ⋮ & ⋮ & ⋮ & ⋮ & ⋮ & ⋮\\\\\n",
       "\t12  ( 1 ) & * & * & * &   & * & * & * &   & * & * & * & * & * & *\\\\\n",
       "\t13  ( 1 ) & * & * & * & * & * & * & * &   & * & * & * & * & * & *\\\\\n",
       "\t14  ( 1 ) & * & * & * & * & * & * & * & * & * & * & * & * & * & *\\\\\n",
       "\\end{tabular}\n"
      ],
      "text/markdown": [
       "\n",
       "A data.frame: 14 × 14\n",
       "\n",
       "| <!--/--> | age &lt;chr&gt; | sex1 &lt;chr&gt; | chest_pain2 &lt;chr&gt; | chest_pain3 &lt;chr&gt; | chest_pain4 &lt;chr&gt; | resting_blood_pressure &lt;chr&gt; | cholesterol &lt;chr&gt; | fasting_blood_sugar1 &lt;chr&gt; | rest_ecg1 &lt;chr&gt; | rest_ecg2 &lt;chr&gt; | max_heart_rate &lt;chr&gt; | exercise_induced_angina1 &lt;chr&gt; | ST_slope2 &lt;chr&gt; | ST_slope3 &lt;chr&gt; |\n",
       "|---|---|---|---|---|---|---|---|---|---|---|---|---|---|---|\n",
       "| 1  ( 1 ) | <!----> | <!----> | <!----> | <!----> | * | <!----> | <!----> | <!----> | <!----> | <!----> | <!----> | <!----> | <!----> | <!----> |\n",
       "| 2  ( 1 ) | <!----> | <!----> | <!----> | <!----> | * | <!----> | <!----> | <!----> | <!----> | <!----> | <!----> | <!----> | * | <!----> |\n",
       "| 3  ( 1 ) | <!----> | * | <!----> | <!----> | * | <!----> | <!----> | <!----> | <!----> | <!----> | <!----> | <!----> | * | <!----> |\n",
       "| ⋮ | ⋮ | ⋮ | ⋮ | ⋮ | ⋮ | ⋮ | ⋮ | ⋮ | ⋮ | ⋮ | ⋮ | ⋮ | ⋮ | ⋮ |\n",
       "| 12  ( 1 ) | * | * | * | <!----> | * | * | * | <!----> | * | * | * | * | * | * |\n",
       "| 13  ( 1 ) | * | * | * | * | * | * | * | <!----> | * | * | * | * | * | * |\n",
       "| 14  ( 1 ) | * | * | * | * | * | * | * | * | * | * | * | * | * | * |\n",
       "\n"
      ],
      "text/plain": [
       "          age sex1 chest_pain2 chest_pain3 chest_pain4 resting_blood_pressure\n",
       "1  ( 1 )                                   *                                 \n",
       "2  ( 1 )                                   *                                 \n",
       "3  ( 1 )      *                            *                                 \n",
       "⋮         ⋮   ⋮    ⋮           ⋮           ⋮           ⋮                     \n",
       "12  ( 1 ) *   *    *                       *           *                     \n",
       "13  ( 1 ) *   *    *           *           *           *                     \n",
       "14  ( 1 ) *   *    *           *           *           *                     \n",
       "          cholesterol fasting_blood_sugar1 rest_ecg1 rest_ecg2 max_heart_rate\n",
       "1  ( 1 )                                                                     \n",
       "2  ( 1 )                                                                     \n",
       "3  ( 1 )                                                                     \n",
       "⋮         ⋮           ⋮                    ⋮         ⋮         ⋮             \n",
       "12  ( 1 ) *                                *         *         *             \n",
       "13  ( 1 ) *                                *         *         *             \n",
       "14  ( 1 ) *           *                    *         *         *             \n",
       "          exercise_induced_angina1 ST_slope2 ST_slope3\n",
       "1  ( 1 )                                              \n",
       "2  ( 1 )                           *                  \n",
       "3  ( 1 )                           *                  \n",
       "⋮         ⋮                        ⋮         ⋮        \n",
       "12  ( 1 ) *                        *         *        \n",
       "13  ( 1 ) *                        *         *        \n",
       "14  ( 1 ) *                        *         *        "
      ]
     },
     "metadata": {},
     "output_type": "display_data"
    }
   ],
   "source": [
    "Best_Subset <-\n",
    "    regsubsets(diagnosis~.,\n",
    "               data =heart_data_select,\n",
    "               nbest = 1,      # 1 best model for each number of predictors\n",
    "               nvmax = NULL,    # NULL for no limit on number of variables\n",
    "               force.in = NULL, force.out = NULL,\n",
    "               method = \"exhaustive\")\n",
    "\n",
    "summary_best_subset <- summary(Best_Subset)\n",
    "as.data.frame(summary_best_subset$outmat)"
   ]
  },
  {
   "cell_type": "markdown",
   "id": "bd27fbe8-9176-4b5d-9e70-d297dac37a1e",
   "metadata": {},
   "source": [
    "**Step 8:** Find best number of predictors"
   ]
  },
  {
   "cell_type": "code",
   "execution_count": 9,
   "id": "523e0840-7414-428d-af3a-3a2ee7c7271b",
   "metadata": {},
   "outputs": [
    {
     "data": {
      "text/html": [
       "7"
      ],
      "text/latex": [
       "7"
      ],
      "text/markdown": [
       "7"
      ],
      "text/plain": [
       "[1] 7"
      ]
     },
     "metadata": {},
     "output_type": "display_data"
    }
   ],
   "source": [
    "which.max(summary_best_subset$adjr2)"
   ]
  },
  {
   "cell_type": "markdown",
   "id": "4c7c02bf-0278-4c4f-bbed-c14fec646ad6",
   "metadata": {},
   "source": [
    "**Step 9:** \n",
    "Select best 7 predictors"
   ]
  },
  {
   "cell_type": "code",
   "execution_count": 36,
   "id": "8d6f8982-9545-4477-9d96-90047d64910a",
   "metadata": {},
   "outputs": [
    {
     "name": "stdout",
     "output_type": "stream",
     "text": [
      "             (Intercept)                      age                     sex1 \n",
      "                    TRUE                     TRUE                     TRUE \n",
      "             chest_pain2              chest_pain3              chest_pain4 \n",
      "                   FALSE                    FALSE                     TRUE \n",
      "  resting_blood_pressure              cholesterol     fasting_blood_sugar1 \n",
      "                    TRUE                    FALSE                    FALSE \n",
      "               rest_ecg1                rest_ecg2           max_heart_rate \n",
      "                   FALSE                     TRUE                    FALSE \n",
      "exercise_induced_angina1                ST_slope2                ST_slope3 \n",
      "                    TRUE                     TRUE                    FALSE \n"
     ]
    }
   ],
   "source": [
    "print(summary_best_subset$which[7,])"
   ]
  },
  {
   "cell_type": "markdown",
   "id": "b8fcfd30-f913-46b3-9772-95f6dfef5bb0",
   "metadata": {},
   "source": [
    "The 6 best predictors with the most important coefficents are: Rest ECG, ST Slope, Chest Pain, Fasting Blood Sugar, Age, Max_Heart_Rate. \n",
    "**EDIT**  - The 7 best predictors for classifying diagnosis with the most important coefficients are: chest pain, resting blood pressure, exercise induced angina, age, resting ecg, ST slope, and sex. \n",
    "\n",
    "The model we used to get feature importance looked at each class within the predictors not the predictors as a whole. So when selecting our predictors we expanded the list until we had 6 seperate catergories named as we are filtering our data for the entire predictor subset, not specific predictor classes. "
   ]
  },
  {
   "cell_type": "markdown",
   "id": "2b725f87-c451-4779-8f05-edcf0db0fbf2",
   "metadata": {},
   "source": [
    "**Step 10:** \n",
    "Summary of training data set containing 6 best predictors"
   ]
  },
  {
   "cell_type": "code",
   "execution_count": 25,
   "id": "58abdf79-c8ba-483a-a1c4-70af51a34a3c",
   "metadata": {},
   "outputs": [
    {
     "data": {
      "text/html": [
       "<table class=\"dataframe\">\n",
       "<caption>A data.frame: 2 × 2</caption>\n",
       "<thead>\n",
       "\t<tr><th scope=col>diagnosis</th><th scope=col>n</th></tr>\n",
       "\t<tr><th scope=col>&lt;fct&gt;</th><th scope=col>&lt;int&gt;</th></tr>\n",
       "</thead>\n",
       "<tbody>\n",
       "\t<tr><td>0</td><td>123</td></tr>\n",
       "\t<tr><td>1</td><td>104</td></tr>\n",
       "</tbody>\n",
       "</table>\n"
      ],
      "text/latex": [
       "A data.frame: 2 × 2\n",
       "\\begin{tabular}{ll}\n",
       " diagnosis & n\\\\\n",
       " <fct> & <int>\\\\\n",
       "\\hline\n",
       "\t 0 & 123\\\\\n",
       "\t 1 & 104\\\\\n",
       "\\end{tabular}\n"
      ],
      "text/markdown": [
       "\n",
       "A data.frame: 2 × 2\n",
       "\n",
       "| diagnosis &lt;fct&gt; | n &lt;int&gt; |\n",
       "|---|---|\n",
       "| 0 | 123 |\n",
       "| 1 | 104 |\n",
       "\n"
      ],
      "text/plain": [
       "  diagnosis n  \n",
       "1 0         123\n",
       "2 1         104"
      ]
     },
     "metadata": {},
     "output_type": "display_data"
    }
   ],
   "source": [
    "#count of factor predictor variables (fasting blood sugar, rest ECG, ST slope, and chest pain) and target variable (diagnosis)\n",
    "count_diag <- heart_train|>\n",
    "    count(diagnosis)\n",
    "count_diag"
   ]
  },
  {
   "cell_type": "code",
   "execution_count": 38,
   "id": "3498e8a7-0f7d-42ff-87a1-b4be85e75455",
   "metadata": {},
   "outputs": [
    {
     "data": {
      "text/html": [
       "<table class=\"dataframe\">\n",
       "<caption>A data.frame: 2 × 2</caption>\n",
       "<thead>\n",
       "\t<tr><th scope=col>sex</th><th scope=col>n</th></tr>\n",
       "\t<tr><th scope=col>&lt;fct&gt;</th><th scope=col>&lt;int&gt;</th></tr>\n",
       "</thead>\n",
       "<tbody>\n",
       "\t<tr><td>0</td><td> 74</td></tr>\n",
       "\t<tr><td>1</td><td>153</td></tr>\n",
       "</tbody>\n",
       "</table>\n"
      ],
      "text/latex": [
       "A data.frame: 2 × 2\n",
       "\\begin{tabular}{ll}\n",
       " sex & n\\\\\n",
       " <fct> & <int>\\\\\n",
       "\\hline\n",
       "\t 0 &  74\\\\\n",
       "\t 1 & 153\\\\\n",
       "\\end{tabular}\n"
      ],
      "text/markdown": [
       "\n",
       "A data.frame: 2 × 2\n",
       "\n",
       "| sex &lt;fct&gt; | n &lt;int&gt; |\n",
       "|---|---|\n",
       "| 0 |  74 |\n",
       "| 1 | 153 |\n",
       "\n"
      ],
      "text/plain": [
       "  sex n  \n",
       "1 0    74\n",
       "2 1   153"
      ]
     },
     "metadata": {},
     "output_type": "display_data"
    }
   ],
   "source": [
    "count_sugar <- heart_train|>\n",
    "    count(sex)\n",
    "count_sugar"
   ]
  },
  {
   "cell_type": "code",
   "execution_count": 17,
   "id": "41955ae9-08d1-48d2-81f2-6c96ab8c0ff5",
   "metadata": {},
   "outputs": [
    {
     "data": {
      "text/html": [
       "<table class=\"dataframe\">\n",
       "<caption>A data.frame: 3 × 2</caption>\n",
       "<thead>\n",
       "\t<tr><th scope=col>rest_ecg</th><th scope=col>n</th></tr>\n",
       "\t<tr><th scope=col>&lt;fct&gt;</th><th scope=col>&lt;int&gt;</th></tr>\n",
       "</thead>\n",
       "<tbody>\n",
       "\t<tr><td>0</td><td>115</td></tr>\n",
       "\t<tr><td>1</td><td>  4</td></tr>\n",
       "\t<tr><td>2</td><td>108</td></tr>\n",
       "</tbody>\n",
       "</table>\n"
      ],
      "text/latex": [
       "A data.frame: 3 × 2\n",
       "\\begin{tabular}{ll}\n",
       " rest\\_ecg & n\\\\\n",
       " <fct> & <int>\\\\\n",
       "\\hline\n",
       "\t 0 & 115\\\\\n",
       "\t 1 &   4\\\\\n",
       "\t 2 & 108\\\\\n",
       "\\end{tabular}\n"
      ],
      "text/markdown": [
       "\n",
       "A data.frame: 3 × 2\n",
       "\n",
       "| rest_ecg &lt;fct&gt; | n &lt;int&gt; |\n",
       "|---|---|\n",
       "| 0 | 115 |\n",
       "| 1 |   4 |\n",
       "| 2 | 108 |\n",
       "\n"
      ],
      "text/plain": [
       "  rest_ecg n  \n",
       "1 0        115\n",
       "2 1          4\n",
       "3 2        108"
      ]
     },
     "metadata": {},
     "output_type": "display_data"
    }
   ],
   "source": [
    "count_rest_ecg <- heart_train|>\n",
    "    count(rest_ecg)\n",
    "count_rest_ecg"
   ]
  },
  {
   "cell_type": "code",
   "execution_count": 18,
   "id": "d925da43-3252-4a2c-9318-7ac94989e2e8",
   "metadata": {},
   "outputs": [
    {
     "data": {
      "text/html": [
       "<table class=\"dataframe\">\n",
       "<caption>A data.frame: 3 × 2</caption>\n",
       "<thead>\n",
       "\t<tr><th scope=col>ST_slope</th><th scope=col>n</th></tr>\n",
       "\t<tr><th scope=col>&lt;fct&gt;</th><th scope=col>&lt;int&gt;</th></tr>\n",
       "</thead>\n",
       "<tbody>\n",
       "\t<tr><td>1</td><td>111</td></tr>\n",
       "\t<tr><td>2</td><td>102</td></tr>\n",
       "\t<tr><td>3</td><td> 14</td></tr>\n",
       "</tbody>\n",
       "</table>\n"
      ],
      "text/latex": [
       "A data.frame: 3 × 2\n",
       "\\begin{tabular}{ll}\n",
       " ST\\_slope & n\\\\\n",
       " <fct> & <int>\\\\\n",
       "\\hline\n",
       "\t 1 & 111\\\\\n",
       "\t 2 & 102\\\\\n",
       "\t 3 &  14\\\\\n",
       "\\end{tabular}\n"
      ],
      "text/markdown": [
       "\n",
       "A data.frame: 3 × 2\n",
       "\n",
       "| ST_slope &lt;fct&gt; | n &lt;int&gt; |\n",
       "|---|---|\n",
       "| 1 | 111 |\n",
       "| 2 | 102 |\n",
       "| 3 |  14 |\n",
       "\n"
      ],
      "text/plain": [
       "  ST_slope n  \n",
       "1 1        111\n",
       "2 2        102\n",
       "3 3         14"
      ]
     },
     "metadata": {},
     "output_type": "display_data"
    }
   ],
   "source": [
    "count_slope <- heart_train|>\n",
    "    count(ST_slope)\n",
    "count_slope"
   ]
  },
  {
   "cell_type": "code",
   "execution_count": 19,
   "id": "4c661dea-8eef-4172-9e8e-7d3a3ee12e34",
   "metadata": {},
   "outputs": [
    {
     "data": {
      "text/html": [
       "<table class=\"dataframe\">\n",
       "<caption>A data.frame: 4 × 2</caption>\n",
       "<thead>\n",
       "\t<tr><th scope=col>chest_pain</th><th scope=col>n</th></tr>\n",
       "\t<tr><th scope=col>&lt;fct&gt;</th><th scope=col>&lt;int&gt;</th></tr>\n",
       "</thead>\n",
       "<tbody>\n",
       "\t<tr><td>1</td><td> 20</td></tr>\n",
       "\t<tr><td>2</td><td> 36</td></tr>\n",
       "\t<tr><td>3</td><td> 65</td></tr>\n",
       "\t<tr><td>4</td><td>106</td></tr>\n",
       "</tbody>\n",
       "</table>\n"
      ],
      "text/latex": [
       "A data.frame: 4 × 2\n",
       "\\begin{tabular}{ll}\n",
       " chest\\_pain & n\\\\\n",
       " <fct> & <int>\\\\\n",
       "\\hline\n",
       "\t 1 &  20\\\\\n",
       "\t 2 &  36\\\\\n",
       "\t 3 &  65\\\\\n",
       "\t 4 & 106\\\\\n",
       "\\end{tabular}\n"
      ],
      "text/markdown": [
       "\n",
       "A data.frame: 4 × 2\n",
       "\n",
       "| chest_pain &lt;fct&gt; | n &lt;int&gt; |\n",
       "|---|---|\n",
       "| 1 |  20 |\n",
       "| 2 |  36 |\n",
       "| 3 |  65 |\n",
       "| 4 | 106 |\n",
       "\n"
      ],
      "text/plain": [
       "  chest_pain n  \n",
       "1 1           20\n",
       "2 2           36\n",
       "3 3           65\n",
       "4 4          106"
      ]
     },
     "metadata": {},
     "output_type": "display_data"
    }
   ],
   "source": [
    "count_chest <- heart_train|>\n",
    "    count(chest_pain)\n",
    "count_chest"
   ]
  },
  {
   "cell_type": "code",
   "execution_count": 39,
   "id": "9e06a022-cd70-468e-a507-e5399d6b1743",
   "metadata": {},
   "outputs": [
    {
     "data": {
      "text/html": [
       "<table class=\"dataframe\">\n",
       "<caption>A data.frame: 2 × 2</caption>\n",
       "<thead>\n",
       "\t<tr><th scope=col>exercise_induced_angina</th><th scope=col>n</th></tr>\n",
       "\t<tr><th scope=col>&lt;fct&gt;</th><th scope=col>&lt;int&gt;</th></tr>\n",
       "</thead>\n",
       "<tbody>\n",
       "\t<tr><td>0</td><td>149</td></tr>\n",
       "\t<tr><td>1</td><td> 78</td></tr>\n",
       "</tbody>\n",
       "</table>\n"
      ],
      "text/latex": [
       "A data.frame: 2 × 2\n",
       "\\begin{tabular}{ll}\n",
       " exercise\\_induced\\_angina & n\\\\\n",
       " <fct> & <int>\\\\\n",
       "\\hline\n",
       "\t 0 & 149\\\\\n",
       "\t 1 &  78\\\\\n",
       "\\end{tabular}\n"
      ],
      "text/markdown": [
       "\n",
       "A data.frame: 2 × 2\n",
       "\n",
       "| exercise_induced_angina &lt;fct&gt; | n &lt;int&gt; |\n",
       "|---|---|\n",
       "| 0 | 149 |\n",
       "| 1 |  78 |\n",
       "\n"
      ],
      "text/plain": [
       "  exercise_induced_angina n  \n",
       "1 0                       149\n",
       "2 1                        78"
      ]
     },
     "metadata": {},
     "output_type": "display_data"
    }
   ],
   "source": [
    "count_chest <- heart_train|>\n",
    "    count(exercise_induced_angina)\n",
    "count_chest"
   ]
  },
  {
   "cell_type": "code",
   "execution_count": 40,
   "id": "b0e237c5-1f7d-4d09-853a-ee55b0791896",
   "metadata": {},
   "outputs": [
    {
     "data": {
      "text/html": [
       "<table class=\"dataframe\">\n",
       "<caption>A data.frame: 1 × 2</caption>\n",
       "<thead>\n",
       "\t<tr><th scope=col>age</th><th scope=col>resting_blood_pressure</th></tr>\n",
       "\t<tr><th scope=col>&lt;dbl&gt;</th><th scope=col>&lt;dbl&gt;</th></tr>\n",
       "</thead>\n",
       "<tbody>\n",
       "\t<tr><td>77</td><td>200</td></tr>\n",
       "</tbody>\n",
       "</table>\n"
      ],
      "text/latex": [
       "A data.frame: 1 × 2\n",
       "\\begin{tabular}{ll}\n",
       " age & resting\\_blood\\_pressure\\\\\n",
       " <dbl> & <dbl>\\\\\n",
       "\\hline\n",
       "\t 77 & 200\\\\\n",
       "\\end{tabular}\n"
      ],
      "text/markdown": [
       "\n",
       "A data.frame: 1 × 2\n",
       "\n",
       "| age &lt;dbl&gt; | resting_blood_pressure &lt;dbl&gt; |\n",
       "|---|---|\n",
       "| 77 | 200 |\n",
       "\n"
      ],
      "text/plain": [
       "  age resting_blood_pressure\n",
       "1 77  200                   "
      ]
     },
     "metadata": {},
     "output_type": "display_data"
    },
    {
     "data": {
      "text/html": [
       "<table class=\"dataframe\">\n",
       "<caption>A data.frame: 1 × 2</caption>\n",
       "<thead>\n",
       "\t<tr><th scope=col>age</th><th scope=col>resting_blood_pressure</th></tr>\n",
       "\t<tr><th scope=col>&lt;dbl&gt;</th><th scope=col>&lt;dbl&gt;</th></tr>\n",
       "</thead>\n",
       "<tbody>\n",
       "\t<tr><td>34</td><td>94</td></tr>\n",
       "</tbody>\n",
       "</table>\n"
      ],
      "text/latex": [
       "A data.frame: 1 × 2\n",
       "\\begin{tabular}{ll}\n",
       " age & resting\\_blood\\_pressure\\\\\n",
       " <dbl> & <dbl>\\\\\n",
       "\\hline\n",
       "\t 34 & 94\\\\\n",
       "\\end{tabular}\n"
      ],
      "text/markdown": [
       "\n",
       "A data.frame: 1 × 2\n",
       "\n",
       "| age &lt;dbl&gt; | resting_blood_pressure &lt;dbl&gt; |\n",
       "|---|---|\n",
       "| 34 | 94 |\n",
       "\n"
      ],
      "text/plain": [
       "  age resting_blood_pressure\n",
       "1 34  94                    "
      ]
     },
     "metadata": {},
     "output_type": "display_data"
    }
   ],
   "source": [
    "#STATS \n",
    "#maximum values of discrete and continious variables (age, resting_blood_pressure, cholesterol, max_heart_rate, ST_depression)\n",
    "heart_max <- heart_train |>\n",
    "  summarize(across(-sex, ~ if(is.numeric(.)) max(.) else first(.))) |>\n",
    "  select(age, resting_blood_pressure)   \n",
    "heart_max\n",
    "                   \n",
    "#minimum values of discrete and continious variables (age, resting_blood_pressure, cholesterol, max_heart_rate, ST_depression)                  \n",
    "heart_min <- heart_train |>\n",
    "  summarize(across(-sex, ~ if(is.numeric(.)) min(.) else first(.))) |>\n",
    "  select(age, resting_blood_pressure)\n",
    "heart_min\n"
   ]
  },
  {
   "cell_type": "code",
   "execution_count": 42,
   "id": "b2714cdb-19d6-4689-8082-2e106e129f9c",
   "metadata": {},
   "outputs": [
    {
     "data": {
      "text/html": [
       "<table class=\"dataframe\">\n",
       "<caption>A data.frame: 1 × 2</caption>\n",
       "<thead>\n",
       "\t<tr><th scope=col>age</th><th scope=col>resting_blood_pressure</th></tr>\n",
       "\t<tr><th scope=col>&lt;dbl&gt;</th><th scope=col>&lt;dbl&gt;</th></tr>\n",
       "</thead>\n",
       "<tbody>\n",
       "\t<tr><td>54.4978</td><td>131.533</td></tr>\n",
       "</tbody>\n",
       "</table>\n"
      ],
      "text/latex": [
       "A data.frame: 1 × 2\n",
       "\\begin{tabular}{ll}\n",
       " age & resting\\_blood\\_pressure\\\\\n",
       " <dbl> & <dbl>\\\\\n",
       "\\hline\n",
       "\t 54.4978 & 131.533\\\\\n",
       "\\end{tabular}\n"
      ],
      "text/markdown": [
       "\n",
       "A data.frame: 1 × 2\n",
       "\n",
       "| age &lt;dbl&gt; | resting_blood_pressure &lt;dbl&gt; |\n",
       "|---|---|\n",
       "| 54.4978 | 131.533 |\n",
       "\n"
      ],
      "text/plain": [
       "  age     resting_blood_pressure\n",
       "1 54.4978 131.533               "
      ]
     },
     "metadata": {},
     "output_type": "display_data"
    },
    {
     "data": {
      "text/html": [
       "<table class=\"dataframe\">\n",
       "<caption>A data.frame: 1 × 2</caption>\n",
       "<thead>\n",
       "\t<tr><th scope=col>age</th><th scope=col>resting_blood_pressure</th></tr>\n",
       "\t<tr><th scope=col>&lt;dbl&gt;</th><th scope=col>&lt;dbl&gt;</th></tr>\n",
       "</thead>\n",
       "<tbody>\n",
       "\t<tr><td>9.265682</td><td>17.88564</td></tr>\n",
       "</tbody>\n",
       "</table>\n"
      ],
      "text/latex": [
       "A data.frame: 1 × 2\n",
       "\\begin{tabular}{ll}\n",
       " age & resting\\_blood\\_pressure\\\\\n",
       " <dbl> & <dbl>\\\\\n",
       "\\hline\n",
       "\t 9.265682 & 17.88564\\\\\n",
       "\\end{tabular}\n"
      ],
      "text/markdown": [
       "\n",
       "A data.frame: 1 × 2\n",
       "\n",
       "| age &lt;dbl&gt; | resting_blood_pressure &lt;dbl&gt; |\n",
       "|---|---|\n",
       "| 9.265682 | 17.88564 |\n",
       "\n"
      ],
      "text/plain": [
       "  age      resting_blood_pressure\n",
       "1 9.265682 17.88564              "
      ]
     },
     "metadata": {},
     "output_type": "display_data"
    }
   ],
   "source": [
    "#averages and standard deviations of continous or discrete variables (age, max_heart_rate)\n",
    "\n",
    "heart_mean <- heart_train |>\n",
    "  select(age, resting_blood_pressure) |>\n",
    "  summarize(across(age:resting_blood_pressure, mean))\n",
    "heart_mean\n",
    "\n",
    "heart_sd <- heart_train |>\n",
    "  select(age, resting_blood_pressure) |>\n",
    "  summarize(across(age:resting_blood_pressure, sd))\n",
    "heart_sd\n",
    "\n"
   ]
  },
  {
   "cell_type": "code",
   "execution_count": 43,
   "id": "a863048d-c61a-4b02-8229-df5b56eba438",
   "metadata": {},
   "outputs": [
    {
     "data": {
      "text/html": [
       "<table class=\"dataframe\">\n",
       "<caption>A data.frame: 4 × 2</caption>\n",
       "<thead>\n",
       "\t<tr><th scope=col>age</th><th scope=col>resting_blood_pressure</th></tr>\n",
       "\t<tr><th scope=col>&lt;dbl&gt;</th><th scope=col>&lt;dbl&gt;</th></tr>\n",
       "</thead>\n",
       "<tbody>\n",
       "\t<tr><td>34.000000</td><td> 94.00000</td></tr>\n",
       "\t<tr><td>77.000000</td><td>200.00000</td></tr>\n",
       "\t<tr><td>54.497797</td><td>131.53304</td></tr>\n",
       "\t<tr><td> 9.265682</td><td> 17.88564</td></tr>\n",
       "</tbody>\n",
       "</table>\n"
      ],
      "text/latex": [
       "A data.frame: 4 × 2\n",
       "\\begin{tabular}{ll}\n",
       " age & resting\\_blood\\_pressure\\\\\n",
       " <dbl> & <dbl>\\\\\n",
       "\\hline\n",
       "\t 34.000000 &  94.00000\\\\\n",
       "\t 77.000000 & 200.00000\\\\\n",
       "\t 54.497797 & 131.53304\\\\\n",
       "\t  9.265682 &  17.88564\\\\\n",
       "\\end{tabular}\n"
      ],
      "text/markdown": [
       "\n",
       "A data.frame: 4 × 2\n",
       "\n",
       "| age &lt;dbl&gt; | resting_blood_pressure &lt;dbl&gt; |\n",
       "|---|---|\n",
       "| 34.000000 |  94.00000 |\n",
       "| 77.000000 | 200.00000 |\n",
       "| 54.497797 | 131.53304 |\n",
       "|  9.265682 |  17.88564 |\n",
       "\n"
      ],
      "text/plain": [
       "  age       resting_blood_pressure\n",
       "1 34.000000  94.00000             \n",
       "2 77.000000 200.00000             \n",
       "3 54.497797 131.53304             \n",
       "4  9.265682  17.88564             "
      ]
     },
     "metadata": {},
     "output_type": "display_data"
    }
   ],
   "source": [
    "# Combine all the summary statistics into one table. \n",
    "# Row 1 = minimum value\n",
    "# Row 2 = maximum value\n",
    "# Row 3 = mean\n",
    "# Row 4 = standard deviation\n",
    "heart_summary <- bind_rows(\n",
    "  heart_min,\n",
    "  heart_max,\n",
    "  heart_mean,\n",
    "  heart_sd\n",
    ")\n",
    "\n",
    "heart_summary\n"
   ]
  },
  {
   "cell_type": "markdown",
   "id": "0aa1296b-a8ce-4df9-b75f-2adf35f00ee9",
   "metadata": {},
   "source": [
    "**Explanation of the Summary Statistics for Training Set**\n",
    "\n",
    "diagnosis: diagnosis is the target variable. It is a binary categorical variable with 123 observations having an absence of heart disease and 104 observations have a presence of heart disease. \n",
    "\n",
    "sex: sex is a binary categorical variable where 74 observations are female and 153 observations are male.\n",
    "\n",
    "rest_ecg: Resting ECG is a categorical variable where 155 have normal resting electrocardiographic, 4 have some abnormality, and 108 have definite hypertrophy\n",
    "\n",
    "ST_slope: ST slope is a categorical variable where 111 observations have an upslope heart rate, 102 have flat, and 14 have downward sloping ST heart rates. \n",
    "\n",
    "chest_pain: Chest pain is a categorical variable where 20 observations have typical angina, 36 observations have atypical angina, 65 observations have non-anginal pain, and 106 have asymptomatic chest pain. \n",
    "\n",
    "exercise_induced_angina: exercise induced angina is a binary logical variable where 149 observations do not have exercised induced angina and 78 observations do.\n",
    "\n",
    "age: Age is a discrete variable. The minimum age observed in the training data is 34 years, and the maximum age is 77 years. The average age of the patients in the training data is approximately 54.50 years, with a standard deviation of around 9.27 years.\n",
    "\n",
    "resting_blood_pressure: resting blood pressure is a discrete variable measured in mmHg. The minimum observed blood pressure is 94mmHg and the maximum is 200mmHg. The average resting blood pressure is 131.53mmHg and the standard deviation is 17.89mmHg. "
   ]
  },
  {
   "cell_type": "markdown",
   "id": "ea0d3c5b-a335-422c-a025-bc5df14dec41",
   "metadata": {},
   "source": [
    "**Step 11** Visualizations and Comparisons Within the Training Data Set"
   ]
  },
  {
   "cell_type": "code",
   "execution_count": 44,
   "id": "c323f6d8-bc36-4b55-89af-0b386228276b",
   "metadata": {},
   "outputs": [
    {
     "data": {
      "image/png": "[encoded data removed]",
      "text/plain": [
       "plot without title"
      ]
     },
     "metadata": {
      "image/png": {
       "height": 480,
       "width": 480
      }
     },
     "output_type": "display_data"
    }
   ],
   "source": [
    "#Using only training data, visualize the data with at least one plot relevant to the analysis you plan to do\n",
    "\n",
    "#scattor plot showing elationship between age and resting blood pressure, categorised by diagnosis..\n",
    "options(repr.plot.width = 8, repr.plot.height = 8) \n",
    "age_resting_point <- heart_train |>\n",
    "    ggplot(aes(x = age, y = resting_blood_pressure))+\n",
    "    geom_point(aes(colour = diagnosis))+\n",
    "    labs(x = \"Age (years)\", y = \"Resting Blood Pressure (mmHg)\")+\n",
    "    ggtitle(\"Scatterplot showing relationship between age and resting blood pressure, categorised by diagnosis\")+\n",
    "    theme(text = element_text(size = 20))\n",
    "age_resting_point\n",
    "\n",
    "#0 = negative diagnosis. 1 = positive diagnosis."
   ]
  },
  {
   "cell_type": "markdown",
   "id": "13d3801b-a63b-4dd9-ae27-531bcff8d4d4",
   "metadata": {},
   "source": [
    "Shows no significant correlation between age and resting blood pressure. Diagnosis also does not show any correlation."
   ]
  },
  {
   "cell_type": "code",
   "execution_count": 46,
   "id": "2d249c19-ca79-4148-b4e0-a368299ab18f",
   "metadata": {},
   "outputs": [
    {
     "data": {
      "image/png": "[encoded data removed]",
      "text/plain": [
       "plot without title"
      ]
     },
     "metadata": {
      "image/png": {
       "height": 480,
       "width": 480
      }
     },
     "output_type": "display_data"
    }
   ],
   "source": [
    "#bar chart showing the relations between sex and resting blood pressure, categorised by diagnosis\n",
    "options(repr.plot.width = 8, repr.plot.height = 8) \n",
    "sex_rest_bar <- heart_train |>\n",
    "    ggplot(aes(x = sex, y = resting_blood_pressure, fill = diagnosis))+\n",
    "    geom_bar(stat = \"identity\")+\n",
    "    facet_grid(cols = vars(diagnosis))+\n",
    "    labs(x = \"Sex\", y = \"Resting Blood Pressure (mmHg)\")+\n",
    "    ggtitle(\"Bar chart showing relationship between sex and resting blood pressure, categorised by diagnosis\")+\n",
    "    theme(text = element_text(size = 20))\n",
    "sex_rest_bar\n",
    "\n",
    "#0 = negative diagnosis. 1 = positive diagnosis."
   ]
  },
  {
   "cell_type": "markdown",
   "id": "7e8c2d70-10a5-41fa-8bd9-2dbb83db2d5c",
   "metadata": {},
   "source": [
    "Women with heart disease have a lower resting blood pressure than women who do not have heart disease. Contrastingly, men with heart disease have a higher blood pressure than men who don't have heart disease. "
   ]
  },
  {
   "cell_type": "code",
   "execution_count": 60,
   "id": "ac0fe166-b817-46bb-976b-c8f2bbbc4fe4",
   "metadata": {},
   "outputs": [
    {
     "data": {
      "image/png": "[encoded data removed]",
      "text/plain": [
       "plot without title"
      ]
     },
     "metadata": {
      "image/png": {
       "height": 480,
       "width": 720
      }
     },
     "output_type": "display_data"
    }
   ],
   "source": [
    "#bar chart showing the relations between sex and cholestrol, categorised by target\n",
    "options(repr.plot.width = 12, repr.plot.height = 8) \n",
    "age_chest_bar <- heart_train |>\n",
    "    ggplot(aes(x = age, y = chest_pain, fill = diagnosis))+\n",
    "    geom_bar(stat = \"identity\")+\n",
    "    facet_grid(rows = vars(diagnosis))+\n",
    "    labs(x = \"Age in Years\", y = \"Chest Pain\")+\n",
    "    ggtitle(\"Bar chart showing relationship between chest pain and age, categorised by diagnosis\")+\n",
    "    theme(text = element_text(size = 16))\n",
    "age_chest_bar\n",
    "\n",
    "#0 = negative diagnosis. 1 = positive diagnosis."
   ]
  },
  {
   "cell_type": "markdown",
   "id": "43a70d87-4deb-42ae-a6a9-0d05036f31f4",
   "metadata": {},
   "source": [
    "Those with heart disease and have asymptomatic chest pain tend to be of older age, whereas the ages of without heart disease tend to be of similar distribution between all chest pain categories. "
   ]
  },
  {
   "cell_type": "code",
   "execution_count": 65,
   "id": "6a9a568a-4821-45f5-b2d1-cac6c5683da7",
   "metadata": {},
   "outputs": [
    {
     "name": "stderr",
     "output_type": "stream",
     "text": [
      "`stat_bin()` using `bins = 30`. Pick better value with `binwidth`.\n",
      "\n"
     ]
    },
    {
     "data": {
      "image/png": "[encoded data removed]",
      "text/plain": [
       "plot without title"
      ]
     },
     "metadata": {
      "image/png": {
       "height": 420,
       "width": 720
      }
     },
     "output_type": "display_data"
    }
   ],
   "source": [
    "options(repr.plot.width = 12, repr.plot.height = 7)\n",
    "\n",
    "max_slope_hist <- heart_train %>%\n",
    "  ggplot(aes(x = resting_blood_pressure, fill = diagnosis)) +\n",
    "  geom_histogram(alpha = 0.5, position = \"identity\") +\n",
    "  facet_grid(rows = vars(exercise_induced_angina)) +\n",
    "  labs(x = \"resting_blood_pressure (mmHg)\", y = \"Count\") +\n",
    "  ggtitle(\"Histogram showing distribution of ST Slope, categorized by diagnosis\") +\n",
    "  theme(text = element_text(size = 20))\n",
    "\n",
    "max_slope_hist\n"
   ]
  },
  {
   "cell_type": "markdown",
   "id": "5023bac6-083f-4317-94e6-1b7d15dbd259",
   "metadata": {},
   "source": [
    "There are more observations of no heart disease in people who do not have exercise induced angina whereas those with heart induced angina are less likely to not have heart disease."
   ]
  },
  {
   "cell_type": "markdown",
   "id": "68f7b3b9-7a5a-46cb-b141-4fbf29e2b01f",
   "metadata": {},
   "source": [
    "**Step 12** Finding best K neighbors value and plotting accuracy vs. k-value"
   ]
  },
  {
   "cell_type": "code",
   "execution_count": 30,
   "id": "959d3341-9f5a-44b0-ac01-3e7273f764be",
   "metadata": {},
   "outputs": [
    {
     "data": {
      "text/html": [
       "<table class=\"dataframe\">\n",
       "<caption>A data.frame: 227 × 8</caption>\n",
       "<thead>\n",
       "\t<tr><th></th><th scope=col>chest_pain</th><th scope=col>resting_blood_pressure</th><th scope=col>exercise_induced_angina</th><th scope=col>ST_slope</th><th scope=col>age</th><th scope=col>sex</th><th scope=col>rest_ecg</th><th scope=col>diagnosis</th></tr>\n",
       "\t<tr><th></th><th scope=col>&lt;fct&gt;</th><th scope=col>&lt;dbl&gt;</th><th scope=col>&lt;fct&gt;</th><th scope=col>&lt;fct&gt;</th><th scope=col>&lt;dbl&gt;</th><th scope=col>&lt;fct&gt;</th><th scope=col>&lt;fct&gt;</th><th scope=col>&lt;fct&gt;</th></tr>\n",
       "</thead>\n",
       "<tbody>\n",
       "\t<tr><th scope=row>1</th><td>1</td><td>145</td><td>0</td><td>3</td><td>63</td><td>1</td><td>2</td><td>0</td></tr>\n",
       "\t<tr><th scope=row>4</th><td>3</td><td>130</td><td>0</td><td>3</td><td>37</td><td>1</td><td>0</td><td>0</td></tr>\n",
       "\t<tr><th scope=row>5</th><td>2</td><td>130</td><td>0</td><td>1</td><td>41</td><td>0</td><td>2</td><td>0</td></tr>\n",
       "\t<tr><th scope=row>⋮</th><td>⋮</td><td>⋮</td><td>⋮</td><td>⋮</td><td>⋮</td><td>⋮</td><td>⋮</td><td>⋮</td></tr>\n",
       "\t<tr><th scope=row>298</th><td>4</td><td>140</td><td>1</td><td>2</td><td>57</td><td>0</td><td>0</td><td>1</td></tr>\n",
       "\t<tr><th scope=row>300</th><td>4</td><td>144</td><td>0</td><td>2</td><td>68</td><td>1</td><td>0</td><td>1</td></tr>\n",
       "\t<tr><th scope=row>301</th><td>4</td><td>130</td><td>1</td><td>2</td><td>57</td><td>1</td><td>0</td><td>1</td></tr>\n",
       "</tbody>\n",
       "</table>\n"
      ],
      "text/latex": [
       "A data.frame: 227 × 8\n",
       "\\begin{tabular}{r|llllllll}\n",
       "  & chest\\_pain & resting\\_blood\\_pressure & exercise\\_induced\\_angina & ST\\_slope & age & sex & rest\\_ecg & diagnosis\\\\\n",
       "  & <fct> & <dbl> & <fct> & <fct> & <dbl> & <fct> & <fct> & <fct>\\\\\n",
       "\\hline\n",
       "\t1 & 1 & 145 & 0 & 3 & 63 & 1 & 2 & 0\\\\\n",
       "\t4 & 3 & 130 & 0 & 3 & 37 & 1 & 0 & 0\\\\\n",
       "\t5 & 2 & 130 & 0 & 1 & 41 & 0 & 2 & 0\\\\\n",
       "\t⋮ & ⋮ & ⋮ & ⋮ & ⋮ & ⋮ & ⋮ & ⋮ & ⋮\\\\\n",
       "\t298 & 4 & 140 & 1 & 2 & 57 & 0 & 0 & 1\\\\\n",
       "\t300 & 4 & 144 & 0 & 2 & 68 & 1 & 0 & 1\\\\\n",
       "\t301 & 4 & 130 & 1 & 2 & 57 & 1 & 0 & 1\\\\\n",
       "\\end{tabular}\n"
      ],
      "text/markdown": [
       "\n",
       "A data.frame: 227 × 8\n",
       "\n",
       "| <!--/--> | chest_pain &lt;fct&gt; | resting_blood_pressure &lt;dbl&gt; | exercise_induced_angina &lt;fct&gt; | ST_slope &lt;fct&gt; | age &lt;dbl&gt; | sex &lt;fct&gt; | rest_ecg &lt;fct&gt; | diagnosis &lt;fct&gt; |\n",
       "|---|---|---|---|---|---|---|---|---|\n",
       "| 1 | 1 | 145 | 0 | 3 | 63 | 1 | 2 | 0 |\n",
       "| 4 | 3 | 130 | 0 | 3 | 37 | 1 | 0 | 0 |\n",
       "| 5 | 2 | 130 | 0 | 1 | 41 | 0 | 2 | 0 |\n",
       "| ⋮ | ⋮ | ⋮ | ⋮ | ⋮ | ⋮ | ⋮ | ⋮ | ⋮ |\n",
       "| 298 | 4 | 140 | 1 | 2 | 57 | 0 | 0 | 1 |\n",
       "| 300 | 4 | 144 | 0 | 2 | 68 | 1 | 0 | 1 |\n",
       "| 301 | 4 | 130 | 1 | 2 | 57 | 1 | 0 | 1 |\n",
       "\n"
      ],
      "text/plain": [
       "    chest_pain resting_blood_pressure exercise_induced_angina ST_slope age sex\n",
       "1   1          145                    0                       3        63  1  \n",
       "4   3          130                    0                       3        37  1  \n",
       "5   2          130                    0                       1        41  0  \n",
       "⋮   ⋮          ⋮                      ⋮                       ⋮        ⋮   ⋮  \n",
       "298 4          140                    1                       2        57  0  \n",
       "300 4          144                    0                       2        68  1  \n",
       "301 4          130                    1                       2        57  1  \n",
       "    rest_ecg diagnosis\n",
       "1   2        0        \n",
       "4   0        0        \n",
       "5   2        0        \n",
       "⋮   ⋮        ⋮        \n",
       "298 0        1        \n",
       "300 0        1        \n",
       "301 0        1        "
      ]
     },
     "metadata": {},
     "output_type": "display_data"
    }
   ],
   "source": [
    "heart_select_scale <- heart_train |>\n",
    "    select(chest_pain, resting_blood_pressure, exercise_induced_angina, ST_slope, age, sex, rest_ecg, diagnosis)\n",
    "heart_select_scale"
   ]
  },
  {
   "cell_type": "code",
   "execution_count": 31,
   "id": "51543148-fe41-4187-97ca-803702f5bf93",
   "metadata": {},
   "outputs": [
    {
     "name": "stderr",
     "output_type": "stream",
     "text": [
      "Warning message:\n",
      "“tune samples were requested but there were 227 rows in the data. 222 will be used.”\n"
     ]
    },
    {
     "data": {
      "image/png": "[encoded data removed]",
      "text/plain": [
       "plot without title"
      ]
     },
     "metadata": {
      "image/png": {
       "height": 480,
       "width": 480
      }
     },
     "output_type": "display_data"
    }
   ],
   "source": [
    "set.seed(20)\n",
    "options(repr.plot.width = 8, repr.plot.height = 8) \n",
    "knn_spec <- nearest_neighbor(weight_func = \"rectangular\", neighbors = tune()) |>\n",
    "            set_engine(\"kknn\") |>\n",
    "            set_mode(\"classification\")\n",
    "\n",
    "recipe <- recipe(diagnosis ~., data = heart_select_scale) |>\n",
    "                        step_scale(all_numeric()) |>\n",
    "                        step_center(all_numeric()) |> \n",
    "    step_dummy(chest_pain, exercise_induced_angina, ST_slope, rest_ecg, sex)\n",
    "\n",
    "fit <- workflow() |>\n",
    "                    add_recipe(recipe) |>\n",
    "                    add_model(knn_spec) |>\n",
    "                    fit(data = heart_select_scale)\n",
    "\n",
    "train_vfold <- vfold_cv(heart_select_scale, v = 10, strata = diagnosis)\n",
    "\n",
    "k_lots <- tibble(neighbors = seq(from = 2, to = 10, by = 1))\n",
    "\n",
    "knn_results <- workflow() |>\n",
    "  add_recipe(recipe) |>\n",
    "  add_model(knn_spec) |>\n",
    "  tune_grid(resamples = train_vfold, grid = k_lots) |>\n",
    "  collect_metrics()\n",
    "\n",
    "accuracies <- knn_results |>\n",
    "  filter(.metric == \"accuracy\")\n",
    "\n",
    "cross_val_plot <- ggplot(accuracies, aes(x = neighbors, y = mean)) +\n",
    "  geom_point() +\n",
    "  geom_line() +\n",
    "  labs(x = \"Neighbors\", y = \"Accuracy Estimate\") + \n",
    "  theme(text = element_text(size = 12))\n",
    "cross_val_plot"
   ]
  },
  {
   "cell_type": "markdown",
   "id": "1ff7f8da-cb84-4729-aa9e-51f27a356fac",
   "metadata": {},
   "source": [
    "Number of k neighbours selected: 4"
   ]
  },
  {
   "cell_type": "markdown",
   "id": "5fea93c2-0b55-4949-89c7-6f6bc29055ae",
   "metadata": {},
   "source": [
    "**Create model with best predictors and best k-value**"
   ]
  },
  {
   "cell_type": "code",
   "execution_count": 32,
   "id": "86069d3b-ffe7-4bd8-94ee-fe8fa5bc1ccb",
   "metadata": {},
   "outputs": [],
   "source": [
    "heart_spec <- nearest_neighbor(weight_func = \"rectangular\",neighbors = 4)|>\n",
    "set_engine(\"kknn\")|>\n",
    "set_mode(\"classification\")\n",
    "\n",
    "heart_fit <- workflow()|>\n",
    "add_recipe(recipe)|>\n",
    "add_model(heart_spec)|>\n",
    "fit(data=heart_select_scale)"
   ]
  },
  {
   "cell_type": "markdown",
   "id": "6e40256c-75f3-4873-98a6-eac7ed4132ea",
   "metadata": {},
   "source": [
    "**Use test data with predictor model, display with table.**"
   ]
  },
  {
   "cell_type": "code",
   "execution_count": 33,
   "id": "4c1800da-caec-4133-92a6-a1271426607b",
   "metadata": {},
   "outputs": [
    {
     "data": {
      "text/html": [
       "<table class=\"dataframe\">\n",
       "<caption>A tibble: 2 × 3</caption>\n",
       "<thead>\n",
       "\t<tr><th scope=col>.metric</th><th scope=col>.estimator</th><th scope=col>.estimate</th></tr>\n",
       "\t<tr><th scope=col>&lt;chr&gt;</th><th scope=col>&lt;chr&gt;</th><th scope=col>&lt;dbl&gt;</th></tr>\n",
       "</thead>\n",
       "<tbody>\n",
       "\t<tr><td>accuracy</td><td>binary</td><td>0.8026316</td></tr>\n",
       "\t<tr><td>kap     </td><td>binary</td><td>0.6019553</td></tr>\n",
       "</tbody>\n",
       "</table>\n"
      ],
      "text/latex": [
       "A tibble: 2 × 3\n",
       "\\begin{tabular}{lll}\n",
       " .metric & .estimator & .estimate\\\\\n",
       " <chr> & <chr> & <dbl>\\\\\n",
       "\\hline\n",
       "\t accuracy & binary & 0.8026316\\\\\n",
       "\t kap      & binary & 0.6019553\\\\\n",
       "\\end{tabular}\n"
      ],
      "text/markdown": [
       "\n",
       "A tibble: 2 × 3\n",
       "\n",
       "| .metric &lt;chr&gt; | .estimator &lt;chr&gt; | .estimate &lt;dbl&gt; |\n",
       "|---|---|---|\n",
       "| accuracy | binary | 0.8026316 |\n",
       "| kap      | binary | 0.6019553 |\n",
       "\n"
      ],
      "text/plain": [
       "  .metric  .estimator .estimate\n",
       "1 accuracy binary     0.8026316\n",
       "2 kap      binary     0.6019553"
      ]
     },
     "metadata": {},
     "output_type": "display_data"
    },
    {
     "data": {
      "text/plain": [
       "          Truth\n",
       "Prediction  0  1\n",
       "         0 34  8\n",
       "         1  7 27"
      ]
     },
     "metadata": {},
     "output_type": "display_data"
    }
   ],
   "source": [
    "heart_predictions <- predict(heart_fit, heart_test)|>\n",
    "    bind_cols(heart_test)\n",
    "\n",
    "heart_metrics <- heart_predictions|>\n",
    "    metrics(truth = diagnosis, estimate = .pred_class)\n",
    "heart_metrics\n",
    "\n",
    "heart_conf_mat <- heart_predictions|>\n",
    "    conf_mat(truth = diagnosis ,estimate = .pred_class)\n",
    "\n",
    "heart_conf_mat"
   ]
  },
  {
   "cell_type": "markdown",
   "id": "94625e71-da40-4c96-bd8d-a47dfeb1a116",
   "metadata": {},
   "source": [
    "**Discussion**\n",
    "\n",
    "From our data analysis using K-nearest neighbors classification, we found that our binary estimator had an accuracy of about 57.14%. This is quite a low accuracy, as in this course we have discussed how even accuracies of 80% and greater may not be sufficient in producing high-value results. \n",
    "\n",
    "Based on the method we used pick predictors for our classification model, our group would have expected to have a higher accuracy result. \n",
    "\n",
    "Our findings could be impacted by our methods, since we used google to help us use tools learned during the regression portion of this course to find correlations between variables. In attempting to go beyond the scope of the course and apply our knowledge in novel ways, there is a possibility of error occuring on our end. An alternative method would have been to do more background research on the greatest known health symptoms corresponding to heart disease, and then manually selecting our predictors based on this background knowledge. \n",
    "\n",
    "There is a great potential for future questioning from the basis of data science project. For example, we can test our classification model to diagnosis the health conditions of new patients (outside of the database) and thus assign them a health condition that corresponds to their symptoms and current physiological state. There are also broader applications of a project like this, specifically in the realm of medicine and healthcare. There is a growing standardization and implementation of data and computer science models into healthcare workflows - making the diagnosis and treatment process for patients much more efficient. After all, in theory, a highly well trained model with high accuracy may outcompete a tired, overworked physician when it comes to accurately creating a diagnosis and treatment plan. This was once thought to be a futuristic idea, but the power of data and computer science is undeniable, and there is great promise that it may change the state of modern healthcare.\n",
    "\n",
    "*Explanation for predictor choices:* \n",
    "\n",
    "We didn't use forward selection as mentioned in our proposal, a TA advised us not to as it was beyond the scope of this course. Thus, we set out to find another way to choose our best predictors without having to test the accuracy of 479001600 predictor combonations by hand. A quick google search led us to understand we can use what we learned in regression to view the correlations between varibles and use that to pick our predictors for classification (Carvalho et. al, 2019). Using the leaps package, an article by Atinakarim on medium walked us through how to do this (2021).  \n"
   ]
  },
  {
   "cell_type": "markdown",
   "id": "6dee0f2a-7e1a-44d2-adc6-82615f14838b",
   "metadata": {},
   "source": [
    "**References** \n",
    "\n",
    "Atinakarim. (2021, May 25). Selecting the best predictors for linear regression in R. Medium. https://towardsdatascience.com/selecting-the-best-predictors-for-linear-regression-in-r-f385bf3d93e9 \n",
    "\n",
    "Carvalho, P., López, D., &amp; Alex2006. (2019, April). How to determine which are the best predictor variables given a known classification?. Cross Validated. https://stats.stackexchange.com/questions/399711/how-to-determine-which-are-the-best-predictor-variables-given-a-known-classifica \n",
    "\n",
    "Lumley, T. (Version 3.1). leaps: Regression Subset Selection [Computer software]. Retrieved from CRAN. URL: https://rdrr.io/cran/leaps/\n",
    "\n",
    "Janosi,Andras, Steinbrunn,William, Pfisterer,Matthias, and Detrano,Robert. (1988). Heart Disease. UCI Machine Learning Repository. \n",
    "https://doi.org/10.24432/C52P4X.\n"
   ]
  },
  {
   "cell_type": "markdown",
   "id": "beaafcce-c5e2-49fc-9fe0-8ed502a122d7",
   "metadata": {},
   "source": [
    "."
   ]
  }
 ],
 "metadata": {
  "kernelspec": {
   "display_name": "R",
   "language": "R",
   "name": "ir"
  },
  "language_info": {
   "codemirror_mode": "r",
   "file_extension": ".r",
   "mimetype": "text/x-r-source",
   "name": "R",
   "pygments_lexer": "r",
   "version": "4.1.3"
  }
 },
 "nbformat": 4,
 "nbformat_minor": 5
}
