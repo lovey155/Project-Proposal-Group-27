{
 "cells": [
  {
   "cell_type": "markdown",
   "id": "3167e9af",
   "metadata": {},
   "source": [
    "**Group #27's Project Proposal for DSCI 100 Sect.002**\n",
    "\n",
    "Ella Woolcott, Nylah Grewal, Anoushka Gautam, Loveleen Chandi"
   ]
  },
  {
   "cell_type": "markdown",
   "id": "a67678be",
   "metadata": {},
   "source": [
    "**Predicting Diagnosis of Heart Disease Based on Physical Indicator Variables**"
   ]
  },
  {
   "cell_type": "markdown",
   "id": "73f442b7",
   "metadata": {},
   "source": [
    "**Introduction:**\n",
    "Heart disease is a general term used to describe multiple medical conditions relating to the heart. Analyzing data relating to heart disease can have broad applications in public health and medicine, as heart disease is a leading cause of death. Symptoms of heart disease include chest pains, heart palpitations, and clogged blood vessels. Risk factors include high blood pressure and cholesterol. These variables are observed in the data set…upon wrangling the data, we may observe relationships between the patient’s symptoms and outcome/diagnosis.\n",
    "\n",
    "The predictive question we are going to answer is:\n",
    "What variables give the most reliable and accurate predictor outcome? \n",
    "\n",
    "The heart disease data set we have chosen to analyze comes from a machine learning repository and contains 4 databases from Cleveland, Long Beach, Hungary, and Switzerland. The dataset contains a lot of medical terminology, as shown in the table of 14 variables. The possible observations for each variable in the data set are categorical, integer, or numerical values.\n"
   ]
  },
  {
   "cell_type": "markdown",
   "id": "aabd78df",
   "metadata": {},
   "source": [
    "| Atrribute Number | Varible | Observations Possible | Definition | \n",
    "|  :----: |    :----:   |  :----:  |  :----:  |\n",
    "| 1     | age       | numerical value  | number in years |\n",
    "| 2   | sex        | 1 = male; 0 = female      |**FILL**      |\n",
    "| 3   | cp | Value 1: typical angina, Value 2: atypical angina, Value 3: non-anginal pain, Value 4: asymptomatic     |chest pain type |\n",
    "| 4   | trestbps        | in mm Hg on admission to the hospital     |resting blood pressure  |\n",
    "| 5   | chol        |  in mg/dl     |serum cholesterol       |\n",
    "| 6   | fbs        | (1 = true; 0 = false)      |fasting blood sugar > 120 mg/dl      |\n",
    "| 7   | restecg        |Value 0: normal, Value 1: having ST-T wave abnormality (T wave inversions and/or ST elevation or depression of > 0.05 mV), Value 2: showing probable or definite left ventricular hypertrophy by Estes' criteria      |resting electrocardiographic results    |\n",
    "| 8   | thalach        | numerical value      |maximum heart rate achieved   |\n",
    "| 9   | exang        | (1 = yes; 0 = no)      |exercise induced angina      |\n",
    "| 10   | oldpeak        | **FILL**      |ST depression induced by exercise relative to rest      |\n",
    "| 11  | slope        | Value 1: upsloping, Value 2: flat, Value 3: downsloping      |the slope of the peak exercise ST segment     |\n",
    "| 12   | ca        | 0-3      |number of major vessels colored by fluoroscopy     |\n",
    "| 13   | thal        |3 = normal; 6 = fixed defect; 7 = reversible defect       |**FILL**      |\n",
    "| 14  | num        | Value 0: < 50% diameter, Value 1: > 50% diameter narrowing (in any major vessel: attributes 59 through 68 are vessels)      |diagnosis of heart disease (angiographic disease status)      |"
   ]
  },
  {
   "cell_type": "code",
   "execution_count": 1,
   "id": "95f89ae4",
   "metadata": {},
   "outputs": [
    {
     "name": "stderr",
     "output_type": "stream",
     "text": [
      "── \u001b[1mAttaching packages\u001b[22m ─────────────────────────────────────── tidyverse 1.3.1 ──\n",
      "\n",
      "\u001b[32m✔\u001b[39m \u001b[34mggplot2\u001b[39m 3.3.6     \u001b[32m✔\u001b[39m \u001b[34mpurrr  \u001b[39m 0.3.4\n",
      "\u001b[32m✔\u001b[39m \u001b[34mtibble \u001b[39m 3.1.7     \u001b[32m✔\u001b[39m \u001b[34mdplyr  \u001b[39m 1.0.9\n",
      "\u001b[32m✔\u001b[39m \u001b[34mtidyr  \u001b[39m 1.2.0     \u001b[32m✔\u001b[39m \u001b[34mstringr\u001b[39m 1.4.0\n",
      "\u001b[32m✔\u001b[39m \u001b[34mreadr  \u001b[39m 2.1.2     \u001b[32m✔\u001b[39m \u001b[34mforcats\u001b[39m 0.5.1\n",
      "\n",
      "── \u001b[1mConflicts\u001b[22m ────────────────────────────────────────── tidyverse_conflicts() ──\n",
      "\u001b[31m✖\u001b[39m \u001b[34mdplyr\u001b[39m::\u001b[32mfilter()\u001b[39m masks \u001b[34mstats\u001b[39m::filter()\n",
      "\u001b[31m✖\u001b[39m \u001b[34mdplyr\u001b[39m::\u001b[32mlag()\u001b[39m    masks \u001b[34mstats\u001b[39m::lag()\n",
      "\n",
      "── \u001b[1mAttaching packages\u001b[22m ────────────────────────────────────── tidymodels 1.0.0 ──\n",
      "\n",
      "\u001b[32m✔\u001b[39m \u001b[34mbroom       \u001b[39m 1.0.0     \u001b[32m✔\u001b[39m \u001b[34mrsample     \u001b[39m 1.0.0\n",
      "\u001b[32m✔\u001b[39m \u001b[34mdials       \u001b[39m 1.0.0     \u001b[32m✔\u001b[39m \u001b[34mtune        \u001b[39m 1.0.0\n",
      "\u001b[32m✔\u001b[39m \u001b[34minfer       \u001b[39m 1.0.2     \u001b[32m✔\u001b[39m \u001b[34mworkflows   \u001b[39m 1.0.0\n",
      "\u001b[32m✔\u001b[39m \u001b[34mmodeldata   \u001b[39m 1.0.0     \u001b[32m✔\u001b[39m \u001b[34mworkflowsets\u001b[39m 1.0.0\n",
      "\u001b[32m✔\u001b[39m \u001b[34mparsnip     \u001b[39m 1.0.0     \u001b[32m✔\u001b[39m \u001b[34myardstick   \u001b[39m 1.0.0\n",
      "\u001b[32m✔\u001b[39m \u001b[34mrecipes     \u001b[39m 1.0.1     \n",
      "\n",
      "── \u001b[1mConflicts\u001b[22m ───────────────────────────────────────── tidymodels_conflicts() ──\n",
      "\u001b[31m✖\u001b[39m \u001b[34mscales\u001b[39m::\u001b[32mdiscard()\u001b[39m masks \u001b[34mpurrr\u001b[39m::discard()\n",
      "\u001b[31m✖\u001b[39m \u001b[34mdplyr\u001b[39m::\u001b[32mfilter()\u001b[39m   masks \u001b[34mstats\u001b[39m::filter()\n",
      "\u001b[31m✖\u001b[39m \u001b[34mrecipes\u001b[39m::\u001b[32mfixed()\u001b[39m  masks \u001b[34mstringr\u001b[39m::fixed()\n",
      "\u001b[31m✖\u001b[39m \u001b[34mdplyr\u001b[39m::\u001b[32mlag()\u001b[39m      masks \u001b[34mstats\u001b[39m::lag()\n",
      "\u001b[31m✖\u001b[39m \u001b[34myardstick\u001b[39m::\u001b[32mspec()\u001b[39m masks \u001b[34mreadr\u001b[39m::spec()\n",
      "\u001b[31m✖\u001b[39m \u001b[34mrecipes\u001b[39m::\u001b[32mstep()\u001b[39m   masks \u001b[34mstats\u001b[39m::step()\n",
      "\u001b[34m•\u001b[39m Use \u001b[32mtidymodels_prefer()\u001b[39m to resolve common conflicts.\n",
      "\n",
      "Warning message in file(filename, \"r\", encoding = encoding):\n",
      "“cannot open file 'tests.R': No such file or directory”\n"
     ]
    },
    {
     "ename": "ERROR",
     "evalue": "Error in file(filename, \"r\", encoding = encoding): cannot open the connection\n",
     "output_type": "error",
     "traceback": [
      "Error in file(filename, \"r\", encoding = encoding): cannot open the connection\nTraceback:\n",
      "1. source(\"tests.R\")",
      "2. file(filename, \"r\", encoding = encoding)"
     ]
    }
   ],
   "source": [
    "library(tidyverse)\n",
    "library(repr)\n",
    "library(tidymodels)\n",
    "options(repr.matrix.max.rows = 6)\n",
    "source(\"tests.R\")\n",
    "source('cleanup.R')"
   ]
  },
  {
   "cell_type": "code",
   "execution_count": 2,
   "id": "82670cb0",
   "metadata": {},
   "outputs": [
    {
     "data": {
      "text/html": [
       "<table class=\"dataframe\">\n",
       "<caption>A data.frame: 920 × 16</caption>\n",
       "<thead>\n",
       "\t<tr><th scope=col>id</th><th scope=col>age</th><th scope=col>sex</th><th scope=col>dataset</th><th scope=col>cp</th><th scope=col>trestbps</th><th scope=col>chol</th><th scope=col>fbs</th><th scope=col>restecg</th><th scope=col>thalch</th><th scope=col>exang</th><th scope=col>oldpeak</th><th scope=col>slope</th><th scope=col>ca</th><th scope=col>thal</th><th scope=col>num</th></tr>\n",
       "\t<tr><th scope=col>&lt;int&gt;</th><th scope=col>&lt;int&gt;</th><th scope=col>&lt;chr&gt;</th><th scope=col>&lt;chr&gt;</th><th scope=col>&lt;chr&gt;</th><th scope=col>&lt;int&gt;</th><th scope=col>&lt;int&gt;</th><th scope=col>&lt;lgl&gt;</th><th scope=col>&lt;chr&gt;</th><th scope=col>&lt;int&gt;</th><th scope=col>&lt;lgl&gt;</th><th scope=col>&lt;dbl&gt;</th><th scope=col>&lt;chr&gt;</th><th scope=col>&lt;int&gt;</th><th scope=col>&lt;chr&gt;</th><th scope=col>&lt;int&gt;</th></tr>\n",
       "</thead>\n",
       "<tbody>\n",
       "\t<tr><td>1</td><td>63</td><td>Male</td><td>Cleveland</td><td>typical angina</td><td>145</td><td>233</td><td> TRUE</td><td>lv hypertrophy</td><td>150</td><td>FALSE</td><td>2.3</td><td>downsloping</td><td>0</td><td>fixed defect     </td><td>0</td></tr>\n",
       "\t<tr><td>2</td><td>67</td><td>Male</td><td>Cleveland</td><td>asymptomatic  </td><td>160</td><td>286</td><td>FALSE</td><td>lv hypertrophy</td><td>108</td><td> TRUE</td><td>1.5</td><td>flat       </td><td>3</td><td>normal           </td><td>2</td></tr>\n",
       "\t<tr><td>3</td><td>67</td><td>Male</td><td>Cleveland</td><td>asymptomatic  </td><td>120</td><td>229</td><td>FALSE</td><td>lv hypertrophy</td><td>129</td><td> TRUE</td><td>2.6</td><td>flat       </td><td>2</td><td>reversable defect</td><td>1</td></tr>\n",
       "\t<tr><td>⋮</td><td>⋮</td><td>⋮</td><td>⋮</td><td>⋮</td><td>⋮</td><td>⋮</td><td>⋮</td><td>⋮</td><td>⋮</td><td>⋮</td><td>⋮</td><td>⋮</td><td>⋮</td><td>⋮</td><td>⋮</td></tr>\n",
       "\t<tr><td>918</td><td>55</td><td>Male</td><td>VA Long Beach</td><td>asymptomatic   </td><td>122</td><td>223</td><td> TRUE</td><td>st-t abnormality</td><td>100</td><td>FALSE</td><td> 0</td><td></td><td>NA</td><td>fixed defect</td><td>2</td></tr>\n",
       "\t<tr><td>919</td><td>58</td><td>Male</td><td>VA Long Beach</td><td>asymptomatic   </td><td> NA</td><td>385</td><td> TRUE</td><td>lv hypertrophy  </td><td> NA</td><td>   NA</td><td>NA</td><td></td><td>NA</td><td>            </td><td>0</td></tr>\n",
       "\t<tr><td>920</td><td>62</td><td>Male</td><td>VA Long Beach</td><td>atypical angina</td><td>120</td><td>254</td><td>FALSE</td><td>lv hypertrophy  </td><td> 93</td><td> TRUE</td><td> 0</td><td></td><td>NA</td><td>            </td><td>1</td></tr>\n",
       "</tbody>\n",
       "</table>\n"
      ],
      "text/latex": [
       "A data.frame: 920 × 16\n",
       "\\begin{tabular}{llllllllllllllll}\n",
       " id & age & sex & dataset & cp & trestbps & chol & fbs & restecg & thalch & exang & oldpeak & slope & ca & thal & num\\\\\n",
       " <int> & <int> & <chr> & <chr> & <chr> & <int> & <int> & <lgl> & <chr> & <int> & <lgl> & <dbl> & <chr> & <int> & <chr> & <int>\\\\\n",
       "\\hline\n",
       "\t 1 & 63 & Male & Cleveland & typical angina & 145 & 233 &  TRUE & lv hypertrophy & 150 & FALSE & 2.3 & downsloping & 0 & fixed defect      & 0\\\\\n",
       "\t 2 & 67 & Male & Cleveland & asymptomatic   & 160 & 286 & FALSE & lv hypertrophy & 108 &  TRUE & 1.5 & flat        & 3 & normal            & 2\\\\\n",
       "\t 3 & 67 & Male & Cleveland & asymptomatic   & 120 & 229 & FALSE & lv hypertrophy & 129 &  TRUE & 2.6 & flat        & 2 & reversable defect & 1\\\\\n",
       "\t ⋮ & ⋮ & ⋮ & ⋮ & ⋮ & ⋮ & ⋮ & ⋮ & ⋮ & ⋮ & ⋮ & ⋮ & ⋮ & ⋮ & ⋮ & ⋮\\\\\n",
       "\t 918 & 55 & Male & VA Long Beach & asymptomatic    & 122 & 223 &  TRUE & st-t abnormality & 100 & FALSE &  0 &  & NA & fixed defect & 2\\\\\n",
       "\t 919 & 58 & Male & VA Long Beach & asymptomatic    &  NA & 385 &  TRUE & lv hypertrophy   &  NA &    NA & NA &  & NA &              & 0\\\\\n",
       "\t 920 & 62 & Male & VA Long Beach & atypical angina & 120 & 254 & FALSE & lv hypertrophy   &  93 &  TRUE &  0 &  & NA &              & 1\\\\\n",
       "\\end{tabular}\n"
      ],
      "text/markdown": [
       "\n",
       "A data.frame: 920 × 16\n",
       "\n",
       "| id &lt;int&gt; | age &lt;int&gt; | sex &lt;chr&gt; | dataset &lt;chr&gt; | cp &lt;chr&gt; | trestbps &lt;int&gt; | chol &lt;int&gt; | fbs &lt;lgl&gt; | restecg &lt;chr&gt; | thalch &lt;int&gt; | exang &lt;lgl&gt; | oldpeak &lt;dbl&gt; | slope &lt;chr&gt; | ca &lt;int&gt; | thal &lt;chr&gt; | num &lt;int&gt; |\n",
       "|---|---|---|---|---|---|---|---|---|---|---|---|---|---|---|---|\n",
       "| 1 | 63 | Male | Cleveland | typical angina | 145 | 233 |  TRUE | lv hypertrophy | 150 | FALSE | 2.3 | downsloping | 0 | fixed defect      | 0 |\n",
       "| 2 | 67 | Male | Cleveland | asymptomatic   | 160 | 286 | FALSE | lv hypertrophy | 108 |  TRUE | 1.5 | flat        | 3 | normal            | 2 |\n",
       "| 3 | 67 | Male | Cleveland | asymptomatic   | 120 | 229 | FALSE | lv hypertrophy | 129 |  TRUE | 2.6 | flat        | 2 | reversable defect | 1 |\n",
       "| ⋮ | ⋮ | ⋮ | ⋮ | ⋮ | ⋮ | ⋮ | ⋮ | ⋮ | ⋮ | ⋮ | ⋮ | ⋮ | ⋮ | ⋮ | ⋮ |\n",
       "| 918 | 55 | Male | VA Long Beach | asymptomatic    | 122 | 223 |  TRUE | st-t abnormality | 100 | FALSE |  0 | <!----> | NA | fixed defect | 2 |\n",
       "| 919 | 58 | Male | VA Long Beach | asymptomatic    |  NA | 385 |  TRUE | lv hypertrophy   |  NA |    NA | NA | <!----> | NA | <!----> | 0 |\n",
       "| 920 | 62 | Male | VA Long Beach | atypical angina | 120 | 254 | FALSE | lv hypertrophy   |  93 |  TRUE |  0 | <!----> | NA | <!----> | 1 |\n",
       "\n"
      ],
      "text/plain": [
       "    id  age sex  dataset       cp              trestbps chol fbs  \n",
       "1   1   63  Male Cleveland     typical angina  145      233   TRUE\n",
       "2   2   67  Male Cleveland     asymptomatic    160      286  FALSE\n",
       "3   3   67  Male Cleveland     asymptomatic    120      229  FALSE\n",
       "⋮   ⋮   ⋮   ⋮    ⋮             ⋮               ⋮        ⋮    ⋮    \n",
       "918 918 55  Male VA Long Beach asymptomatic    122      223   TRUE\n",
       "919 919 58  Male VA Long Beach asymptomatic     NA      385   TRUE\n",
       "920 920 62  Male VA Long Beach atypical angina 120      254  FALSE\n",
       "    restecg          thalch exang oldpeak slope       ca thal              num\n",
       "1   lv hypertrophy   150    FALSE 2.3     downsloping 0  fixed defect      0  \n",
       "2   lv hypertrophy   108     TRUE 1.5     flat        3  normal            2  \n",
       "3   lv hypertrophy   129     TRUE 2.6     flat        2  reversable defect 1  \n",
       "⋮   ⋮                ⋮      ⋮     ⋮       ⋮           ⋮  ⋮                 ⋮  \n",
       "918 st-t abnormality 100    FALSE  0                  NA fixed defect      2  \n",
       "919 lv hypertrophy    NA       NA NA                  NA                   0  \n",
       "920 lv hypertrophy    93     TRUE  0                  NA                   1  "
      ]
     },
     "metadata": {},
     "output_type": "display_data"
    }
   ],
   "source": [
    "#Demonstrate that the dataset can be read from the web into R \n",
    "heart_data <- read.csv(\"data/heart_disease_uci.csv\")\n",
    "heart_data"
   ]
  },
  {
   "cell_type": "code",
   "execution_count": 3,
   "id": "13fdece0-5afc-45e4-b17a-414bd12a5196",
   "metadata": {},
   "outputs": [
    {
     "data": {
      "text/html": [
       "<table class=\"dataframe\">\n",
       "<caption>A data.frame: 299 × 13</caption>\n",
       "<thead>\n",
       "\t<tr><th scope=col>age</th><th scope=col>sex</th><th scope=col>chest_pain</th><th scope=col>resting_blood_pressure</th><th scope=col>cholesterol</th><th scope=col>fasting_blood_sugar</th><th scope=col>rest_ecg</th><th scope=col>max_heart_rate</th><th scope=col>exercise_induced_angina</th><th scope=col>ST_depression</th><th scope=col>ST_slope</th><th scope=col>thalassemia</th><th scope=col>diagnosis</th></tr>\n",
       "\t<tr><th scope=col>&lt;int&gt;</th><th scope=col>&lt;chr&gt;</th><th scope=col>&lt;chr&gt;</th><th scope=col>&lt;int&gt;</th><th scope=col>&lt;int&gt;</th><th scope=col>&lt;lgl&gt;</th><th scope=col>&lt;chr&gt;</th><th scope=col>&lt;int&gt;</th><th scope=col>&lt;lgl&gt;</th><th scope=col>&lt;dbl&gt;</th><th scope=col>&lt;chr&gt;</th><th scope=col>&lt;chr&gt;</th><th scope=col>&lt;fct&gt;</th></tr>\n",
       "</thead>\n",
       "<tbody>\n",
       "\t<tr><td>63</td><td>Male</td><td>typical angina</td><td>145</td><td>233</td><td> TRUE</td><td>lv hypertrophy</td><td>150</td><td>FALSE</td><td>2.3</td><td>downsloping</td><td>fixed defect     </td><td>0</td></tr>\n",
       "\t<tr><td>67</td><td>Male</td><td>asymptomatic  </td><td>160</td><td>286</td><td>FALSE</td><td>lv hypertrophy</td><td>108</td><td> TRUE</td><td>1.5</td><td>flat       </td><td>normal           </td><td>1</td></tr>\n",
       "\t<tr><td>67</td><td>Male</td><td>asymptomatic  </td><td>120</td><td>229</td><td>FALSE</td><td>lv hypertrophy</td><td>129</td><td> TRUE</td><td>2.6</td><td>flat       </td><td>reversable defect</td><td>1</td></tr>\n",
       "\t<tr><td>⋮</td><td>⋮</td><td>⋮</td><td>⋮</td><td>⋮</td><td>⋮</td><td>⋮</td><td>⋮</td><td>⋮</td><td>⋮</td><td>⋮</td><td>⋮</td><td>⋮</td></tr>\n",
       "\t<tr><td>68</td><td>Male  </td><td>asymptomatic   </td><td>144</td><td>193</td><td> TRUE</td><td>normal        </td><td>141</td><td>FALSE</td><td>3.4</td><td>flat</td><td>reversable defect</td><td>1</td></tr>\n",
       "\t<tr><td>57</td><td>Male  </td><td>asymptomatic   </td><td>130</td><td>131</td><td>FALSE</td><td>normal        </td><td>115</td><td> TRUE</td><td>1.2</td><td>flat</td><td>reversable defect</td><td>1</td></tr>\n",
       "\t<tr><td>57</td><td>Female</td><td>atypical angina</td><td>130</td><td>236</td><td>FALSE</td><td>lv hypertrophy</td><td>174</td><td>FALSE</td><td>0.0</td><td>flat</td><td>normal           </td><td>1</td></tr>\n",
       "</tbody>\n",
       "</table>\n"
      ],
      "text/latex": [
       "A data.frame: 299 × 13\n",
       "\\begin{tabular}{lllllllllllll}\n",
       " age & sex & chest\\_pain & resting\\_blood\\_pressure & cholesterol & fasting\\_blood\\_sugar & rest\\_ecg & max\\_heart\\_rate & exercise\\_induced\\_angina & ST\\_depression & ST\\_slope & thalassemia & diagnosis\\\\\n",
       " <int> & <chr> & <chr> & <int> & <int> & <lgl> & <chr> & <int> & <lgl> & <dbl> & <chr> & <chr> & <fct>\\\\\n",
       "\\hline\n",
       "\t 63 & Male & typical angina & 145 & 233 &  TRUE & lv hypertrophy & 150 & FALSE & 2.3 & downsloping & fixed defect      & 0\\\\\n",
       "\t 67 & Male & asymptomatic   & 160 & 286 & FALSE & lv hypertrophy & 108 &  TRUE & 1.5 & flat        & normal            & 1\\\\\n",
       "\t 67 & Male & asymptomatic   & 120 & 229 & FALSE & lv hypertrophy & 129 &  TRUE & 2.6 & flat        & reversable defect & 1\\\\\n",
       "\t ⋮ & ⋮ & ⋮ & ⋮ & ⋮ & ⋮ & ⋮ & ⋮ & ⋮ & ⋮ & ⋮ & ⋮ & ⋮\\\\\n",
       "\t 68 & Male   & asymptomatic    & 144 & 193 &  TRUE & normal         & 141 & FALSE & 3.4 & flat & reversable defect & 1\\\\\n",
       "\t 57 & Male   & asymptomatic    & 130 & 131 & FALSE & normal         & 115 &  TRUE & 1.2 & flat & reversable defect & 1\\\\\n",
       "\t 57 & Female & atypical angina & 130 & 236 & FALSE & lv hypertrophy & 174 & FALSE & 0.0 & flat & normal            & 1\\\\\n",
       "\\end{tabular}\n"
      ],
      "text/markdown": [
       "\n",
       "A data.frame: 299 × 13\n",
       "\n",
       "| age &lt;int&gt; | sex &lt;chr&gt; | chest_pain &lt;chr&gt; | resting_blood_pressure &lt;int&gt; | cholesterol &lt;int&gt; | fasting_blood_sugar &lt;lgl&gt; | rest_ecg &lt;chr&gt; | max_heart_rate &lt;int&gt; | exercise_induced_angina &lt;lgl&gt; | ST_depression &lt;dbl&gt; | ST_slope &lt;chr&gt; | thalassemia &lt;chr&gt; | diagnosis &lt;fct&gt; |\n",
       "|---|---|---|---|---|---|---|---|---|---|---|---|---|\n",
       "| 63 | Male | typical angina | 145 | 233 |  TRUE | lv hypertrophy | 150 | FALSE | 2.3 | downsloping | fixed defect      | 0 |\n",
       "| 67 | Male | asymptomatic   | 160 | 286 | FALSE | lv hypertrophy | 108 |  TRUE | 1.5 | flat        | normal            | 1 |\n",
       "| 67 | Male | asymptomatic   | 120 | 229 | FALSE | lv hypertrophy | 129 |  TRUE | 2.6 | flat        | reversable defect | 1 |\n",
       "| ⋮ | ⋮ | ⋮ | ⋮ | ⋮ | ⋮ | ⋮ | ⋮ | ⋮ | ⋮ | ⋮ | ⋮ | ⋮ |\n",
       "| 68 | Male   | asymptomatic    | 144 | 193 |  TRUE | normal         | 141 | FALSE | 3.4 | flat | reversable defect | 1 |\n",
       "| 57 | Male   | asymptomatic    | 130 | 131 | FALSE | normal         | 115 |  TRUE | 1.2 | flat | reversable defect | 1 |\n",
       "| 57 | Female | atypical angina | 130 | 236 | FALSE | lv hypertrophy | 174 | FALSE | 0.0 | flat | normal            | 1 |\n",
       "\n"
      ],
      "text/plain": [
       "    age sex    chest_pain      resting_blood_pressure cholesterol\n",
       "1   63  Male   typical angina  145                    233        \n",
       "2   67  Male   asymptomatic    160                    286        \n",
       "3   67  Male   asymptomatic    120                    229        \n",
       "⋮   ⋮   ⋮      ⋮               ⋮                      ⋮          \n",
       "297 68  Male   asymptomatic    144                    193        \n",
       "298 57  Male   asymptomatic    130                    131        \n",
       "299 57  Female atypical angina 130                    236        \n",
       "    fasting_blood_sugar rest_ecg       max_heart_rate exercise_induced_angina\n",
       "1    TRUE               lv hypertrophy 150            FALSE                  \n",
       "2   FALSE               lv hypertrophy 108             TRUE                  \n",
       "3   FALSE               lv hypertrophy 129             TRUE                  \n",
       "⋮   ⋮                   ⋮              ⋮              ⋮                      \n",
       "297  TRUE               normal         141            FALSE                  \n",
       "298 FALSE               normal         115             TRUE                  \n",
       "299 FALSE               lv hypertrophy 174            FALSE                  \n",
       "    ST_depression ST_slope    thalassemia       diagnosis\n",
       "1   2.3           downsloping fixed defect      0        \n",
       "2   1.5           flat        normal            1        \n",
       "3   2.6           flat        reversable defect 1        \n",
       "⋮   ⋮             ⋮           ⋮                 ⋮        \n",
       "297 3.4           flat        reversable defect 1        \n",
       "298 1.2           flat        reversable defect 1        \n",
       "299 0.0           flat        normal            1        "
      ]
     },
     "metadata": {},
     "output_type": "display_data"
    }
   ],
   "source": [
    "#Clean and wrangle your data into a tidy format\n",
    "heart_data_2 <- na.omit(heart_data)\n",
    "colnames(heart_data_2) <- c(\"ID\", \"age\", \"sex\", \"location\", \"chest_pain\", \"resting_blood_pressure\", \"cholesterol\", \"fasting_blood_sugar\", \"rest_ecg\", \"max_heart_rate\", \"exercise_induced_angina\", \"ST_depression\", \"ST_slope\", \"num_major_vessels\", \"thalassemia\", \"diagnosis\")\n",
    "\n",
    "#Datasets of other locations do not have inputs for some variables. So will limit dataframe to Cleveland.\n",
    "heart_data_3 <- heart_data_2|>\n",
    "    filter(location == \"Cleveland\")\n",
    "\n",
    "#target variable have 5 inputs (0,1,2,3,4). 1,2,3,4 indicate presence of heart disease while 0 indicates absence of heart disease. \n",
    "heart_data_4 <- heart_data_3|>\n",
    "    select(age:diagnosis, -location, -num_major_vessels)|>\n",
    "    mutate(diagnosis = diagnosis/diagnosis)\n",
    "heart_data_4 <- replace(heart_data_4, is.na(heart_data_4), 0)\n",
    "heart_data_4 <- heart_data_4|>\n",
    "   mutate(diagnosis = as_factor(diagnosis))\n",
    "heart_data_4"
   ]
  },
  {
   "cell_type": "code",
   "execution_count": 4,
   "id": "0e6e033e",
   "metadata": {},
   "outputs": [
    {
     "data": {
      "text/html": [
       "<table class=\"dataframe\">\n",
       "<caption>A data.frame: 223 × 13</caption>\n",
       "<thead>\n",
       "\t<tr><th></th><th scope=col>age</th><th scope=col>sex</th><th scope=col>chest_pain</th><th scope=col>resting_blood_pressure</th><th scope=col>cholesterol</th><th scope=col>fasting_blood_sugar</th><th scope=col>rest_ecg</th><th scope=col>max_heart_rate</th><th scope=col>exercise_induced_angina</th><th scope=col>ST_depression</th><th scope=col>ST_slope</th><th scope=col>thalassemia</th><th scope=col>diagnosis</th></tr>\n",
       "\t<tr><th></th><th scope=col>&lt;int&gt;</th><th scope=col>&lt;chr&gt;</th><th scope=col>&lt;chr&gt;</th><th scope=col>&lt;int&gt;</th><th scope=col>&lt;int&gt;</th><th scope=col>&lt;lgl&gt;</th><th scope=col>&lt;chr&gt;</th><th scope=col>&lt;int&gt;</th><th scope=col>&lt;lgl&gt;</th><th scope=col>&lt;dbl&gt;</th><th scope=col>&lt;chr&gt;</th><th scope=col>&lt;chr&gt;</th><th scope=col>&lt;fct&gt;</th></tr>\n",
       "</thead>\n",
       "<tbody>\n",
       "\t<tr><th scope=row>1</th><td>63</td><td>Male  </td><td>typical angina </td><td>145</td><td>233</td><td> TRUE</td><td>lv hypertrophy</td><td>150</td><td>FALSE</td><td>2.3</td><td>downsloping</td><td>fixed defect</td><td>0</td></tr>\n",
       "\t<tr><th scope=row>4</th><td>37</td><td>Male  </td><td>non-anginal    </td><td>130</td><td>250</td><td>FALSE</td><td>normal        </td><td>187</td><td>FALSE</td><td>3.5</td><td>downsloping</td><td>normal      </td><td>0</td></tr>\n",
       "\t<tr><th scope=row>5</th><td>41</td><td>Female</td><td>atypical angina</td><td>130</td><td>204</td><td>FALSE</td><td>lv hypertrophy</td><td>172</td><td>FALSE</td><td>1.4</td><td>upsloping  </td><td>normal      </td><td>0</td></tr>\n",
       "\t<tr><th scope=row>⋮</th><td>⋮</td><td>⋮</td><td>⋮</td><td>⋮</td><td>⋮</td><td>⋮</td><td>⋮</td><td>⋮</td><td>⋮</td><td>⋮</td><td>⋮</td><td>⋮</td><td>⋮</td></tr>\n",
       "\t<tr><th scope=row>296</th><td>45</td><td>Male</td><td>typical angina</td><td>110</td><td>264</td><td>FALSE</td><td>normal</td><td>132</td><td>FALSE</td><td>1.2</td><td>flat</td><td>reversable defect</td><td>1</td></tr>\n",
       "\t<tr><th scope=row>297</th><td>68</td><td>Male</td><td>asymptomatic  </td><td>144</td><td>193</td><td> TRUE</td><td>normal</td><td>141</td><td>FALSE</td><td>3.4</td><td>flat</td><td>reversable defect</td><td>1</td></tr>\n",
       "\t<tr><th scope=row>298</th><td>57</td><td>Male</td><td>asymptomatic  </td><td>130</td><td>131</td><td>FALSE</td><td>normal</td><td>115</td><td> TRUE</td><td>1.2</td><td>flat</td><td>reversable defect</td><td>1</td></tr>\n",
       "</tbody>\n",
       "</table>\n"
      ],
      "text/latex": [
       "A data.frame: 223 × 13\n",
       "\\begin{tabular}{r|lllllllllllll}\n",
       "  & age & sex & chest\\_pain & resting\\_blood\\_pressure & cholesterol & fasting\\_blood\\_sugar & rest\\_ecg & max\\_heart\\_rate & exercise\\_induced\\_angina & ST\\_depression & ST\\_slope & thalassemia & diagnosis\\\\\n",
       "  & <int> & <chr> & <chr> & <int> & <int> & <lgl> & <chr> & <int> & <lgl> & <dbl> & <chr> & <chr> & <fct>\\\\\n",
       "\\hline\n",
       "\t1 & 63 & Male   & typical angina  & 145 & 233 &  TRUE & lv hypertrophy & 150 & FALSE & 2.3 & downsloping & fixed defect & 0\\\\\n",
       "\t4 & 37 & Male   & non-anginal     & 130 & 250 & FALSE & normal         & 187 & FALSE & 3.5 & downsloping & normal       & 0\\\\\n",
       "\t5 & 41 & Female & atypical angina & 130 & 204 & FALSE & lv hypertrophy & 172 & FALSE & 1.4 & upsloping   & normal       & 0\\\\\n",
       "\t⋮ & ⋮ & ⋮ & ⋮ & ⋮ & ⋮ & ⋮ & ⋮ & ⋮ & ⋮ & ⋮ & ⋮ & ⋮ & ⋮\\\\\n",
       "\t296 & 45 & Male & typical angina & 110 & 264 & FALSE & normal & 132 & FALSE & 1.2 & flat & reversable defect & 1\\\\\n",
       "\t297 & 68 & Male & asymptomatic   & 144 & 193 &  TRUE & normal & 141 & FALSE & 3.4 & flat & reversable defect & 1\\\\\n",
       "\t298 & 57 & Male & asymptomatic   & 130 & 131 & FALSE & normal & 115 &  TRUE & 1.2 & flat & reversable defect & 1\\\\\n",
       "\\end{tabular}\n"
      ],
      "text/markdown": [
       "\n",
       "A data.frame: 223 × 13\n",
       "\n",
       "| <!--/--> | age &lt;int&gt; | sex &lt;chr&gt; | chest_pain &lt;chr&gt; | resting_blood_pressure &lt;int&gt; | cholesterol &lt;int&gt; | fasting_blood_sugar &lt;lgl&gt; | rest_ecg &lt;chr&gt; | max_heart_rate &lt;int&gt; | exercise_induced_angina &lt;lgl&gt; | ST_depression &lt;dbl&gt; | ST_slope &lt;chr&gt; | thalassemia &lt;chr&gt; | diagnosis &lt;fct&gt; |\n",
       "|---|---|---|---|---|---|---|---|---|---|---|---|---|---|\n",
       "| 1 | 63 | Male   | typical angina  | 145 | 233 |  TRUE | lv hypertrophy | 150 | FALSE | 2.3 | downsloping | fixed defect | 0 |\n",
       "| 4 | 37 | Male   | non-anginal     | 130 | 250 | FALSE | normal         | 187 | FALSE | 3.5 | downsloping | normal       | 0 |\n",
       "| 5 | 41 | Female | atypical angina | 130 | 204 | FALSE | lv hypertrophy | 172 | FALSE | 1.4 | upsloping   | normal       | 0 |\n",
       "| ⋮ | ⋮ | ⋮ | ⋮ | ⋮ | ⋮ | ⋮ | ⋮ | ⋮ | ⋮ | ⋮ | ⋮ | ⋮ | ⋮ |\n",
       "| 296 | 45 | Male | typical angina | 110 | 264 | FALSE | normal | 132 | FALSE | 1.2 | flat | reversable defect | 1 |\n",
       "| 297 | 68 | Male | asymptomatic   | 144 | 193 |  TRUE | normal | 141 | FALSE | 3.4 | flat | reversable defect | 1 |\n",
       "| 298 | 57 | Male | asymptomatic   | 130 | 131 | FALSE | normal | 115 |  TRUE | 1.2 | flat | reversable defect | 1 |\n",
       "\n"
      ],
      "text/plain": [
       "    age sex    chest_pain      resting_blood_pressure cholesterol\n",
       "1   63  Male   typical angina  145                    233        \n",
       "4   37  Male   non-anginal     130                    250        \n",
       "5   41  Female atypical angina 130                    204        \n",
       "⋮   ⋮   ⋮      ⋮               ⋮                      ⋮          \n",
       "296 45  Male   typical angina  110                    264        \n",
       "297 68  Male   asymptomatic    144                    193        \n",
       "298 57  Male   asymptomatic    130                    131        \n",
       "    fasting_blood_sugar rest_ecg       max_heart_rate exercise_induced_angina\n",
       "1    TRUE               lv hypertrophy 150            FALSE                  \n",
       "4   FALSE               normal         187            FALSE                  \n",
       "5   FALSE               lv hypertrophy 172            FALSE                  \n",
       "⋮   ⋮                   ⋮              ⋮              ⋮                      \n",
       "296 FALSE               normal         132            FALSE                  \n",
       "297  TRUE               normal         141            FALSE                  \n",
       "298 FALSE               normal         115             TRUE                  \n",
       "    ST_depression ST_slope    thalassemia       diagnosis\n",
       "1   2.3           downsloping fixed defect      0        \n",
       "4   3.5           downsloping normal            0        \n",
       "5   1.4           upsloping   normal            0        \n",
       "⋮   ⋮             ⋮           ⋮                 ⋮        \n",
       "296 1.2           flat        reversable defect 1        \n",
       "297 3.4           flat        reversable defect 1        \n",
       "298 1.2           flat        reversable defect 1        "
      ]
     },
     "metadata": {},
     "output_type": "display_data"
    },
    {
     "data": {
      "text/html": [
       "<table class=\"dataframe\">\n",
       "<caption>A data.frame: 76 × 13</caption>\n",
       "<thead>\n",
       "\t<tr><th></th><th scope=col>age</th><th scope=col>sex</th><th scope=col>chest_pain</th><th scope=col>resting_blood_pressure</th><th scope=col>cholesterol</th><th scope=col>fasting_blood_sugar</th><th scope=col>rest_ecg</th><th scope=col>max_heart_rate</th><th scope=col>exercise_induced_angina</th><th scope=col>ST_depression</th><th scope=col>ST_slope</th><th scope=col>thalassemia</th><th scope=col>diagnosis</th></tr>\n",
       "\t<tr><th></th><th scope=col>&lt;int&gt;</th><th scope=col>&lt;chr&gt;</th><th scope=col>&lt;chr&gt;</th><th scope=col>&lt;int&gt;</th><th scope=col>&lt;int&gt;</th><th scope=col>&lt;lgl&gt;</th><th scope=col>&lt;chr&gt;</th><th scope=col>&lt;int&gt;</th><th scope=col>&lt;lgl&gt;</th><th scope=col>&lt;dbl&gt;</th><th scope=col>&lt;chr&gt;</th><th scope=col>&lt;chr&gt;</th><th scope=col>&lt;fct&gt;</th></tr>\n",
       "</thead>\n",
       "<tbody>\n",
       "\t<tr><th scope=row>3</th><td>67</td><td>Male  </td><td>asymptomatic</td><td>120</td><td>229</td><td>FALSE</td><td>lv hypertrophy</td><td>129</td><td> TRUE</td><td>2.6</td><td>flat       </td><td>reversable defect</td><td>1</td></tr>\n",
       "\t<tr><th scope=row>7</th><td>62</td><td>Female</td><td>asymptomatic</td><td>140</td><td>268</td><td>FALSE</td><td>lv hypertrophy</td><td>160</td><td>FALSE</td><td>3.6</td><td>downsloping</td><td>normal           </td><td>1</td></tr>\n",
       "\t<tr><th scope=row>9</th><td>63</td><td>Male  </td><td>asymptomatic</td><td>130</td><td>254</td><td>FALSE</td><td>lv hypertrophy</td><td>147</td><td>FALSE</td><td>1.4</td><td>flat       </td><td>reversable defect</td><td>1</td></tr>\n",
       "\t<tr><th scope=row>⋮</th><td>⋮</td><td>⋮</td><td>⋮</td><td>⋮</td><td>⋮</td><td>⋮</td><td>⋮</td><td>⋮</td><td>⋮</td><td>⋮</td><td>⋮</td><td>⋮</td><td>⋮</td></tr>\n",
       "\t<tr><th scope=row>283</th><td>61</td><td>Male  </td><td>asymptomatic   </td><td>148</td><td>203</td><td>FALSE</td><td>normal        </td><td>161</td><td>FALSE</td><td>0</td><td>upsloping</td><td>reversable defect</td><td>1</td></tr>\n",
       "\t<tr><th scope=row>292</th><td>63</td><td>Female</td><td>asymptomatic   </td><td>124</td><td>197</td><td>FALSE</td><td>normal        </td><td>136</td><td> TRUE</td><td>0</td><td>flat     </td><td>normal           </td><td>1</td></tr>\n",
       "\t<tr><th scope=row>299</th><td>57</td><td>Female</td><td>atypical angina</td><td>130</td><td>236</td><td>FALSE</td><td>lv hypertrophy</td><td>174</td><td>FALSE</td><td>0</td><td>flat     </td><td>normal           </td><td>1</td></tr>\n",
       "</tbody>\n",
       "</table>\n"
      ],
      "text/latex": [
       "A data.frame: 76 × 13\n",
       "\\begin{tabular}{r|lllllllllllll}\n",
       "  & age & sex & chest\\_pain & resting\\_blood\\_pressure & cholesterol & fasting\\_blood\\_sugar & rest\\_ecg & max\\_heart\\_rate & exercise\\_induced\\_angina & ST\\_depression & ST\\_slope & thalassemia & diagnosis\\\\\n",
       "  & <int> & <chr> & <chr> & <int> & <int> & <lgl> & <chr> & <int> & <lgl> & <dbl> & <chr> & <chr> & <fct>\\\\\n",
       "\\hline\n",
       "\t3 & 67 & Male   & asymptomatic & 120 & 229 & FALSE & lv hypertrophy & 129 &  TRUE & 2.6 & flat        & reversable defect & 1\\\\\n",
       "\t7 & 62 & Female & asymptomatic & 140 & 268 & FALSE & lv hypertrophy & 160 & FALSE & 3.6 & downsloping & normal            & 1\\\\\n",
       "\t9 & 63 & Male   & asymptomatic & 130 & 254 & FALSE & lv hypertrophy & 147 & FALSE & 1.4 & flat        & reversable defect & 1\\\\\n",
       "\t⋮ & ⋮ & ⋮ & ⋮ & ⋮ & ⋮ & ⋮ & ⋮ & ⋮ & ⋮ & ⋮ & ⋮ & ⋮ & ⋮\\\\\n",
       "\t283 & 61 & Male   & asymptomatic    & 148 & 203 & FALSE & normal         & 161 & FALSE & 0 & upsloping & reversable defect & 1\\\\\n",
       "\t292 & 63 & Female & asymptomatic    & 124 & 197 & FALSE & normal         & 136 &  TRUE & 0 & flat      & normal            & 1\\\\\n",
       "\t299 & 57 & Female & atypical angina & 130 & 236 & FALSE & lv hypertrophy & 174 & FALSE & 0 & flat      & normal            & 1\\\\\n",
       "\\end{tabular}\n"
      ],
      "text/markdown": [
       "\n",
       "A data.frame: 76 × 13\n",
       "\n",
       "| <!--/--> | age &lt;int&gt; | sex &lt;chr&gt; | chest_pain &lt;chr&gt; | resting_blood_pressure &lt;int&gt; | cholesterol &lt;int&gt; | fasting_blood_sugar &lt;lgl&gt; | rest_ecg &lt;chr&gt; | max_heart_rate &lt;int&gt; | exercise_induced_angina &lt;lgl&gt; | ST_depression &lt;dbl&gt; | ST_slope &lt;chr&gt; | thalassemia &lt;chr&gt; | diagnosis &lt;fct&gt; |\n",
       "|---|---|---|---|---|---|---|---|---|---|---|---|---|---|\n",
       "| 3 | 67 | Male   | asymptomatic | 120 | 229 | FALSE | lv hypertrophy | 129 |  TRUE | 2.6 | flat        | reversable defect | 1 |\n",
       "| 7 | 62 | Female | asymptomatic | 140 | 268 | FALSE | lv hypertrophy | 160 | FALSE | 3.6 | downsloping | normal            | 1 |\n",
       "| 9 | 63 | Male   | asymptomatic | 130 | 254 | FALSE | lv hypertrophy | 147 | FALSE | 1.4 | flat        | reversable defect | 1 |\n",
       "| ⋮ | ⋮ | ⋮ | ⋮ | ⋮ | ⋮ | ⋮ | ⋮ | ⋮ | ⋮ | ⋮ | ⋮ | ⋮ | ⋮ |\n",
       "| 283 | 61 | Male   | asymptomatic    | 148 | 203 | FALSE | normal         | 161 | FALSE | 0 | upsloping | reversable defect | 1 |\n",
       "| 292 | 63 | Female | asymptomatic    | 124 | 197 | FALSE | normal         | 136 |  TRUE | 0 | flat      | normal            | 1 |\n",
       "| 299 | 57 | Female | atypical angina | 130 | 236 | FALSE | lv hypertrophy | 174 | FALSE | 0 | flat      | normal            | 1 |\n",
       "\n"
      ],
      "text/plain": [
       "    age sex    chest_pain      resting_blood_pressure cholesterol\n",
       "3   67  Male   asymptomatic    120                    229        \n",
       "7   62  Female asymptomatic    140                    268        \n",
       "9   63  Male   asymptomatic    130                    254        \n",
       "⋮   ⋮   ⋮      ⋮               ⋮                      ⋮          \n",
       "283 61  Male   asymptomatic    148                    203        \n",
       "292 63  Female asymptomatic    124                    197        \n",
       "299 57  Female atypical angina 130                    236        \n",
       "    fasting_blood_sugar rest_ecg       max_heart_rate exercise_induced_angina\n",
       "3   FALSE               lv hypertrophy 129             TRUE                  \n",
       "7   FALSE               lv hypertrophy 160            FALSE                  \n",
       "9   FALSE               lv hypertrophy 147            FALSE                  \n",
       "⋮   ⋮                   ⋮              ⋮              ⋮                      \n",
       "283 FALSE               normal         161            FALSE                  \n",
       "292 FALSE               normal         136             TRUE                  \n",
       "299 FALSE               lv hypertrophy 174            FALSE                  \n",
       "    ST_depression ST_slope    thalassemia       diagnosis\n",
       "3   2.6           flat        reversable defect 1        \n",
       "7   3.6           downsloping normal            1        \n",
       "9   1.4           flat        reversable defect 1        \n",
       "⋮   ⋮             ⋮           ⋮                 ⋮        \n",
       "283 0             upsloping   reversable defect 1        \n",
       "292 0             flat        normal            1        \n",
       "299 0             flat        normal            1        "
      ]
     },
     "metadata": {},
     "output_type": "display_data"
    }
   ],
   "source": [
    "set.seed(20)\n",
    "#Using only training data, summarize the data in at least one table\n",
    "#Creating training dataset\n",
    "heart_split <- initial_split(heart_data_4, prop = 0.75, strata = diagnosis)\n",
    "heart_train <- training(heart_split)\n",
    "heart_train\n",
    "heart_test <- testing(heart_split)\n",
    "heart_test"
   ]
  },
  {
   "cell_type": "code",
   "execution_count": 5,
   "id": "d090219a",
   "metadata": {},
   "outputs": [
    {
     "data": {
      "text/html": [
       "<table class=\"dataframe\">\n",
       "<caption>A data.frame: 2 × 2</caption>\n",
       "<thead>\n",
       "\t<tr><th scope=col>sex</th><th scope=col>n</th></tr>\n",
       "\t<tr><th scope=col>&lt;chr&gt;</th><th scope=col>&lt;int&gt;</th></tr>\n",
       "</thead>\n",
       "<tbody>\n",
       "\t<tr><td>Female</td><td> 70</td></tr>\n",
       "\t<tr><td>Male  </td><td>153</td></tr>\n",
       "</tbody>\n",
       "</table>\n"
      ],
      "text/latex": [
       "A data.frame: 2 × 2\n",
       "\\begin{tabular}{ll}\n",
       " sex & n\\\\\n",
       " <chr> & <int>\\\\\n",
       "\\hline\n",
       "\t Female &  70\\\\\n",
       "\t Male   & 153\\\\\n",
       "\\end{tabular}\n"
      ],
      "text/markdown": [
       "\n",
       "A data.frame: 2 × 2\n",
       "\n",
       "| sex &lt;chr&gt; | n &lt;int&gt; |\n",
       "|---|---|\n",
       "| Female |  70 |\n",
       "| Male   | 153 |\n",
       "\n"
      ],
      "text/plain": [
       "  sex    n  \n",
       "1 Female  70\n",
       "2 Male   153"
      ]
     },
     "metadata": {},
     "output_type": "display_data"
    }
   ],
   "source": [
    "#number of men and women\n",
    "count_sex <- heart_train|>\n",
    "    count(sex)\n",
    "count_sex"
   ]
  },
  {
   "cell_type": "code",
   "execution_count": 6,
   "id": "8dc2ae35-542d-46f4-bcb6-75a656f19a71",
   "metadata": {},
   "outputs": [
    {
     "data": {
      "text/html": [
       "<table class=\"dataframe\">\n",
       "<caption>A data.frame: 2 × 2</caption>\n",
       "<thead>\n",
       "\t<tr><th scope=col>diagnosis</th><th scope=col>n</th></tr>\n",
       "\t<tr><th scope=col>&lt;fct&gt;</th><th scope=col>&lt;int&gt;</th></tr>\n",
       "</thead>\n",
       "<tbody>\n",
       "\t<tr><td>0</td><td>120</td></tr>\n",
       "\t<tr><td>1</td><td>103</td></tr>\n",
       "</tbody>\n",
       "</table>\n"
      ],
      "text/latex": [
       "A data.frame: 2 × 2\n",
       "\\begin{tabular}{ll}\n",
       " diagnosis & n\\\\\n",
       " <fct> & <int>\\\\\n",
       "\\hline\n",
       "\t 0 & 120\\\\\n",
       "\t 1 & 103\\\\\n",
       "\\end{tabular}\n"
      ],
      "text/markdown": [
       "\n",
       "A data.frame: 2 × 2\n",
       "\n",
       "| diagnosis &lt;fct&gt; | n &lt;int&gt; |\n",
       "|---|---|\n",
       "| 0 | 120 |\n",
       "| 1 | 103 |\n",
       "\n"
      ],
      "text/plain": [
       "  diagnosis n  \n",
       "1 0         120\n",
       "2 1         103"
      ]
     },
     "metadata": {},
     "output_type": "display_data"
    }
   ],
   "source": [
    "#number of people diagnosed with  \n",
    "count_diag <- heart_train|>\n",
    "    count(diagnosis)\n",
    "count_diag"
   ]
  },
  {
   "cell_type": "code",
   "execution_count": 7,
   "id": "97408216-4639-4fb8-acc5-4460fdc73a3a",
   "metadata": {},
   "outputs": [
    {
     "data": {
      "text/html": [
       "<table class=\"dataframe\">\n",
       "<caption>A data.frame: 2 × 2</caption>\n",
       "<thead>\n",
       "\t<tr><th scope=col>fasting_blood_sugar</th><th scope=col>n</th></tr>\n",
       "\t<tr><th scope=col>&lt;lgl&gt;</th><th scope=col>&lt;int&gt;</th></tr>\n",
       "</thead>\n",
       "<tbody>\n",
       "\t<tr><td>FALSE</td><td>190</td></tr>\n",
       "\t<tr><td> TRUE</td><td> 33</td></tr>\n",
       "</tbody>\n",
       "</table>\n"
      ],
      "text/latex": [
       "A data.frame: 2 × 2\n",
       "\\begin{tabular}{ll}\n",
       " fasting\\_blood\\_sugar & n\\\\\n",
       " <lgl> & <int>\\\\\n",
       "\\hline\n",
       "\t FALSE & 190\\\\\n",
       "\t  TRUE &  33\\\\\n",
       "\\end{tabular}\n"
      ],
      "text/markdown": [
       "\n",
       "A data.frame: 2 × 2\n",
       "\n",
       "| fasting_blood_sugar &lt;lgl&gt; | n &lt;int&gt; |\n",
       "|---|---|\n",
       "| FALSE | 190 |\n",
       "|  TRUE |  33 |\n",
       "\n"
      ],
      "text/plain": [
       "  fasting_blood_sugar n  \n",
       "1 FALSE               190\n",
       "2  TRUE                33"
      ]
     },
     "metadata": {},
     "output_type": "display_data"
    }
   ],
   "source": [
    "count_sugar <- heart_train|>\n",
    "    count(fasting_blood_sugar)\n",
    "count_sugar"
   ]
  },
  {
   "cell_type": "code",
   "execution_count": 8,
   "id": "4dda2d8d-0809-4bae-bf7a-0f540e417deb",
   "metadata": {},
   "outputs": [
    {
     "data": {
      "text/html": [
       "<table class=\"dataframe\">\n",
       "<caption>A data.frame: 3 × 2</caption>\n",
       "<thead>\n",
       "\t<tr><th scope=col>rest_ecg</th><th scope=col>n</th></tr>\n",
       "\t<tr><th scope=col>&lt;chr&gt;</th><th scope=col>&lt;int&gt;</th></tr>\n",
       "</thead>\n",
       "<tbody>\n",
       "\t<tr><td>lv hypertrophy  </td><td>113</td></tr>\n",
       "\t<tr><td>normal          </td><td>106</td></tr>\n",
       "\t<tr><td>st-t abnormality</td><td>  4</td></tr>\n",
       "</tbody>\n",
       "</table>\n"
      ],
      "text/latex": [
       "A data.frame: 3 × 2\n",
       "\\begin{tabular}{ll}\n",
       " rest\\_ecg & n\\\\\n",
       " <chr> & <int>\\\\\n",
       "\\hline\n",
       "\t lv hypertrophy   & 113\\\\\n",
       "\t normal           & 106\\\\\n",
       "\t st-t abnormality &   4\\\\\n",
       "\\end{tabular}\n"
      ],
      "text/markdown": [
       "\n",
       "A data.frame: 3 × 2\n",
       "\n",
       "| rest_ecg &lt;chr&gt; | n &lt;int&gt; |\n",
       "|---|---|\n",
       "| lv hypertrophy   | 113 |\n",
       "| normal           | 106 |\n",
       "| st-t abnormality |   4 |\n",
       "\n"
      ],
      "text/plain": [
       "  rest_ecg         n  \n",
       "1 lv hypertrophy   113\n",
       "2 normal           106\n",
       "3 st-t abnormality   4"
      ]
     },
     "metadata": {},
     "output_type": "display_data"
    }
   ],
   "source": [
    "count_rest_ecg <- heart_train|>\n",
    "    count(rest_ecg)\n",
    "count_rest_ecg"
   ]
  },
  {
   "cell_type": "code",
   "execution_count": 9,
   "id": "48828f38-d2a6-4d7e-90c9-271718d731bb",
   "metadata": {},
   "outputs": [
    {
     "data": {
      "text/html": [
       "<table class=\"dataframe\">\n",
       "<caption>A data.frame: 2 × 2</caption>\n",
       "<thead>\n",
       "\t<tr><th scope=col>exercise_induced_angina</th><th scope=col>n</th></tr>\n",
       "\t<tr><th scope=col>&lt;lgl&gt;</th><th scope=col>&lt;int&gt;</th></tr>\n",
       "</thead>\n",
       "<tbody>\n",
       "\t<tr><td>FALSE</td><td>147</td></tr>\n",
       "\t<tr><td> TRUE</td><td> 76</td></tr>\n",
       "</tbody>\n",
       "</table>\n"
      ],
      "text/latex": [
       "A data.frame: 2 × 2\n",
       "\\begin{tabular}{ll}\n",
       " exercise\\_induced\\_angina & n\\\\\n",
       " <lgl> & <int>\\\\\n",
       "\\hline\n",
       "\t FALSE & 147\\\\\n",
       "\t  TRUE &  76\\\\\n",
       "\\end{tabular}\n"
      ],
      "text/markdown": [
       "\n",
       "A data.frame: 2 × 2\n",
       "\n",
       "| exercise_induced_angina &lt;lgl&gt; | n &lt;int&gt; |\n",
       "|---|---|\n",
       "| FALSE | 147 |\n",
       "|  TRUE |  76 |\n",
       "\n"
      ],
      "text/plain": [
       "  exercise_induced_angina n  \n",
       "1 FALSE                   147\n",
       "2  TRUE                    76"
      ]
     },
     "metadata": {},
     "output_type": "display_data"
    }
   ],
   "source": [
    "count_exer <- heart_train|>\n",
    "    count(exercise_induced_angina)\n",
    "count_exer"
   ]
  },
  {
   "cell_type": "code",
   "execution_count": 10,
   "id": "dc4ea227-b907-4481-a84f-e86fb51d957b",
   "metadata": {},
   "outputs": [
    {
     "data": {
      "text/html": [
       "<table class=\"dataframe\">\n",
       "<caption>A data.frame: 3 × 2</caption>\n",
       "<thead>\n",
       "\t<tr><th scope=col>ST_slope</th><th scope=col>n</th></tr>\n",
       "\t<tr><th scope=col>&lt;chr&gt;</th><th scope=col>&lt;int&gt;</th></tr>\n",
       "</thead>\n",
       "<tbody>\n",
       "\t<tr><td>downsloping</td><td> 14</td></tr>\n",
       "\t<tr><td>flat       </td><td>102</td></tr>\n",
       "\t<tr><td>upsloping  </td><td>107</td></tr>\n",
       "</tbody>\n",
       "</table>\n"
      ],
      "text/latex": [
       "A data.frame: 3 × 2\n",
       "\\begin{tabular}{ll}\n",
       " ST\\_slope & n\\\\\n",
       " <chr> & <int>\\\\\n",
       "\\hline\n",
       "\t downsloping &  14\\\\\n",
       "\t flat        & 102\\\\\n",
       "\t upsloping   & 107\\\\\n",
       "\\end{tabular}\n"
      ],
      "text/markdown": [
       "\n",
       "A data.frame: 3 × 2\n",
       "\n",
       "| ST_slope &lt;chr&gt; | n &lt;int&gt; |\n",
       "|---|---|\n",
       "| downsloping |  14 |\n",
       "| flat        | 102 |\n",
       "| upsloping   | 107 |\n",
       "\n"
      ],
      "text/plain": [
       "  ST_slope    n  \n",
       "1 downsloping  14\n",
       "2 flat        102\n",
       "3 upsloping   107"
      ]
     },
     "metadata": {},
     "output_type": "display_data"
    }
   ],
   "source": [
    "count_slope <- heart_train|>\n",
    "    count(ST_slope)\n",
    "count_slope"
   ]
  },
  {
   "cell_type": "code",
   "execution_count": 11,
   "id": "56d34c7d-fe0a-4743-b2a2-65f1cd54af72",
   "metadata": {},
   "outputs": [
    {
     "data": {
      "text/html": [
       "<table class=\"dataframe\">\n",
       "<caption>A data.frame: 4 × 2</caption>\n",
       "<thead>\n",
       "\t<tr><th scope=col>thalassemia</th><th scope=col>n</th></tr>\n",
       "\t<tr><th scope=col>&lt;chr&gt;</th><th scope=col>&lt;int&gt;</th></tr>\n",
       "</thead>\n",
       "<tbody>\n",
       "\t<tr><td>                 </td><td>  2</td></tr>\n",
       "\t<tr><td>fixed defect     </td><td> 16</td></tr>\n",
       "\t<tr><td>normal           </td><td>123</td></tr>\n",
       "\t<tr><td>reversable defect</td><td> 82</td></tr>\n",
       "</tbody>\n",
       "</table>\n"
      ],
      "text/latex": [
       "A data.frame: 4 × 2\n",
       "\\begin{tabular}{ll}\n",
       " thalassemia & n\\\\\n",
       " <chr> & <int>\\\\\n",
       "\\hline\n",
       "\t                   &   2\\\\\n",
       "\t fixed defect      &  16\\\\\n",
       "\t normal            & 123\\\\\n",
       "\t reversable defect &  82\\\\\n",
       "\\end{tabular}\n"
      ],
      "text/markdown": [
       "\n",
       "A data.frame: 4 × 2\n",
       "\n",
       "| thalassemia &lt;chr&gt; | n &lt;int&gt; |\n",
       "|---|---|\n",
       "| <!----> |   2 |\n",
       "| fixed defect      |  16 |\n",
       "| normal            | 123 |\n",
       "| reversable defect |  82 |\n",
       "\n"
      ],
      "text/plain": [
       "  thalassemia       n  \n",
       "1                     2\n",
       "2 fixed defect       16\n",
       "3 normal            123\n",
       "4 reversable defect  82"
      ]
     },
     "metadata": {},
     "output_type": "display_data"
    }
   ],
   "source": [
    "count_thal <- heart_train|>\n",
    "    count(thalassemia)\n",
    "count_thal"
   ]
  },
  {
   "cell_type": "code",
   "execution_count": 12,
   "id": "911a7f68-2487-4fe8-a29c-6ca9a4025de6",
   "metadata": {},
   "outputs": [],
   "source": [
    "#maximum values of discrete and continious variables (age, resting_blood_pressure, cholesterol, max_heart_rate, ST_depression)\n",
    "heart_max <- heart_train|>\n",
    "    summarize(across(age:ST_depression, max))|>\n",
    "    select(age, resting_blood_pressure, cholesterol, max_heart_rate, ST_depression)\n",
    "\n",
    "#minimum values of discrete and continious variables (age, resting_blood_pressure, cholesterol, max_heart_rate, ST_depression)\n",
    "heart_min <- heart_train|>\n",
    "    summarize(across(age:ST_depression, min))|>\n",
    "    select(age, resting_blood_pressure, cholesterol, max_heart_rate, ST_depression)"
   ]
  },
  {
   "cell_type": "code",
   "execution_count": 13,
   "id": "a7f45099-1f23-4740-8fc3-4d74fc6d92ab",
   "metadata": {},
   "outputs": [
    {
     "data": {
      "text/html": [
       "<table class=\"dataframe\">\n",
       "<caption>A data.frame: 2 × 5</caption>\n",
       "<thead>\n",
       "\t<tr><th scope=col>age</th><th scope=col>resting_blood_pressure</th><th scope=col>cholesterol</th><th scope=col>max_heart_rate</th><th scope=col>ST_depression</th></tr>\n",
       "\t<tr><th scope=col>&lt;int&gt;</th><th scope=col>&lt;int&gt;</th><th scope=col>&lt;int&gt;</th><th scope=col>&lt;int&gt;</th><th scope=col>&lt;dbl&gt;</th></tr>\n",
       "</thead>\n",
       "<tbody>\n",
       "\t<tr><td>34</td><td> 94</td><td>126</td><td> 88</td><td>0.0</td></tr>\n",
       "\t<tr><td>77</td><td>200</td><td>564</td><td>195</td><td>6.2</td></tr>\n",
       "</tbody>\n",
       "</table>\n"
      ],
      "text/latex": [
       "A data.frame: 2 × 5\n",
       "\\begin{tabular}{lllll}\n",
       " age & resting\\_blood\\_pressure & cholesterol & max\\_heart\\_rate & ST\\_depression\\\\\n",
       " <int> & <int> & <int> & <int> & <dbl>\\\\\n",
       "\\hline\n",
       "\t 34 &  94 & 126 &  88 & 0.0\\\\\n",
       "\t 77 & 200 & 564 & 195 & 6.2\\\\\n",
       "\\end{tabular}\n"
      ],
      "text/markdown": [
       "\n",
       "A data.frame: 2 × 5\n",
       "\n",
       "| age &lt;int&gt; | resting_blood_pressure &lt;int&gt; | cholesterol &lt;int&gt; | max_heart_rate &lt;int&gt; | ST_depression &lt;dbl&gt; |\n",
       "|---|---|---|---|---|\n",
       "| 34 |  94 | 126 |  88 | 0.0 |\n",
       "| 77 | 200 | 564 | 195 | 6.2 |\n",
       "\n"
      ],
      "text/plain": [
       "  age resting_blood_pressure cholesterol max_heart_rate ST_depression\n",
       "1 34   94                    126          88            0.0          \n",
       "2 77  200                    564         195            6.2          "
      ]
     },
     "metadata": {},
     "output_type": "display_data"
    }
   ],
   "source": [
    "#combining minimum and maximum rows for easier comparison. Upper row is minimum values and lower row is maximum values\n",
    "heart_minmax <- bind_rows(heart_min, heart_max)\n",
    "heart_minmax"
   ]
  },
  {
   "cell_type": "code",
   "execution_count": null,
   "id": "77738775-25ab-432c-8a1f-46d60b201d82",
   "metadata": {},
   "outputs": [],
   "source": [
    "#averages and standard deviations of continous or discrete variables (age, resting_blood_pressure, cholesterol, max_heart_rate, ST_depression)\n",
    "\n",
    "heart_mean <- heart_train|>\n",
    "    select(age, resting_blood_pressure, cholesterol, max_heart_rate, ST_depression)|>\n",
    "    summarize(across(age:ST_depression, mean))\n",
    "heart_mean\n",
    "\n",
    "heart_sd<- heart_train|>\n",
    "    select(age, resting_blood_pressure, cholesterol, max_heart_rate, ST_depression)|>\n",
    "    summarize(across(age:ST_depression, sd))\n",
    "heart_sd"
   ]
  },
  {
   "cell_type": "code",
   "execution_count": null,
   "id": "e7fb2645-e146-48ca-8bf8-d3aae790634f",
   "metadata": {},
   "outputs": [],
   "source": [
    "#binding all summary statistics for continous and discrete variables into one table for easier comparison.\n",
    "#From top to bottom row: minimum value, maximum value, average, standard deviation\n",
    "heart_summary <- bind_rows(heart_min, heart_max, heart_mean, heart_sd)\n",
    "heart_summary"
   ]
  },
  {
   "cell_type": "code",
   "execution_count": null,
   "id": "5b44071b-21c0-4159-aab9-ea2609922908",
   "metadata": {},
   "outputs": [],
   "source": [
    "#Using only training data, visualize the data with at least one plot relevant to the analysis you plan to do\n",
    "\n",
    "#scattor plot showing elationship between age and resting blood pressure, categorised by target.\n",
    "options(repr.plot.width = 8, repr.plot.height = 8) \n",
    "age_resting_point <- heart_train |>\n",
    "    ggplot(aes(x = age, y = resting_blood_pressure))+\n",
    "    geom_point(aes(colour = diagnosis))+\n",
    "    labs(x = \"Age (years)\", y = \"Resting Blood Pressure (mm/Hg)\")+\n",
    "    ggtitle(\"Scatterplot showing relationship between age and resting blood pressure, categorised by diagnosis\")+\n",
    "    theme(text = element_text(size = 17))\n",
    "age_resting_point\n",
    "\n",
    "#0 = negative diagnosis. 1 = positive diagnosis."
   ]
  },
  {
   "cell_type": "code",
   "execution_count": null,
   "id": "435ec9b9-90c9-44a6-9de9-86b82ef3c4eb",
   "metadata": {},
   "outputs": [],
   "source": [
    "#bar chart showing the relations between sex and cholestrol, categorised by target\n",
    "options(repr.plot.width = 8, repr.plot.height = 8) \n",
    "sex_chol_bar <- heart_train |>\n",
    "    ggplot(aes(x = sex, y = cholesterol, fill = diagnosis))+\n",
    "    geom_bar(stat = \"identity\")+\n",
    "    facet_grid(cols = vars(diagnosis))+\n",
    "    labs(x = \"Sex\", y = \"cholesterol (mg/dl)\")+\n",
    "    ggtitle(\"Bar chart showing relationship between sex and cholesterol levels, categorised by diagnosis\")+\n",
    "    theme(text = element_text(size = 20))\n",
    "sex_chol_bar\n",
    "\n",
    "#0 = negative diagnosis. 1 = positive diagnosis."
   ]
  },
  {
   "cell_type": "code",
   "execution_count": null,
   "id": "87666e92-ff1a-4591-9fe6-b54ee11bfcb3",
   "metadata": {},
   "outputs": [],
   "source": [
    "options(repr.plot.width = 7, repr.plot.height = 7) \n",
    "sugar_heart_bar <- heart_train |>\n",
    "    ggplot(aes(x = fasting_blood_sugar, y = max_heart_rate, fill = diagnosis))+\n",
    "    geom_bar(stat = \"identity\")+\n",
    "    facet_grid(cols = vars(diagnosis))+\n",
    "    labs(x = \"Fasting Blood Sugar (>120mg/dl)\", y = \"Max Heart Rate (bpm)\")+\n",
    "    ggtitle(\"Bar chart showing relationship between diabetes and maximum heart rate, categorised by diagnosis\")+\n",
    "    theme(text = element_text(size = 20))\n",
    "sugar_heart_bar\n",
    "\n",
    "#0 = negative diagnosis. 1 = positive diagnosis.\n",
    "#False = absence diabetes. True = presence of diabetes"
   ]
  },
  {
   "cell_type": "code",
   "execution_count": null,
   "id": "6e68f2e8-3d6b-49d7-83bd-c7ca57938936",
   "metadata": {},
   "outputs": [],
   "source": [
    "options(repr.plot.width = 7, repr.plot.height = 7) \n",
    "depression_hist <- heart_train |>\n",
    "    ggplot(aes(x = ST_depression, fill = diagnosis))+\n",
    "    facet_grid(rows = vars(diagnosis))+\n",
    "    geom_histogram(alpha = 0.5, position = \"identity\")+\n",
    "    labs(x = \"Depression after execerise (mm)\")+\n",
    "    ggtitle(\"histogram showing distribution of ST depression, categorised by diagnosis\")+\n",
    "    theme(text = element_text(size = 20))\n",
    "depression_hist"
   ]
  },
  {
   "cell_type": "code",
   "execution_count": null,
   "id": "5644fa64-645e-423e-8da8-4e9533b7484e",
   "metadata": {},
   "outputs": [],
   "source": [
    "options(repr.plot.width = 12, repr.plot.height = 7) \n",
    "slope_hist <- heart_train |>\n",
    "    ggplot(aes(x = cholesterol, fill = diagnosis))+\n",
    "    geom_histogram(alpha = 0.5, position = \"identity\")+\n",
    "    labs(x = \"cholestrol (mg/dl)\")+\n",
    "    ggtitle(\"Histogram showing the distribution of cholestrol, categorised by diagnosis\")\n",
    "    theme(text = element_text(size = 20))\n",
    "slope_hist"
   ]
  },
  {
   "cell_type": "code",
   "execution_count": null,
   "id": "c674cfda-f267-4bc7-9195-6dc685a048de",
   "metadata": {},
   "outputs": [],
   "source": [
    "#scattor plot showing relationship between age and cholesterol, categorised by target.\n",
    "options(repr.plot.width = 8, repr.plot.height = 8) \n",
    "age_chol_point <- heart_train |>\n",
    "    ggplot(aes(x = age, y = cholesterol))+\n",
    "    geom_point(aes(colour = diagnosis))+\n",
    "    labs(x = \"Age (years)\", y = \"Cholesterol (mg/dl)\")+\n",
    "    ggtitle(\"The relationship between age and cholesterol, via diagnosis\")+\n",
    "    theme(text = element_text(size = 16))\n",
    "age_chol_point\n",
    "\n",
    "#0 = negative diagnosis. 1 = positive diagnosis."
   ]
  },
  {
   "cell_type": "code",
   "execution_count": null,
   "id": "a845634d-f378-4fff-bb8a-0ec41b372fd5",
   "metadata": {},
   "outputs": [],
   "source": [
    "#bar chart showing relationship between chest pain type and cholesterol, categorised by diagnosis\n",
    "options(repr.plot.width = 15, repr.plot.height = 4) \n",
    "chest_chol_bar <- heart_train |>\n",
    "    ggplot(aes(x = chest_pain, y = cholesterol, fill = diagnosis))+\n",
    "    geom_bar(stat = \"identity\")+\n",
    "    facet_grid(cols = vars(diagnosis))+\n",
    "    labs(x = \"Chest Pain type\", y = \"cholesterol (mg/dl)\")+\n",
    "    ggtitle(\"Bar chart showing relationship between chest pain type and cholesterol levels, categorised by diagnosis\")+\n",
    "    theme(text = element_text(size = 20))\n",
    "\n",
    "chest_chol_bar <- chest_chol_bar+coord_flip()\n",
    "chest_chol_bar\n",
    "\n",
    "#0 = negative diagnosis. 1 = positive diagnosis."
   ]
  },
  {
   "cell_type": "markdown",
   "id": "9b070c51",
   "metadata": {},
   "source": [
    "**Methods:** \n",
    "\n",
    "Our data originally includes 14 variables We don’t plan to use it all. We are going to start with 12 and find the best combination of them. \n",
    "\n",
    "Our starting 12: #1,#2,#3,#4,#5,#6,#7,#8,#9,#10,#11,#13\n",
    "\n",
    "Excluding varible #12 - We are treating this as a null variable which just shows the amount of vessels they screened during the testing. \n",
    "                             But for our focus on physical indicators we are going to treat the data as if the number of vessels checked had no impact on the likelihood of finding \n",
    "                             heart disease. \n",
    "\n",
    "Predictor - #14 \n",
    "\n",
    "To narrow down to our 6 most accurate variables our data analysis will consist of\n",
    "1. Forward selection\n",
    "- Filter out null variable + predictor\n",
    "- Carry out forward selection (steps in 6.8.3 in textbook)  \n",
    "- Make table (accuracy of each string of predictors)  \n",
    "- Pick our best predictors \n",
    "2. Find best K neighbors value and plot accuracy vs. k-value\n",
    "3. Create model with best predictors and best k-value \n",
    "4. Use test data with predictor model, display with table. \n",
    "\n",
    "*Visualizations:* \n",
    "Best K neighbor visualization will be a line graph most likely plotting accuracy vs k number. Our best predictors visualization will be a table with three columns, size, model_string and accuracy. For our final visualization of the outcome of our model (having selected the best from the above two tests) will be a table depicting the predictor variables (Value 0 or Value 1) of our test data set. "
   ]
  },
  {
   "cell_type": "markdown",
   "id": "a98df3a1",
   "metadata": {},
   "source": [
    "**Expected outcomes and significance:** \n",
    "\n",
    "Through the process of forward selection and evaluating the accuracy of different combinations of predictors, we aim to identify the six most accurate variables for predicting heart disease from the dataset. Additionally, we plan to find the best value for the K-neighbors parameter in our model.\n",
    "\n",
    "By determining the most accurate predictors and optimizing the K value, this analysis can lead to a more efficient and accurate heart disease prediction model-- as accurate prediction of heart disease can help in early detection, prevention, and timely treatment.\n",
    "\n",
    "*Potential future questions:*\n",
    "\n",
    "Are there any interactions or correlations between the selected predictors that affect the prediction of heart disease?\n",
    "\n",
    "Can additional variables or features from the dataset be incorporated to further improve the accuracy of the heart disease prediction model?\n"
   ]
  }
 ],
 "metadata": {
  "kernelspec": {
   "display_name": "R",
   "language": "R",
   "name": "ir"
  },
  "language_info": {
   "codemirror_mode": "r",
   "file_extension": ".r",
   "mimetype": "text/x-r-source",
   "name": "R",
   "pygments_lexer": "r",
   "version": "4.1.3"
  }
 },
 "nbformat": 4,
 "nbformat_minor": 5
}
