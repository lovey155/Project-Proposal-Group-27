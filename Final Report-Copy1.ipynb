{
 "cells": [
  {
   "cell_type": "markdown",
   "id": "3167e9af",
   "metadata": {},
   "source": [
    "**Group #27's Project Proposal for DSCI 100 Sect.002**\n",
    "\n",
    "Ella Woolcott, Nylah Grewal, Anoushka Gautam, Loveleen Chandi"
   ]
  },
  {
   "cell_type": "markdown",
   "id": "a67678be",
   "metadata": {},
   "source": [
    "**Predicting Diagnosis of Heart Disease Based on Physical Indicator Variables**"
   ]
  },
  {
   "cell_type": "markdown",
   "id": "73f442b7",
   "metadata": {},
   "source": [
    "**Introduction**\n",
    "\n",
    "Heart disease is a general term used to describe multiple medical conditions relating to the heart. Analyzing data relating to heart disease can have broad applications in public health and medicine, as heart disease is a leading cause of death. Symptoms of heart disease include chest pains, heart palpitations, and clogged blood vessels. Risk factors include high blood pressure and cholesterol. These variables are observed in the data set…upon wrangling the data, we may observe relationships between the patient’s symptoms and outcome/diagnosis.\n",
    "\n",
    "The predictive question we are going to answer is:\n",
    "What variables give the most reliable and accurate predictor outcome? \n",
    "\n",
    "The heart disease data set we have chosen to analyze comes from a machine learning repository and contains 4 databases from Cleveland, Long Beach, Hungary, and Switzerland. The dataset contains a lot of medical terminology, as shown in the table of 14 variables. The possible observations for each variable in the data set are categorical, integer, or numerical values.\n"
   ]
  },
  {
   "cell_type": "markdown",
   "id": "aabd78df",
   "metadata": {},
   "source": [
    "| Atrribute Number | Varible | Observations Possible | Definition | \n",
    "|  :----: |    :----:   |  :----:  |  :----:  |\n",
    "| 1     | age       | numerical value  | number in years |\n",
    "| 2   | sex        | 1 = male; 0 = female      |self-explanatory      |\n",
    "| 3   | chest_pain | Value 1: typical angina, Value 2: atypical angina, Value 3: non-anginal pain, Value 4: asymptomatic     |chest pain type |\n",
    "| 4   | resting_blood_pressure        | in mm Hg on admission to the hospital     |resting blood pressure  |\n",
    "| 5   | cholesterol        |  in mg/dl     |serum cholesterol       |\n",
    "| 6   | fasting_blood_sugar        | 1 = presence of diabetes (or blood sugar of >120mg/dl) and 0 = absence of diabetes (or blood sugar of <120mg/dl)    |fasting blood sugar > 120 mg/dl      |\n",
    "| 7   | rest_ecg        |Value 0: normal, Value 1: having ST-T wave abnormality (T wave inversions and/or ST elevation or depression of > 0.05 mV), Value 2: showing probable or definite left ventricular hypertrophy by Estes' criteria      |resting electrocardiographic results    |\n",
    "| 8   | max_heart_rate       | numerical value      |maximum heart rate achieved   |\n",
    "| 9   | exercise_induced_angina        | (1 = yes; 0 = no)      |exercise induced angina      |\n",
    "| 10   | oldpeak        | numerical value     |ST depression induced by exercise relative to rest      |\n",
    "| 11  | ST_slope        | Value 1: upsloping, Value 2: flat, Value 3: downsloping      |the slope of the peak exercise ST segment     |\n",
    "| 12   | thalassemia        |3 = normal; 6 = fixed defect; 7 = reversible defect       |A blood disorder called thalassemia      |\n",
    "| 13  | diagnosis        | Value 0: < 50% diameter, Value 1: > 50% diameter narrowing (in any major vessel: attributes 59 through 68 are vessels), meaning 0 = absence of heart disease while 1 = presence of heart disease      |diagnosis of heart disease (angiographic disease status)      |"
   ]
  },
  {
   "cell_type": "markdown",
   "id": "d5c16338-27c9-47bd-954f-011aaf9eb562",
   "metadata": {},
   "source": [
    "**Methods and Results**"
   ]
  },
  {
   "cell_type": "code",
   "execution_count": 1,
   "id": "95f89ae4",
   "metadata": {},
   "outputs": [
    {
     "name": "stderr",
     "output_type": "stream",
     "text": [
      "Updating HTML index of packages in '.Library'\n",
      "\n",
      "Making 'packages.html' ...\n",
      " done\n",
      "\n",
      "── \u001b[1mAttaching packages\u001b[22m ─────────────────────────────────────── tidyverse 1.3.1 ──\n",
      "\n",
      "\u001b[32m✔\u001b[39m \u001b[34mggplot2\u001b[39m 3.3.6     \u001b[32m✔\u001b[39m \u001b[34mpurrr  \u001b[39m 0.3.4\n",
      "\u001b[32m✔\u001b[39m \u001b[34mtibble \u001b[39m 3.1.7     \u001b[32m✔\u001b[39m \u001b[34mdplyr  \u001b[39m 1.0.9\n",
      "\u001b[32m✔\u001b[39m \u001b[34mtidyr  \u001b[39m 1.2.0     \u001b[32m✔\u001b[39m \u001b[34mstringr\u001b[39m 1.4.0\n",
      "\u001b[32m✔\u001b[39m \u001b[34mreadr  \u001b[39m 2.1.2     \u001b[32m✔\u001b[39m \u001b[34mforcats\u001b[39m 0.5.1\n",
      "\n",
      "── \u001b[1mConflicts\u001b[22m ────────────────────────────────────────── tidyverse_conflicts() ──\n",
      "\u001b[31m✖\u001b[39m \u001b[34mdplyr\u001b[39m::\u001b[32mfilter()\u001b[39m masks \u001b[34mstats\u001b[39m::filter()\n",
      "\u001b[31m✖\u001b[39m \u001b[34mdplyr\u001b[39m::\u001b[32mlag()\u001b[39m    masks \u001b[34mstats\u001b[39m::lag()\n",
      "\n",
      "── \u001b[1mAttaching packages\u001b[22m ────────────────────────────────────── tidymodels 1.0.0 ──\n",
      "\n",
      "\u001b[32m✔\u001b[39m \u001b[34mbroom       \u001b[39m 1.0.0     \u001b[32m✔\u001b[39m \u001b[34mrsample     \u001b[39m 1.0.0\n",
      "\u001b[32m✔\u001b[39m \u001b[34mdials       \u001b[39m 1.0.0     \u001b[32m✔\u001b[39m \u001b[34mtune        \u001b[39m 1.0.0\n",
      "\u001b[32m✔\u001b[39m \u001b[34minfer       \u001b[39m 1.0.2     \u001b[32m✔\u001b[39m \u001b[34mworkflows   \u001b[39m 1.0.0\n",
      "\u001b[32m✔\u001b[39m \u001b[34mmodeldata   \u001b[39m 1.0.0     \u001b[32m✔\u001b[39m \u001b[34mworkflowsets\u001b[39m 1.0.0\n",
      "\u001b[32m✔\u001b[39m \u001b[34mparsnip     \u001b[39m 1.0.0     \u001b[32m✔\u001b[39m \u001b[34myardstick   \u001b[39m 1.0.0\n",
      "\u001b[32m✔\u001b[39m \u001b[34mrecipes     \u001b[39m 1.0.1     \n",
      "\n",
      "── \u001b[1mConflicts\u001b[22m ───────────────────────────────────────── tidymodels_conflicts() ──\n",
      "\u001b[31m✖\u001b[39m \u001b[34mscales\u001b[39m::\u001b[32mdiscard()\u001b[39m masks \u001b[34mpurrr\u001b[39m::discard()\n",
      "\u001b[31m✖\u001b[39m \u001b[34mdplyr\u001b[39m::\u001b[32mfilter()\u001b[39m   masks \u001b[34mstats\u001b[39m::filter()\n",
      "\u001b[31m✖\u001b[39m \u001b[34mrecipes\u001b[39m::\u001b[32mfixed()\u001b[39m  masks \u001b[34mstringr\u001b[39m::fixed()\n",
      "\u001b[31m✖\u001b[39m \u001b[34mdplyr\u001b[39m::\u001b[32mlag()\u001b[39m      masks \u001b[34mstats\u001b[39m::lag()\n",
      "\u001b[31m✖\u001b[39m \u001b[34myardstick\u001b[39m::\u001b[32mspec()\u001b[39m masks \u001b[34mreadr\u001b[39m::spec()\n",
      "\u001b[31m✖\u001b[39m \u001b[34mrecipes\u001b[39m::\u001b[32mstep()\u001b[39m   masks \u001b[34mstats\u001b[39m::step()\n",
      "\u001b[34m•\u001b[39m Dig deeper into tidy modeling with R at \u001b[32mhttps://www.tmwr.org\u001b[39m\n",
      "\n"
     ]
    }
   ],
   "source": [
    "install.packages(\"leaps\")\n",
    "library(tidyverse)\n",
    "library(repr)\n",
    "library(tidymodels)\n",
    "library(leaps)\n",
    "options(repr.matrix.max.rows = 6)"
   ]
  },
  {
   "cell_type": "markdown",
   "id": "1de371a5-f786-4ee0-bfc0-f8065ecaee66",
   "metadata": {},
   "source": [
    "**Step 1:** \n",
    "Demonstrate that the dataset can be read from the web into R"
   ]
  },
  {
   "cell_type": "code",
   "execution_count": 2,
   "id": "82670cb0",
   "metadata": {},
   "outputs": [
    {
     "data": {
      "text/html": [
       "<table class=\"dataframe\">\n",
       "<caption>A data.frame: 303 × 14</caption>\n",
       "<thead>\n",
       "\t<tr><th scope=col>V1</th><th scope=col>V2</th><th scope=col>V3</th><th scope=col>V4</th><th scope=col>V5</th><th scope=col>V6</th><th scope=col>V7</th><th scope=col>V8</th><th scope=col>V9</th><th scope=col>V10</th><th scope=col>V11</th><th scope=col>V12</th><th scope=col>V13</th><th scope=col>V14</th></tr>\n",
       "\t<tr><th scope=col>&lt;dbl&gt;</th><th scope=col>&lt;dbl&gt;</th><th scope=col>&lt;dbl&gt;</th><th scope=col>&lt;dbl&gt;</th><th scope=col>&lt;dbl&gt;</th><th scope=col>&lt;dbl&gt;</th><th scope=col>&lt;dbl&gt;</th><th scope=col>&lt;dbl&gt;</th><th scope=col>&lt;dbl&gt;</th><th scope=col>&lt;dbl&gt;</th><th scope=col>&lt;dbl&gt;</th><th scope=col>&lt;chr&gt;</th><th scope=col>&lt;chr&gt;</th><th scope=col>&lt;int&gt;</th></tr>\n",
       "</thead>\n",
       "<tbody>\n",
       "\t<tr><td>63</td><td>1</td><td>1</td><td>145</td><td>233</td><td>1</td><td>2</td><td>150</td><td>0</td><td>2.3</td><td>3</td><td>0.0</td><td>6.0</td><td>0</td></tr>\n",
       "\t<tr><td>67</td><td>1</td><td>4</td><td>160</td><td>286</td><td>0</td><td>2</td><td>108</td><td>1</td><td>1.5</td><td>2</td><td>3.0</td><td>3.0</td><td>2</td></tr>\n",
       "\t<tr><td>67</td><td>1</td><td>4</td><td>120</td><td>229</td><td>0</td><td>2</td><td>129</td><td>1</td><td>2.6</td><td>2</td><td>2.0</td><td>7.0</td><td>1</td></tr>\n",
       "\t<tr><td>⋮</td><td>⋮</td><td>⋮</td><td>⋮</td><td>⋮</td><td>⋮</td><td>⋮</td><td>⋮</td><td>⋮</td><td>⋮</td><td>⋮</td><td>⋮</td><td>⋮</td><td>⋮</td></tr>\n",
       "\t<tr><td>57</td><td>1</td><td>4</td><td>130</td><td>131</td><td>0</td><td>0</td><td>115</td><td>1</td><td>1.2</td><td>2</td><td>1.0</td><td>7.0</td><td>3</td></tr>\n",
       "\t<tr><td>57</td><td>0</td><td>2</td><td>130</td><td>236</td><td>0</td><td>2</td><td>174</td><td>0</td><td>0.0</td><td>2</td><td>1.0</td><td>3.0</td><td>1</td></tr>\n",
       "\t<tr><td>38</td><td>1</td><td>3</td><td>138</td><td>175</td><td>0</td><td>0</td><td>173</td><td>0</td><td>0.0</td><td>1</td><td>?  </td><td>3.0</td><td>0</td></tr>\n",
       "</tbody>\n",
       "</table>\n"
      ],
      "text/latex": [
       "A data.frame: 303 × 14\n",
       "\\begin{tabular}{llllllllllllll}\n",
       " V1 & V2 & V3 & V4 & V5 & V6 & V7 & V8 & V9 & V10 & V11 & V12 & V13 & V14\\\\\n",
       " <dbl> & <dbl> & <dbl> & <dbl> & <dbl> & <dbl> & <dbl> & <dbl> & <dbl> & <dbl> & <dbl> & <chr> & <chr> & <int>\\\\\n",
       "\\hline\n",
       "\t 63 & 1 & 1 & 145 & 233 & 1 & 2 & 150 & 0 & 2.3 & 3 & 0.0 & 6.0 & 0\\\\\n",
       "\t 67 & 1 & 4 & 160 & 286 & 0 & 2 & 108 & 1 & 1.5 & 2 & 3.0 & 3.0 & 2\\\\\n",
       "\t 67 & 1 & 4 & 120 & 229 & 0 & 2 & 129 & 1 & 2.6 & 2 & 2.0 & 7.0 & 1\\\\\n",
       "\t ⋮ & ⋮ & ⋮ & ⋮ & ⋮ & ⋮ & ⋮ & ⋮ & ⋮ & ⋮ & ⋮ & ⋮ & ⋮ & ⋮\\\\\n",
       "\t 57 & 1 & 4 & 130 & 131 & 0 & 0 & 115 & 1 & 1.2 & 2 & 1.0 & 7.0 & 3\\\\\n",
       "\t 57 & 0 & 2 & 130 & 236 & 0 & 2 & 174 & 0 & 0.0 & 2 & 1.0 & 3.0 & 1\\\\\n",
       "\t 38 & 1 & 3 & 138 & 175 & 0 & 0 & 173 & 0 & 0.0 & 1 & ?   & 3.0 & 0\\\\\n",
       "\\end{tabular}\n"
      ],
      "text/markdown": [
       "\n",
       "A data.frame: 303 × 14\n",
       "\n",
       "| V1 &lt;dbl&gt; | V2 &lt;dbl&gt; | V3 &lt;dbl&gt; | V4 &lt;dbl&gt; | V5 &lt;dbl&gt; | V6 &lt;dbl&gt; | V7 &lt;dbl&gt; | V8 &lt;dbl&gt; | V9 &lt;dbl&gt; | V10 &lt;dbl&gt; | V11 &lt;dbl&gt; | V12 &lt;chr&gt; | V13 &lt;chr&gt; | V14 &lt;int&gt; |\n",
       "|---|---|---|---|---|---|---|---|---|---|---|---|---|---|\n",
       "| 63 | 1 | 1 | 145 | 233 | 1 | 2 | 150 | 0 | 2.3 | 3 | 0.0 | 6.0 | 0 |\n",
       "| 67 | 1 | 4 | 160 | 286 | 0 | 2 | 108 | 1 | 1.5 | 2 | 3.0 | 3.0 | 2 |\n",
       "| 67 | 1 | 4 | 120 | 229 | 0 | 2 | 129 | 1 | 2.6 | 2 | 2.0 | 7.0 | 1 |\n",
       "| ⋮ | ⋮ | ⋮ | ⋮ | ⋮ | ⋮ | ⋮ | ⋮ | ⋮ | ⋮ | ⋮ | ⋮ | ⋮ | ⋮ |\n",
       "| 57 | 1 | 4 | 130 | 131 | 0 | 0 | 115 | 1 | 1.2 | 2 | 1.0 | 7.0 | 3 |\n",
       "| 57 | 0 | 2 | 130 | 236 | 0 | 2 | 174 | 0 | 0.0 | 2 | 1.0 | 3.0 | 1 |\n",
       "| 38 | 1 | 3 | 138 | 175 | 0 | 0 | 173 | 0 | 0.0 | 1 | ?   | 3.0 | 0 |\n",
       "\n"
      ],
      "text/plain": [
       "    V1 V2 V3 V4  V5  V6 V7 V8  V9 V10 V11 V12 V13 V14\n",
       "1   63 1  1  145 233 1  2  150 0  2.3 3   0.0 6.0 0  \n",
       "2   67 1  4  160 286 0  2  108 1  1.5 2   3.0 3.0 2  \n",
       "3   67 1  4  120 229 0  2  129 1  2.6 2   2.0 7.0 1  \n",
       "⋮   ⋮  ⋮  ⋮  ⋮   ⋮   ⋮  ⋮  ⋮   ⋮  ⋮   ⋮   ⋮   ⋮   ⋮  \n",
       "301 57 1  4  130 131 0  0  115 1  1.2 2   1.0 7.0 3  \n",
       "302 57 0  2  130 236 0  2  174 0  0.0 2   1.0 3.0 1  \n",
       "303 38 1  3  138 175 0  0  173 0  0.0 1   ?   3.0 0  "
      ]
     },
     "metadata": {},
     "output_type": "display_data"
    }
   ],
   "source": [
    "heart_data<- read.csv(\"https://archive.ics.uci.edu/ml/machine-learning-databases/heart-disease/processed.cleveland.data\", header = FALSE)\n",
    "heart_data"
   ]
  },
  {
   "cell_type": "markdown",
   "id": "4edb24f7-c42d-44c1-8d3c-8db0ae563a84",
   "metadata": {},
   "source": [
    "**Step 2:**\n",
    "Clean and wrangle your data into a tidy format"
   ]
  },
  {
   "cell_type": "code",
   "execution_count": 3,
   "id": "cc5e395f-54db-4dd2-9f23-1b64064e4023",
   "metadata": {},
   "outputs": [
    {
     "data": {
      "text/html": [
       "<style>\n",
       ".list-inline {list-style: none; margin:0; padding: 0}\n",
       ".list-inline>li {display: inline-block}\n",
       ".list-inline>li:not(:last-child)::after {content: \"\\00b7\"; padding: 0 .5ex}\n",
       "</style>\n",
       "<ol class=list-inline><li>'age'</li><li>'sex'</li><li>'chest_pain'</li><li>'resting_blood_pressure'</li><li>'cholesterol'</li><li>'fasting_blood_sugar'</li><li>'rest_ecg'</li><li>'max_heart_rate'</li><li>'exercise_induced_angina'</li><li>'ST_depression'</li><li>'ST_slope'</li><li>'num_major_vessels'</li><li>'thalassemia'</li><li>'diagnosis'</li></ol>\n"
      ],
      "text/latex": [
       "\\begin{enumerate*}\n",
       "\\item 'age'\n",
       "\\item 'sex'\n",
       "\\item 'chest\\_pain'\n",
       "\\item 'resting\\_blood\\_pressure'\n",
       "\\item 'cholesterol'\n",
       "\\item 'fasting\\_blood\\_sugar'\n",
       "\\item 'rest\\_ecg'\n",
       "\\item 'max\\_heart\\_rate'\n",
       "\\item 'exercise\\_induced\\_angina'\n",
       "\\item 'ST\\_depression'\n",
       "\\item 'ST\\_slope'\n",
       "\\item 'num\\_major\\_vessels'\n",
       "\\item 'thalassemia'\n",
       "\\item 'diagnosis'\n",
       "\\end{enumerate*}\n"
      ],
      "text/markdown": [
       "1. 'age'\n",
       "2. 'sex'\n",
       "3. 'chest_pain'\n",
       "4. 'resting_blood_pressure'\n",
       "5. 'cholesterol'\n",
       "6. 'fasting_blood_sugar'\n",
       "7. 'rest_ecg'\n",
       "8. 'max_heart_rate'\n",
       "9. 'exercise_induced_angina'\n",
       "10. 'ST_depression'\n",
       "11. 'ST_slope'\n",
       "12. 'num_major_vessels'\n",
       "13. 'thalassemia'\n",
       "14. 'diagnosis'\n",
       "\n",
       "\n"
      ],
      "text/plain": [
       " [1] \"age\"                     \"sex\"                    \n",
       " [3] \"chest_pain\"              \"resting_blood_pressure\" \n",
       " [5] \"cholesterol\"             \"fasting_blood_sugar\"    \n",
       " [7] \"rest_ecg\"                \"max_heart_rate\"         \n",
       " [9] \"exercise_induced_angina\" \"ST_depression\"          \n",
       "[11] \"ST_slope\"                \"num_major_vessels\"      \n",
       "[13] \"thalassemia\"             \"diagnosis\"              "
      ]
     },
     "metadata": {},
     "output_type": "display_data"
    },
    {
     "data": {
      "text/html": [
       "303"
      ],
      "text/latex": [
       "303"
      ],
      "text/markdown": [
       "303"
      ],
      "text/plain": [
       "[1] 303"
      ]
     },
     "metadata": {},
     "output_type": "display_data"
    },
    {
     "data": {
      "text/html": [
       "<table class=\"dataframe\">\n",
       "<caption>A data.frame: 303 × 12</caption>\n",
       "<thead>\n",
       "\t<tr><th scope=col>age</th><th scope=col>sex</th><th scope=col>chest_pain</th><th scope=col>resting_blood_pressure</th><th scope=col>cholesterol</th><th scope=col>fasting_blood_sugar</th><th scope=col>rest_ecg</th><th scope=col>max_heart_rate</th><th scope=col>exercise_induced_angina</th><th scope=col>ST_slope</th><th scope=col>thalassemia</th><th scope=col>diagnosis</th></tr>\n",
       "\t<tr><th scope=col>&lt;dbl&gt;</th><th scope=col>&lt;dbl&gt;</th><th scope=col>&lt;dbl&gt;</th><th scope=col>&lt;dbl&gt;</th><th scope=col>&lt;dbl&gt;</th><th scope=col>&lt;dbl&gt;</th><th scope=col>&lt;dbl&gt;</th><th scope=col>&lt;dbl&gt;</th><th scope=col>&lt;dbl&gt;</th><th scope=col>&lt;dbl&gt;</th><th scope=col>&lt;chr&gt;</th><th scope=col>&lt;int&gt;</th></tr>\n",
       "</thead>\n",
       "<tbody>\n",
       "\t<tr><td>63</td><td>1</td><td>1</td><td>145</td><td>233</td><td>1</td><td>2</td><td>150</td><td>0</td><td>3</td><td>6.0</td><td>0</td></tr>\n",
       "\t<tr><td>67</td><td>1</td><td>4</td><td>160</td><td>286</td><td>0</td><td>2</td><td>108</td><td>1</td><td>2</td><td>3.0</td><td>2</td></tr>\n",
       "\t<tr><td>67</td><td>1</td><td>4</td><td>120</td><td>229</td><td>0</td><td>2</td><td>129</td><td>1</td><td>2</td><td>7.0</td><td>1</td></tr>\n",
       "\t<tr><td>⋮</td><td>⋮</td><td>⋮</td><td>⋮</td><td>⋮</td><td>⋮</td><td>⋮</td><td>⋮</td><td>⋮</td><td>⋮</td><td>⋮</td><td>⋮</td></tr>\n",
       "\t<tr><td>57</td><td>1</td><td>4</td><td>130</td><td>131</td><td>0</td><td>0</td><td>115</td><td>1</td><td>2</td><td>7.0</td><td>3</td></tr>\n",
       "\t<tr><td>57</td><td>0</td><td>2</td><td>130</td><td>236</td><td>0</td><td>2</td><td>174</td><td>0</td><td>2</td><td>3.0</td><td>1</td></tr>\n",
       "\t<tr><td>38</td><td>1</td><td>3</td><td>138</td><td>175</td><td>0</td><td>0</td><td>173</td><td>0</td><td>1</td><td>3.0</td><td>0</td></tr>\n",
       "</tbody>\n",
       "</table>\n"
      ],
      "text/latex": [
       "A data.frame: 303 × 12\n",
       "\\begin{tabular}{llllllllllll}\n",
       " age & sex & chest\\_pain & resting\\_blood\\_pressure & cholesterol & fasting\\_blood\\_sugar & rest\\_ecg & max\\_heart\\_rate & exercise\\_induced\\_angina & ST\\_slope & thalassemia & diagnosis\\\\\n",
       " <dbl> & <dbl> & <dbl> & <dbl> & <dbl> & <dbl> & <dbl> & <dbl> & <dbl> & <dbl> & <chr> & <int>\\\\\n",
       "\\hline\n",
       "\t 63 & 1 & 1 & 145 & 233 & 1 & 2 & 150 & 0 & 3 & 6.0 & 0\\\\\n",
       "\t 67 & 1 & 4 & 160 & 286 & 0 & 2 & 108 & 1 & 2 & 3.0 & 2\\\\\n",
       "\t 67 & 1 & 4 & 120 & 229 & 0 & 2 & 129 & 1 & 2 & 7.0 & 1\\\\\n",
       "\t ⋮ & ⋮ & ⋮ & ⋮ & ⋮ & ⋮ & ⋮ & ⋮ & ⋮ & ⋮ & ⋮ & ⋮\\\\\n",
       "\t 57 & 1 & 4 & 130 & 131 & 0 & 0 & 115 & 1 & 2 & 7.0 & 3\\\\\n",
       "\t 57 & 0 & 2 & 130 & 236 & 0 & 2 & 174 & 0 & 2 & 3.0 & 1\\\\\n",
       "\t 38 & 1 & 3 & 138 & 175 & 0 & 0 & 173 & 0 & 1 & 3.0 & 0\\\\\n",
       "\\end{tabular}\n"
      ],
      "text/markdown": [
       "\n",
       "A data.frame: 303 × 12\n",
       "\n",
       "| age &lt;dbl&gt; | sex &lt;dbl&gt; | chest_pain &lt;dbl&gt; | resting_blood_pressure &lt;dbl&gt; | cholesterol &lt;dbl&gt; | fasting_blood_sugar &lt;dbl&gt; | rest_ecg &lt;dbl&gt; | max_heart_rate &lt;dbl&gt; | exercise_induced_angina &lt;dbl&gt; | ST_slope &lt;dbl&gt; | thalassemia &lt;chr&gt; | diagnosis &lt;int&gt; |\n",
       "|---|---|---|---|---|---|---|---|---|---|---|---|\n",
       "| 63 | 1 | 1 | 145 | 233 | 1 | 2 | 150 | 0 | 3 | 6.0 | 0 |\n",
       "| 67 | 1 | 4 | 160 | 286 | 0 | 2 | 108 | 1 | 2 | 3.0 | 2 |\n",
       "| 67 | 1 | 4 | 120 | 229 | 0 | 2 | 129 | 1 | 2 | 7.0 | 1 |\n",
       "| ⋮ | ⋮ | ⋮ | ⋮ | ⋮ | ⋮ | ⋮ | ⋮ | ⋮ | ⋮ | ⋮ | ⋮ |\n",
       "| 57 | 1 | 4 | 130 | 131 | 0 | 0 | 115 | 1 | 2 | 7.0 | 3 |\n",
       "| 57 | 0 | 2 | 130 | 236 | 0 | 2 | 174 | 0 | 2 | 3.0 | 1 |\n",
       "| 38 | 1 | 3 | 138 | 175 | 0 | 0 | 173 | 0 | 1 | 3.0 | 0 |\n",
       "\n"
      ],
      "text/plain": [
       "    age sex chest_pain resting_blood_pressure cholesterol fasting_blood_sugar\n",
       "1   63  1   1          145                    233         1                  \n",
       "2   67  1   4          160                    286         0                  \n",
       "3   67  1   4          120                    229         0                  \n",
       "⋮   ⋮   ⋮   ⋮          ⋮                      ⋮           ⋮                  \n",
       "301 57  1   4          130                    131         0                  \n",
       "302 57  0   2          130                    236         0                  \n",
       "303 38  1   3          138                    175         0                  \n",
       "    rest_ecg max_heart_rate exercise_induced_angina ST_slope thalassemia\n",
       "1   2        150            0                       3        6.0        \n",
       "2   2        108            1                       2        3.0        \n",
       "3   2        129            1                       2        7.0        \n",
       "⋮   ⋮        ⋮              ⋮                       ⋮        ⋮          \n",
       "301 0        115            1                       2        7.0        \n",
       "302 2        174            0                       2        3.0        \n",
       "303 0        173            0                       1        3.0        \n",
       "    diagnosis\n",
       "1   0        \n",
       "2   2        \n",
       "3   1        \n",
       "⋮   ⋮        \n",
       "301 3        \n",
       "302 1        \n",
       "303 0        "
      ]
     },
     "metadata": {},
     "output_type": "display_data"
    }
   ],
   "source": [
    "colnames(heart_data) <- c(\"age\", \"sex\", \"chest_pain\", \"resting_blood_pressure\", \"cholesterol\", \"fasting_blood_sugar\", \"rest_ecg\", \"max_heart_rate\", \"exercise_induced_angina\", \"ST_depression\", \"ST_slope\", \"num_major_vessels\", \"thalassemia\", \"diagnosis\")\n",
    "colnames(heart_data)\n",
    "heart_data_clean <- heart_data[c(\"age\", \"sex\", \"chest_pain\", \"resting_blood_pressure\", \"cholesterol\", \"fasting_blood_sugar\", \"rest_ecg\", \"max_heart_rate\", \"exercise_induced_angina\", \"ST_slope\", \"thalassemia\", \"diagnosis\")]\n",
    "nrow(heart_data_clean)\n",
    "heart_data_clean"
   ]
  },
  {
   "cell_type": "markdown",
   "id": "8684b95b-b9e0-4a73-aa87-f2b7b069725c",
   "metadata": {},
   "source": [
    "**Step 3:** \n",
    "Convert necessary columns to factors"
   ]
  },
  {
   "cell_type": "code",
   "execution_count": 4,
   "id": "418bd038-5c21-456c-8334-ed94fad5eb9d",
   "metadata": {},
   "outputs": [
    {
     "data": {
      "text/html": [
       "<style>\n",
       ".list-inline {list-style: none; margin:0; padding: 0}\n",
       ".list-inline>li {display: inline-block}\n",
       ".list-inline>li:not(:last-child)::after {content: \"\\00b7\"; padding: 0 .5ex}\n",
       "</style>\n",
       "<ol class=list-inline><li>0</li><li>1</li><li>1</li><li>0</li><li>0</li><li>0</li><li>1</li><li>0</li><li>1</li><li>1</li><li>0</li><li>0</li><li>1</li><li>0</li><li>0</li><li>0</li><li>1</li><li>0</li><li>0</li><li>0</li><li>0</li><li>0</li><li>1</li><li>1</li><li>1</li><li>0</li><li>0</li><li>0</li><li>0</li><li>1</li><li>0</li><li>1</li><li>1</li><li>0</li><li>0</li><li>0</li><li>1</li><li>1</li><li>1</li><li>0</li><li>1</li><li>0</li><li>0</li><li>0</li><li>1</li><li>1</li><li>0</li><li>1</li><li>0</li><li>0</li><li>0</li><li>0</li><li>1</li><li>0</li><li>1</li><li>1</li><li>1</li><li>1</li><li>0</li><li>0</li><li>1</li><li>0</li><li>1</li><li>0</li><li>1</li><li>1</li><li>1</li><li>0</li><li>1</li><li>1</li><li>0</li><li>1</li><li>1</li><li>1</li><li>1</li><li>0</li><li>1</li><li>0</li><li>0</li><li>1</li><li>0</li><li>0</li><li>0</li><li>1</li><li>0</li><li>0</li><li>0</li><li>0</li><li>0</li><li>0</li><li>0</li><li>1</li><li>0</li><li>0</li><li>0</li><li>1</li><li>1</li><li>1</li><li>0</li><li>0</li><li>0</li><li>0</li><li>0</li><li>0</li><li>1</li><li>0</li><li>1</li><li>1</li><li>1</li><li>1</li><li>1</li><li>1</li><li>0</li><li>1</li><li>1</li><li>0</li><li>0</li><li>0</li><li>1</li><li>1</li><li>1</li><li>1</li><li>0</li><li>1</li><li>1</li><li>0</li><li>1</li><li>1</li><li>0</li><li>0</li><li>0</li><li>0</li><li>0</li><li>0</li><li>0</li><li>0</li><li>1</li><li>1</li><li>1</li><li>0</li><li>0</li><li>1</li><li>0</li><li>1</li><li>0</li><li>1</li><li>1</li><li>0</li><li>0</li><li>0</li><li>0</li><li>0</li><li>0</li><li>1</li><li>1</li><li>1</li><li>1</li><li>1</li><li>1</li><li>0</li><li>0</li><li>1</li><li>0</li><li>0</li><li>0</li><li>0</li><li>0</li><li>0</li><li>1</li><li>0</li><li>1</li><li>0</li><li>1</li><li>0</li><li>1</li><li>1</li><li>0</li><li>1</li><li>0</li><li>0</li><li>1</li><li>1</li><li>0</li><li>0</li><li>1</li><li>0</li><li>0</li><li>1</li><li>1</li><li>1</li><li>0</li><li>1</li><li>1</li><li>1</li><li>0</li><li>1</li><li>0</li><li>0</li><li>0</li><li>1</li><li>0</li><li>0</li><li>0</li><li>0</li><li>0</li><li>1</li><li>1</li><li>1</li><li>0</li><li>1</li><li>0</li><li>1</li><li>0</li><li>1</li><li>1</li><li>0</li><li>0</li><li>0</li><li>0</li><li>0</li><li>0</li><li>0</li><li>0</li><li>1</li><li>1</li><li>0</li><li>0</li><li>0</li><li>1</li><li>1</li><li>0</li><li>1</li><li>1</li><li>0</li><li>0</li><li>1</li><li>1</li><li>1</li><li>0</li><li>0</li><li>0</li><li>0</li><li>0</li><li>1</li><li>0</li><li>1</li><li>1</li><li>1</li><li>1</li><li>0</li><li>0</li><li>1</li><li>0</li><li>0</li><li>0</li><li>0</li><li>0</li><li>0</li><li>0</li><li>1</li><li>0</li><li>1</li><li>0</li><li>0</li><li>1</li><li>1</li><li>1</li><li>1</li><li>1</li><li>0</li><li>1</li><li>0</li><li>1</li><li>0</li><li>1</li><li>0</li><li>0</li><li>0</li><li>1</li><li>0</li><li>1</li><li>0</li><li>1</li><li>0</li><li>1</li><li>1</li><li>1</li><li>0</li><li>0</li><li>0</li><li>1</li><li>0</li><li>1</li><li>1</li><li>1</li><li>0</li><li>1</li><li>1</li><li>1</li><li>1</li><li>1</li><li>1</li><li>0</li></ol>\n",
       "\n",
       "<details>\n",
       "\t<summary style=display:list-item;cursor:pointer>\n",
       "\t\t<strong>Levels</strong>:\n",
       "\t</summary>\n",
       "\t<style>\n",
       "\t.list-inline {list-style: none; margin:0; padding: 0}\n",
       "\t.list-inline>li {display: inline-block}\n",
       "\t.list-inline>li:not(:last-child)::after {content: \"\\00b7\"; padding: 0 .5ex}\n",
       "\t</style>\n",
       "\t<ol class=list-inline><li>'0'</li><li>'1'</li></ol>\n",
       "</details>"
      ],
      "text/latex": [
       "\\begin{enumerate*}\n",
       "\\item 0\n",
       "\\item 1\n",
       "\\item 1\n",
       "\\item 0\n",
       "\\item 0\n",
       "\\item 0\n",
       "\\item 1\n",
       "\\item 0\n",
       "\\item 1\n",
       "\\item 1\n",
       "\\item 0\n",
       "\\item 0\n",
       "\\item 1\n",
       "\\item 0\n",
       "\\item 0\n",
       "\\item 0\n",
       "\\item 1\n",
       "\\item 0\n",
       "\\item 0\n",
       "\\item 0\n",
       "\\item 0\n",
       "\\item 0\n",
       "\\item 1\n",
       "\\item 1\n",
       "\\item 1\n",
       "\\item 0\n",
       "\\item 0\n",
       "\\item 0\n",
       "\\item 0\n",
       "\\item 1\n",
       "\\item 0\n",
       "\\item 1\n",
       "\\item 1\n",
       "\\item 0\n",
       "\\item 0\n",
       "\\item 0\n",
       "\\item 1\n",
       "\\item 1\n",
       "\\item 1\n",
       "\\item 0\n",
       "\\item 1\n",
       "\\item 0\n",
       "\\item 0\n",
       "\\item 0\n",
       "\\item 1\n",
       "\\item 1\n",
       "\\item 0\n",
       "\\item 1\n",
       "\\item 0\n",
       "\\item 0\n",
       "\\item 0\n",
       "\\item 0\n",
       "\\item 1\n",
       "\\item 0\n",
       "\\item 1\n",
       "\\item 1\n",
       "\\item 1\n",
       "\\item 1\n",
       "\\item 0\n",
       "\\item 0\n",
       "\\item 1\n",
       "\\item 0\n",
       "\\item 1\n",
       "\\item 0\n",
       "\\item 1\n",
       "\\item 1\n",
       "\\item 1\n",
       "\\item 0\n",
       "\\item 1\n",
       "\\item 1\n",
       "\\item 0\n",
       "\\item 1\n",
       "\\item 1\n",
       "\\item 1\n",
       "\\item 1\n",
       "\\item 0\n",
       "\\item 1\n",
       "\\item 0\n",
       "\\item 0\n",
       "\\item 1\n",
       "\\item 0\n",
       "\\item 0\n",
       "\\item 0\n",
       "\\item 1\n",
       "\\item 0\n",
       "\\item 0\n",
       "\\item 0\n",
       "\\item 0\n",
       "\\item 0\n",
       "\\item 0\n",
       "\\item 0\n",
       "\\item 1\n",
       "\\item 0\n",
       "\\item 0\n",
       "\\item 0\n",
       "\\item 1\n",
       "\\item 1\n",
       "\\item 1\n",
       "\\item 0\n",
       "\\item 0\n",
       "\\item 0\n",
       "\\item 0\n",
       "\\item 0\n",
       "\\item 0\n",
       "\\item 1\n",
       "\\item 0\n",
       "\\item 1\n",
       "\\item 1\n",
       "\\item 1\n",
       "\\item 1\n",
       "\\item 1\n",
       "\\item 1\n",
       "\\item 0\n",
       "\\item 1\n",
       "\\item 1\n",
       "\\item 0\n",
       "\\item 0\n",
       "\\item 0\n",
       "\\item 1\n",
       "\\item 1\n",
       "\\item 1\n",
       "\\item 1\n",
       "\\item 0\n",
       "\\item 1\n",
       "\\item 1\n",
       "\\item 0\n",
       "\\item 1\n",
       "\\item 1\n",
       "\\item 0\n",
       "\\item 0\n",
       "\\item 0\n",
       "\\item 0\n",
       "\\item 0\n",
       "\\item 0\n",
       "\\item 0\n",
       "\\item 0\n",
       "\\item 1\n",
       "\\item 1\n",
       "\\item 1\n",
       "\\item 0\n",
       "\\item 0\n",
       "\\item 1\n",
       "\\item 0\n",
       "\\item 1\n",
       "\\item 0\n",
       "\\item 1\n",
       "\\item 1\n",
       "\\item 0\n",
       "\\item 0\n",
       "\\item 0\n",
       "\\item 0\n",
       "\\item 0\n",
       "\\item 0\n",
       "\\item 1\n",
       "\\item 1\n",
       "\\item 1\n",
       "\\item 1\n",
       "\\item 1\n",
       "\\item 1\n",
       "\\item 0\n",
       "\\item 0\n",
       "\\item 1\n",
       "\\item 0\n",
       "\\item 0\n",
       "\\item 0\n",
       "\\item 0\n",
       "\\item 0\n",
       "\\item 0\n",
       "\\item 1\n",
       "\\item 0\n",
       "\\item 1\n",
       "\\item 0\n",
       "\\item 1\n",
       "\\item 0\n",
       "\\item 1\n",
       "\\item 1\n",
       "\\item 0\n",
       "\\item 1\n",
       "\\item 0\n",
       "\\item 0\n",
       "\\item 1\n",
       "\\item 1\n",
       "\\item 0\n",
       "\\item 0\n",
       "\\item 1\n",
       "\\item 0\n",
       "\\item 0\n",
       "\\item 1\n",
       "\\item 1\n",
       "\\item 1\n",
       "\\item 0\n",
       "\\item 1\n",
       "\\item 1\n",
       "\\item 1\n",
       "\\item 0\n",
       "\\item 1\n",
       "\\item 0\n",
       "\\item 0\n",
       "\\item 0\n",
       "\\item 1\n",
       "\\item 0\n",
       "\\item 0\n",
       "\\item 0\n",
       "\\item 0\n",
       "\\item 0\n",
       "\\item 1\n",
       "\\item 1\n",
       "\\item 1\n",
       "\\item 0\n",
       "\\item 1\n",
       "\\item 0\n",
       "\\item 1\n",
       "\\item 0\n",
       "\\item 1\n",
       "\\item 1\n",
       "\\item 0\n",
       "\\item 0\n",
       "\\item 0\n",
       "\\item 0\n",
       "\\item 0\n",
       "\\item 0\n",
       "\\item 0\n",
       "\\item 0\n",
       "\\item 1\n",
       "\\item 1\n",
       "\\item 0\n",
       "\\item 0\n",
       "\\item 0\n",
       "\\item 1\n",
       "\\item 1\n",
       "\\item 0\n",
       "\\item 1\n",
       "\\item 1\n",
       "\\item 0\n",
       "\\item 0\n",
       "\\item 1\n",
       "\\item 1\n",
       "\\item 1\n",
       "\\item 0\n",
       "\\item 0\n",
       "\\item 0\n",
       "\\item 0\n",
       "\\item 0\n",
       "\\item 1\n",
       "\\item 0\n",
       "\\item 1\n",
       "\\item 1\n",
       "\\item 1\n",
       "\\item 1\n",
       "\\item 0\n",
       "\\item 0\n",
       "\\item 1\n",
       "\\item 0\n",
       "\\item 0\n",
       "\\item 0\n",
       "\\item 0\n",
       "\\item 0\n",
       "\\item 0\n",
       "\\item 0\n",
       "\\item 1\n",
       "\\item 0\n",
       "\\item 1\n",
       "\\item 0\n",
       "\\item 0\n",
       "\\item 1\n",
       "\\item 1\n",
       "\\item 1\n",
       "\\item 1\n",
       "\\item 1\n",
       "\\item 0\n",
       "\\item 1\n",
       "\\item 0\n",
       "\\item 1\n",
       "\\item 0\n",
       "\\item 1\n",
       "\\item 0\n",
       "\\item 0\n",
       "\\item 0\n",
       "\\item 1\n",
       "\\item 0\n",
       "\\item 1\n",
       "\\item 0\n",
       "\\item 1\n",
       "\\item 0\n",
       "\\item 1\n",
       "\\item 1\n",
       "\\item 1\n",
       "\\item 0\n",
       "\\item 0\n",
       "\\item 0\n",
       "\\item 1\n",
       "\\item 0\n",
       "\\item 1\n",
       "\\item 1\n",
       "\\item 1\n",
       "\\item 0\n",
       "\\item 1\n",
       "\\item 1\n",
       "\\item 1\n",
       "\\item 1\n",
       "\\item 1\n",
       "\\item 1\n",
       "\\item 0\n",
       "\\end{enumerate*}\n",
       "\n",
       "\\emph{Levels}: \\begin{enumerate*}\n",
       "\\item '0'\n",
       "\\item '1'\n",
       "\\end{enumerate*}\n"
      ],
      "text/markdown": [
       "1. 0\n",
       "2. 1\n",
       "3. 1\n",
       "4. 0\n",
       "5. 0\n",
       "6. 0\n",
       "7. 1\n",
       "8. 0\n",
       "9. 1\n",
       "10. 1\n",
       "11. 0\n",
       "12. 0\n",
       "13. 1\n",
       "14. 0\n",
       "15. 0\n",
       "16. 0\n",
       "17. 1\n",
       "18. 0\n",
       "19. 0\n",
       "20. 0\n",
       "21. 0\n",
       "22. 0\n",
       "23. 1\n",
       "24. 1\n",
       "25. 1\n",
       "26. 0\n",
       "27. 0\n",
       "28. 0\n",
       "29. 0\n",
       "30. 1\n",
       "31. 0\n",
       "32. 1\n",
       "33. 1\n",
       "34. 0\n",
       "35. 0\n",
       "36. 0\n",
       "37. 1\n",
       "38. 1\n",
       "39. 1\n",
       "40. 0\n",
       "41. 1\n",
       "42. 0\n",
       "43. 0\n",
       "44. 0\n",
       "45. 1\n",
       "46. 1\n",
       "47. 0\n",
       "48. 1\n",
       "49. 0\n",
       "50. 0\n",
       "51. 0\n",
       "52. 0\n",
       "53. 1\n",
       "54. 0\n",
       "55. 1\n",
       "56. 1\n",
       "57. 1\n",
       "58. 1\n",
       "59. 0\n",
       "60. 0\n",
       "61. 1\n",
       "62. 0\n",
       "63. 1\n",
       "64. 0\n",
       "65. 1\n",
       "66. 1\n",
       "67. 1\n",
       "68. 0\n",
       "69. 1\n",
       "70. 1\n",
       "71. 0\n",
       "72. 1\n",
       "73. 1\n",
       "74. 1\n",
       "75. 1\n",
       "76. 0\n",
       "77. 1\n",
       "78. 0\n",
       "79. 0\n",
       "80. 1\n",
       "81. 0\n",
       "82. 0\n",
       "83. 0\n",
       "84. 1\n",
       "85. 0\n",
       "86. 0\n",
       "87. 0\n",
       "88. 0\n",
       "89. 0\n",
       "90. 0\n",
       "91. 0\n",
       "92. 1\n",
       "93. 0\n",
       "94. 0\n",
       "95. 0\n",
       "96. 1\n",
       "97. 1\n",
       "98. 1\n",
       "99. 0\n",
       "100. 0\n",
       "101. 0\n",
       "102. 0\n",
       "103. 0\n",
       "104. 0\n",
       "105. 1\n",
       "106. 0\n",
       "107. 1\n",
       "108. 1\n",
       "109. 1\n",
       "110. 1\n",
       "111. 1\n",
       "112. 1\n",
       "113. 0\n",
       "114. 1\n",
       "115. 1\n",
       "116. 0\n",
       "117. 0\n",
       "118. 0\n",
       "119. 1\n",
       "120. 1\n",
       "121. 1\n",
       "122. 1\n",
       "123. 0\n",
       "124. 1\n",
       "125. 1\n",
       "126. 0\n",
       "127. 1\n",
       "128. 1\n",
       "129. 0\n",
       "130. 0\n",
       "131. 0\n",
       "132. 0\n",
       "133. 0\n",
       "134. 0\n",
       "135. 0\n",
       "136. 0\n",
       "137. 1\n",
       "138. 1\n",
       "139. 1\n",
       "140. 0\n",
       "141. 0\n",
       "142. 1\n",
       "143. 0\n",
       "144. 1\n",
       "145. 0\n",
       "146. 1\n",
       "147. 1\n",
       "148. 0\n",
       "149. 0\n",
       "150. 0\n",
       "151. 0\n",
       "152. 0\n",
       "153. 0\n",
       "154. 1\n",
       "155. 1\n",
       "156. 1\n",
       "157. 1\n",
       "158. 1\n",
       "159. 1\n",
       "160. 0\n",
       "161. 0\n",
       "162. 1\n",
       "163. 0\n",
       "164. 0\n",
       "165. 0\n",
       "166. 0\n",
       "167. 0\n",
       "168. 0\n",
       "169. 1\n",
       "170. 0\n",
       "171. 1\n",
       "172. 0\n",
       "173. 1\n",
       "174. 0\n",
       "175. 1\n",
       "176. 1\n",
       "177. 0\n",
       "178. 1\n",
       "179. 0\n",
       "180. 0\n",
       "181. 1\n",
       "182. 1\n",
       "183. 0\n",
       "184. 0\n",
       "185. 1\n",
       "186. 0\n",
       "187. 0\n",
       "188. 1\n",
       "189. 1\n",
       "190. 1\n",
       "191. 0\n",
       "192. 1\n",
       "193. 1\n",
       "194. 1\n",
       "195. 0\n",
       "196. 1\n",
       "197. 0\n",
       "198. 0\n",
       "199. 0\n",
       "200. 1\n",
       "201. 0\n",
       "202. 0\n",
       "203. 0\n",
       "204. 0\n",
       "205. 0\n",
       "206. 1\n",
       "207. 1\n",
       "208. 1\n",
       "209. 0\n",
       "210. 1\n",
       "211. 0\n",
       "212. 1\n",
       "213. 0\n",
       "214. 1\n",
       "215. 1\n",
       "216. 0\n",
       "217. 0\n",
       "218. 0\n",
       "219. 0\n",
       "220. 0\n",
       "221. 0\n",
       "222. 0\n",
       "223. 0\n",
       "224. 1\n",
       "225. 1\n",
       "226. 0\n",
       "227. 0\n",
       "228. 0\n",
       "229. 1\n",
       "230. 1\n",
       "231. 0\n",
       "232. 1\n",
       "233. 1\n",
       "234. 0\n",
       "235. 0\n",
       "236. 1\n",
       "237. 1\n",
       "238. 1\n",
       "239. 0\n",
       "240. 0\n",
       "241. 0\n",
       "242. 0\n",
       "243. 0\n",
       "244. 1\n",
       "245. 0\n",
       "246. 1\n",
       "247. 1\n",
       "248. 1\n",
       "249. 1\n",
       "250. 0\n",
       "251. 0\n",
       "252. 1\n",
       "253. 0\n",
       "254. 0\n",
       "255. 0\n",
       "256. 0\n",
       "257. 0\n",
       "258. 0\n",
       "259. 0\n",
       "260. 1\n",
       "261. 0\n",
       "262. 1\n",
       "263. 0\n",
       "264. 0\n",
       "265. 1\n",
       "266. 1\n",
       "267. 1\n",
       "268. 1\n",
       "269. 1\n",
       "270. 0\n",
       "271. 1\n",
       "272. 0\n",
       "273. 1\n",
       "274. 0\n",
       "275. 1\n",
       "276. 0\n",
       "277. 0\n",
       "278. 0\n",
       "279. 1\n",
       "280. 0\n",
       "281. 1\n",
       "282. 0\n",
       "283. 1\n",
       "284. 0\n",
       "285. 1\n",
       "286. 1\n",
       "287. 1\n",
       "288. 0\n",
       "289. 0\n",
       "290. 0\n",
       "291. 1\n",
       "292. 0\n",
       "293. 1\n",
       "294. 1\n",
       "295. 1\n",
       "296. 0\n",
       "297. 1\n",
       "298. 1\n",
       "299. 1\n",
       "300. 1\n",
       "301. 1\n",
       "302. 1\n",
       "303. 0\n",
       "\n",
       "\n",
       "\n",
       "**Levels**: 1. '0'\n",
       "2. '1'\n",
       "\n",
       "\n"
      ],
      "text/plain": [
       "  [1] 0 1 1 0 0 0 1 0 1 1 0 0 1 0 0 0 1 0 0 0 0 0 1 1 1 0 0 0 0 1 0 1 1 0 0 0 1\n",
       " [38] 1 1 0 1 0 0 0 1 1 0 1 0 0 0 0 1 0 1 1 1 1 0 0 1 0 1 0 1 1 1 0 1 1 0 1 1 1\n",
       " [75] 1 0 1 0 0 1 0 0 0 1 0 0 0 0 0 0 0 1 0 0 0 1 1 1 0 0 0 0 0 0 1 0 1 1 1 1 1\n",
       "[112] 1 0 1 1 0 0 0 1 1 1 1 0 1 1 0 1 1 0 0 0 0 0 0 0 0 1 1 1 0 0 1 0 1 0 1 1 0\n",
       "[149] 0 0 0 0 0 1 1 1 1 1 1 0 0 1 0 0 0 0 0 0 1 0 1 0 1 0 1 1 0 1 0 0 1 1 0 0 1\n",
       "[186] 0 0 1 1 1 0 1 1 1 0 1 0 0 0 1 0 0 0 0 0 1 1 1 0 1 0 1 0 1 1 0 0 0 0 0 0 0\n",
       "[223] 0 1 1 0 0 0 1 1 0 1 1 0 0 1 1 1 0 0 0 0 0 1 0 1 1 1 1 0 0 1 0 0 0 0 0 0 0\n",
       "[260] 1 0 1 0 0 1 1 1 1 1 0 1 0 1 0 1 0 0 0 1 0 1 0 1 0 1 1 1 0 0 0 1 0 1 1 1 0\n",
       "[297] 1 1 1 1 1 1 0\n",
       "Levels: 0 1"
      ]
     },
     "metadata": {},
     "output_type": "display_data"
    },
    {
     "data": {
      "text/html": [
       "<table class=\"dataframe\">\n",
       "<caption>A data.frame: 303 × 12</caption>\n",
       "<thead>\n",
       "\t<tr><th scope=col>age</th><th scope=col>sex</th><th scope=col>chest_pain</th><th scope=col>resting_blood_pressure</th><th scope=col>cholesterol</th><th scope=col>fasting_blood_sugar</th><th scope=col>rest_ecg</th><th scope=col>max_heart_rate</th><th scope=col>exercise_induced_angina</th><th scope=col>ST_slope</th><th scope=col>thalassemia</th><th scope=col>diagnosis</th></tr>\n",
       "\t<tr><th scope=col>&lt;dbl&gt;</th><th scope=col>&lt;fct&gt;</th><th scope=col>&lt;fct&gt;</th><th scope=col>&lt;dbl&gt;</th><th scope=col>&lt;dbl&gt;</th><th scope=col>&lt;fct&gt;</th><th scope=col>&lt;fct&gt;</th><th scope=col>&lt;dbl&gt;</th><th scope=col>&lt;fct&gt;</th><th scope=col>&lt;fct&gt;</th><th scope=col>&lt;fct&gt;</th><th scope=col>&lt;fct&gt;</th></tr>\n",
       "</thead>\n",
       "<tbody>\n",
       "\t<tr><td>63</td><td>1</td><td>1</td><td>145</td><td>233</td><td>1</td><td>2</td><td>150</td><td>0</td><td>3</td><td>NA</td><td>0</td></tr>\n",
       "\t<tr><td>67</td><td>1</td><td>4</td><td>160</td><td>286</td><td>0</td><td>2</td><td>108</td><td>1</td><td>2</td><td>NA</td><td>1</td></tr>\n",
       "\t<tr><td>67</td><td>1</td><td>4</td><td>120</td><td>229</td><td>0</td><td>2</td><td>129</td><td>1</td><td>2</td><td>NA</td><td>1</td></tr>\n",
       "\t<tr><td>⋮</td><td>⋮</td><td>⋮</td><td>⋮</td><td>⋮</td><td>⋮</td><td>⋮</td><td>⋮</td><td>⋮</td><td>⋮</td><td>⋮</td><td>⋮</td></tr>\n",
       "\t<tr><td>57</td><td>1</td><td>4</td><td>130</td><td>131</td><td>0</td><td>0</td><td>115</td><td>1</td><td>2</td><td>NA</td><td>1</td></tr>\n",
       "\t<tr><td>57</td><td>0</td><td>2</td><td>130</td><td>236</td><td>0</td><td>2</td><td>174</td><td>0</td><td>2</td><td>NA</td><td>1</td></tr>\n",
       "\t<tr><td>38</td><td>1</td><td>3</td><td>138</td><td>175</td><td>0</td><td>0</td><td>173</td><td>0</td><td>1</td><td>NA</td><td>0</td></tr>\n",
       "</tbody>\n",
       "</table>\n"
      ],
      "text/latex": [
       "A data.frame: 303 × 12\n",
       "\\begin{tabular}{llllllllllll}\n",
       " age & sex & chest\\_pain & resting\\_blood\\_pressure & cholesterol & fasting\\_blood\\_sugar & rest\\_ecg & max\\_heart\\_rate & exercise\\_induced\\_angina & ST\\_slope & thalassemia & diagnosis\\\\\n",
       " <dbl> & <fct> & <fct> & <dbl> & <dbl> & <fct> & <fct> & <dbl> & <fct> & <fct> & <fct> & <fct>\\\\\n",
       "\\hline\n",
       "\t 63 & 1 & 1 & 145 & 233 & 1 & 2 & 150 & 0 & 3 & NA & 0\\\\\n",
       "\t 67 & 1 & 4 & 160 & 286 & 0 & 2 & 108 & 1 & 2 & NA & 1\\\\\n",
       "\t 67 & 1 & 4 & 120 & 229 & 0 & 2 & 129 & 1 & 2 & NA & 1\\\\\n",
       "\t ⋮ & ⋮ & ⋮ & ⋮ & ⋮ & ⋮ & ⋮ & ⋮ & ⋮ & ⋮ & ⋮ & ⋮\\\\\n",
       "\t 57 & 1 & 4 & 130 & 131 & 0 & 0 & 115 & 1 & 2 & NA & 1\\\\\n",
       "\t 57 & 0 & 2 & 130 & 236 & 0 & 2 & 174 & 0 & 2 & NA & 1\\\\\n",
       "\t 38 & 1 & 3 & 138 & 175 & 0 & 0 & 173 & 0 & 1 & NA & 0\\\\\n",
       "\\end{tabular}\n"
      ],
      "text/markdown": [
       "\n",
       "A data.frame: 303 × 12\n",
       "\n",
       "| age &lt;dbl&gt; | sex &lt;fct&gt; | chest_pain &lt;fct&gt; | resting_blood_pressure &lt;dbl&gt; | cholesterol &lt;dbl&gt; | fasting_blood_sugar &lt;fct&gt; | rest_ecg &lt;fct&gt; | max_heart_rate &lt;dbl&gt; | exercise_induced_angina &lt;fct&gt; | ST_slope &lt;fct&gt; | thalassemia &lt;fct&gt; | diagnosis &lt;fct&gt; |\n",
       "|---|---|---|---|---|---|---|---|---|---|---|---|\n",
       "| 63 | 1 | 1 | 145 | 233 | 1 | 2 | 150 | 0 | 3 | NA | 0 |\n",
       "| 67 | 1 | 4 | 160 | 286 | 0 | 2 | 108 | 1 | 2 | NA | 1 |\n",
       "| 67 | 1 | 4 | 120 | 229 | 0 | 2 | 129 | 1 | 2 | NA | 1 |\n",
       "| ⋮ | ⋮ | ⋮ | ⋮ | ⋮ | ⋮ | ⋮ | ⋮ | ⋮ | ⋮ | ⋮ | ⋮ |\n",
       "| 57 | 1 | 4 | 130 | 131 | 0 | 0 | 115 | 1 | 2 | NA | 1 |\n",
       "| 57 | 0 | 2 | 130 | 236 | 0 | 2 | 174 | 0 | 2 | NA | 1 |\n",
       "| 38 | 1 | 3 | 138 | 175 | 0 | 0 | 173 | 0 | 1 | NA | 0 |\n",
       "\n"
      ],
      "text/plain": [
       "    age sex chest_pain resting_blood_pressure cholesterol fasting_blood_sugar\n",
       "1   63  1   1          145                    233         1                  \n",
       "2   67  1   4          160                    286         0                  \n",
       "3   67  1   4          120                    229         0                  \n",
       "⋮   ⋮   ⋮   ⋮          ⋮                      ⋮           ⋮                  \n",
       "301 57  1   4          130                    131         0                  \n",
       "302 57  0   2          130                    236         0                  \n",
       "303 38  1   3          138                    175         0                  \n",
       "    rest_ecg max_heart_rate exercise_induced_angina ST_slope thalassemia\n",
       "1   2        150            0                       3        NA         \n",
       "2   2        108            1                       2        NA         \n",
       "3   2        129            1                       2        NA         \n",
       "⋮   ⋮        ⋮              ⋮                       ⋮        ⋮          \n",
       "301 0        115            1                       2        NA         \n",
       "302 2        174            0                       2        NA         \n",
       "303 0        173            0                       1        NA         \n",
       "    diagnosis\n",
       "1   0        \n",
       "2   1        \n",
       "3   1        \n",
       "⋮   ⋮        \n",
       "301 1        \n",
       "302 1        \n",
       "303 0        "
      ]
     },
     "metadata": {},
     "output_type": "display_data"
    }
   ],
   "source": [
    "heart_data_clean$sex <- as.factor(heart_data_clean$sex)\n",
    "heart_data_clean$chest_pain <- as.factor(heart_data_clean$chest_pain)\n",
    "heart_data_clean$fasting_blood_sugar <- as.factor(heart_data_clean$fasting_blood_sugar)\n",
    "heart_data_clean$rest_ecg <- factor(heart_data_clean$rest_ecg, levels = c(\"0\", \"1\", \"2\"))\n",
    "heart_data_clean$exercise_induced_angina <- as.factor(heart_data_clean$exercise_induced_angina)\n",
    "heart_data_clean$ST_slope <- as.factor(heart_data_clean$ST_slope)\n",
    "heart_data_clean$thalassemia <- factor(heart_data_clean$thalassemia, levels = c(\"3\", \"6\", \"7\"))\n",
    "\n",
    "heart_data_clean$diagnosis[heart_data_clean$diagnosis == 0] <- 0\n",
    "heart_data_clean$diagnosis[heart_data_clean$diagnosis == 1] <- 1\n",
    "heart_data_clean$diagnosis[heart_data_clean$diagnosis == 2] <- 1\n",
    "heart_data_clean$diagnosis[heart_data_clean$diagnosis == 3] <- 1\n",
    "heart_data_clean$diagnosis[heart_data_clean$diagnosis == 4] <- 1\n",
    "heart_data_clean$diagnosis <- as.factor(heart_data_clean$diagnosis)\n",
    "\n",
    "heart_data_clean$diagnosis\n",
    "heart_data_clean"
   ]
  },
  {
   "cell_type": "markdown",
   "id": "d9a014d4-11b8-4d71-bf66-8d3f946286f5",
   "metadata": {},
   "source": [
    "**Step 4:** \n",
    "Split into training and testing data"
   ]
  },
  {
   "cell_type": "code",
   "execution_count": 5,
   "id": "f4bcc58e-578d-433f-b113-9bd7f3f79d55",
   "metadata": {},
   "outputs": [],
   "source": [
    "set.seed(20)\n",
    "heart_split <- initial_split(heart_data_clean, prop = 0.75, strata = diagnosis)\n",
    "heart_train <- training(heart_split)\n",
    "heart_test <- testing(heart_split)"
   ]
  },
  {
   "cell_type": "markdown",
   "id": "48e3fc95-63e6-4e9d-a31b-24b062c9b9de",
   "metadata": {},
   "source": [
    "**Step 5:** Predictor Selection - select relevant columns as predictor variables"
   ]
  },
  {
   "cell_type": "code",
   "execution_count": 6,
   "id": "3520323d-c20c-4507-8826-4dc2e4e84cb4",
   "metadata": {},
   "outputs": [],
   "source": [
    "set.seed(20)\n",
    "heart_data_select <- heart_train |>\n",
    "    mutate(diagnosis = as.numeric(diagnosis))|>\n",
    "    select(-thalassemia)"
   ]
  },
  {
   "cell_type": "markdown",
   "id": "4f25fc0b-6ca2-4f83-8780-f18553dc95cd",
   "metadata": {},
   "source": [
    "**Step 6:**\n",
    "Perform feature selection using a model"
   ]
  },
  {
   "cell_type": "code",
   "execution_count": 7,
   "id": "d1673d87-eecf-4a24-ada6-b556f0ed9bbf",
   "metadata": {},
   "outputs": [
    {
     "data": {
      "text/plain": [
       "\n",
       "Call:\n",
       "lm(formula = diagnosis ~ ., data = heart_data_select)\n",
       "\n",
       "Residuals:\n",
       "     Min       1Q   Median       3Q      Max \n",
       "-0.99558 -0.24019  0.00302  0.23696  0.93151 \n",
       "\n",
       "Coefficients:\n",
       "                           Estimate Std. Error t value Pr(>|t|)    \n",
       "(Intercept)               0.3122762  0.3801506   0.821 0.412311    \n",
       "age                       0.0043893  0.0032296   1.359 0.175571    \n",
       "sex1                      0.2619880  0.0585181   4.477 1.24e-05 ***\n",
       "chest_pain2               0.0456387  0.1107429   0.412 0.680672    \n",
       "chest_pain3               0.0372372  0.1004071   0.371 0.711110    \n",
       "chest_pain4               0.3839245  0.0991471   3.872 0.000144 ***\n",
       "resting_blood_pressure    0.0031256  0.0015316   2.041 0.042518 *  \n",
       "cholesterol               0.0004895  0.0005269   0.929 0.354007    \n",
       "fasting_blood_sugar1     -0.0048510  0.0737881  -0.066 0.947645    \n",
       "rest_ecg1                 0.1414254  0.1997870   0.708 0.479797    \n",
       "rest_ecg2                 0.0610996  0.0537215   1.137 0.256680    \n",
       "max_heart_rate           -0.0011939  0.0014369  -0.831 0.406972    \n",
       "exercise_induced_angina1  0.1583004  0.0627138   2.524 0.012330 *  \n",
       "ST_slope2                 0.1947283  0.0590931   3.295 0.001152 ** \n",
       "ST_slope3                 0.0938948  0.1113488   0.843 0.400039    \n",
       "---\n",
       "Signif. codes:  0 ‘***’ 0.001 ‘**’ 0.01 ‘*’ 0.05 ‘.’ 0.1 ‘ ’ 1\n",
       "\n",
       "Residual standard error: 0.3798 on 212 degrees of freedom\n",
       "Multiple R-squared:  0.4573,\tAdjusted R-squared:  0.4215 \n",
       "F-statistic: 12.76 on 14 and 212 DF,  p-value: < 2.2e-16\n"
      ]
     },
     "metadata": {},
     "output_type": "display_data"
    }
   ],
   "source": [
    "lm1 <- lm(heart_data_select,formula=diagnosis ~.)\n",
    "summary(lm1)"
   ]
  },
  {
   "cell_type": "markdown",
   "id": "1de84fef-1e6e-4c9e-894e-0f5a9e852d4d",
   "metadata": {},
   "source": [
    "**Step 7:** Obtain feature importance"
   ]
  },
  {
   "cell_type": "code",
   "execution_count": 8,
   "id": "6e12853d-9868-4811-81b4-aee67a5f4e19",
   "metadata": {},
   "outputs": [
    {
     "data": {
      "text/html": [
       "<table class=\"dataframe\">\n",
       "<caption>A data.frame: 14 × 14</caption>\n",
       "<thead>\n",
       "\t<tr><th></th><th scope=col>age</th><th scope=col>sex1</th><th scope=col>chest_pain2</th><th scope=col>chest_pain3</th><th scope=col>chest_pain4</th><th scope=col>resting_blood_pressure</th><th scope=col>cholesterol</th><th scope=col>fasting_blood_sugar1</th><th scope=col>rest_ecg1</th><th scope=col>rest_ecg2</th><th scope=col>max_heart_rate</th><th scope=col>exercise_induced_angina1</th><th scope=col>ST_slope2</th><th scope=col>ST_slope3</th></tr>\n",
       "\t<tr><th></th><th scope=col>&lt;chr&gt;</th><th scope=col>&lt;chr&gt;</th><th scope=col>&lt;chr&gt;</th><th scope=col>&lt;chr&gt;</th><th scope=col>&lt;chr&gt;</th><th scope=col>&lt;chr&gt;</th><th scope=col>&lt;chr&gt;</th><th scope=col>&lt;chr&gt;</th><th scope=col>&lt;chr&gt;</th><th scope=col>&lt;chr&gt;</th><th scope=col>&lt;chr&gt;</th><th scope=col>&lt;chr&gt;</th><th scope=col>&lt;chr&gt;</th><th scope=col>&lt;chr&gt;</th></tr>\n",
       "</thead>\n",
       "<tbody>\n",
       "\t<tr><th scope=row>1  ( 1 )</th><td> </td><td> </td><td> </td><td> </td><td>*</td><td> </td><td> </td><td> </td><td> </td><td> </td><td> </td><td> </td><td> </td><td> </td></tr>\n",
       "\t<tr><th scope=row>2  ( 1 )</th><td> </td><td> </td><td> </td><td> </td><td>*</td><td> </td><td> </td><td> </td><td> </td><td> </td><td> </td><td> </td><td>*</td><td> </td></tr>\n",
       "\t<tr><th scope=row>3  ( 1 )</th><td> </td><td>*</td><td> </td><td> </td><td>*</td><td> </td><td> </td><td> </td><td> </td><td> </td><td> </td><td> </td><td>*</td><td> </td></tr>\n",
       "\t<tr><th scope=row>⋮</th><td>⋮</td><td>⋮</td><td>⋮</td><td>⋮</td><td>⋮</td><td>⋮</td><td>⋮</td><td>⋮</td><td>⋮</td><td>⋮</td><td>⋮</td><td>⋮</td><td>⋮</td><td>⋮</td></tr>\n",
       "\t<tr><th scope=row>12  ( 1 )</th><td>*</td><td>*</td><td>*</td><td> </td><td>*</td><td>*</td><td>*</td><td> </td><td>*</td><td>*</td><td>*</td><td>*</td><td>*</td><td>*</td></tr>\n",
       "\t<tr><th scope=row>13  ( 1 )</th><td>*</td><td>*</td><td>*</td><td>*</td><td>*</td><td>*</td><td>*</td><td> </td><td>*</td><td>*</td><td>*</td><td>*</td><td>*</td><td>*</td></tr>\n",
       "\t<tr><th scope=row>14  ( 1 )</th><td>*</td><td>*</td><td>*</td><td>*</td><td>*</td><td>*</td><td>*</td><td>*</td><td>*</td><td>*</td><td>*</td><td>*</td><td>*</td><td>*</td></tr>\n",
       "</tbody>\n",
       "</table>\n"
      ],
      "text/latex": [
       "A data.frame: 14 × 14\n",
       "\\begin{tabular}{r|llllllllllllll}\n",
       "  & age & sex1 & chest\\_pain2 & chest\\_pain3 & chest\\_pain4 & resting\\_blood\\_pressure & cholesterol & fasting\\_blood\\_sugar1 & rest\\_ecg1 & rest\\_ecg2 & max\\_heart\\_rate & exercise\\_induced\\_angina1 & ST\\_slope2 & ST\\_slope3\\\\\n",
       "  & <chr> & <chr> & <chr> & <chr> & <chr> & <chr> & <chr> & <chr> & <chr> & <chr> & <chr> & <chr> & <chr> & <chr>\\\\\n",
       "\\hline\n",
       "\t1  ( 1 ) &   &   &   &   & * &   &   &   &   &   &   &   &   &  \\\\\n",
       "\t2  ( 1 ) &   &   &   &   & * &   &   &   &   &   &   &   & * &  \\\\\n",
       "\t3  ( 1 ) &   & * &   &   & * &   &   &   &   &   &   &   & * &  \\\\\n",
       "\t⋮ & ⋮ & ⋮ & ⋮ & ⋮ & ⋮ & ⋮ & ⋮ & ⋮ & ⋮ & ⋮ & ⋮ & ⋮ & ⋮ & ⋮\\\\\n",
       "\t12  ( 1 ) & * & * & * &   & * & * & * &   & * & * & * & * & * & *\\\\\n",
       "\t13  ( 1 ) & * & * & * & * & * & * & * &   & * & * & * & * & * & *\\\\\n",
       "\t14  ( 1 ) & * & * & * & * & * & * & * & * & * & * & * & * & * & *\\\\\n",
       "\\end{tabular}\n"
      ],
      "text/markdown": [
       "\n",
       "A data.frame: 14 × 14\n",
       "\n",
       "| <!--/--> | age &lt;chr&gt; | sex1 &lt;chr&gt; | chest_pain2 &lt;chr&gt; | chest_pain3 &lt;chr&gt; | chest_pain4 &lt;chr&gt; | resting_blood_pressure &lt;chr&gt; | cholesterol &lt;chr&gt; | fasting_blood_sugar1 &lt;chr&gt; | rest_ecg1 &lt;chr&gt; | rest_ecg2 &lt;chr&gt; | max_heart_rate &lt;chr&gt; | exercise_induced_angina1 &lt;chr&gt; | ST_slope2 &lt;chr&gt; | ST_slope3 &lt;chr&gt; |\n",
       "|---|---|---|---|---|---|---|---|---|---|---|---|---|---|---|\n",
       "| 1  ( 1 ) | <!----> | <!----> | <!----> | <!----> | * | <!----> | <!----> | <!----> | <!----> | <!----> | <!----> | <!----> | <!----> | <!----> |\n",
       "| 2  ( 1 ) | <!----> | <!----> | <!----> | <!----> | * | <!----> | <!----> | <!----> | <!----> | <!----> | <!----> | <!----> | * | <!----> |\n",
       "| 3  ( 1 ) | <!----> | * | <!----> | <!----> | * | <!----> | <!----> | <!----> | <!----> | <!----> | <!----> | <!----> | * | <!----> |\n",
       "| ⋮ | ⋮ | ⋮ | ⋮ | ⋮ | ⋮ | ⋮ | ⋮ | ⋮ | ⋮ | ⋮ | ⋮ | ⋮ | ⋮ | ⋮ |\n",
       "| 12  ( 1 ) | * | * | * | <!----> | * | * | * | <!----> | * | * | * | * | * | * |\n",
       "| 13  ( 1 ) | * | * | * | * | * | * | * | <!----> | * | * | * | * | * | * |\n",
       "| 14  ( 1 ) | * | * | * | * | * | * | * | * | * | * | * | * | * | * |\n",
       "\n"
      ],
      "text/plain": [
       "          age sex1 chest_pain2 chest_pain3 chest_pain4 resting_blood_pressure\n",
       "1  ( 1 )                                   *                                 \n",
       "2  ( 1 )                                   *                                 \n",
       "3  ( 1 )      *                            *                                 \n",
       "⋮         ⋮   ⋮    ⋮           ⋮           ⋮           ⋮                     \n",
       "12  ( 1 ) *   *    *                       *           *                     \n",
       "13  ( 1 ) *   *    *           *           *           *                     \n",
       "14  ( 1 ) *   *    *           *           *           *                     \n",
       "          cholesterol fasting_blood_sugar1 rest_ecg1 rest_ecg2 max_heart_rate\n",
       "1  ( 1 )                                                                     \n",
       "2  ( 1 )                                                                     \n",
       "3  ( 1 )                                                                     \n",
       "⋮         ⋮           ⋮                    ⋮         ⋮         ⋮             \n",
       "12  ( 1 ) *                                *         *         *             \n",
       "13  ( 1 ) *                                *         *         *             \n",
       "14  ( 1 ) *           *                    *         *         *             \n",
       "          exercise_induced_angina1 ST_slope2 ST_slope3\n",
       "1  ( 1 )                                              \n",
       "2  ( 1 )                           *                  \n",
       "3  ( 1 )                           *                  \n",
       "⋮         ⋮                        ⋮         ⋮        \n",
       "12  ( 1 ) *                        *         *        \n",
       "13  ( 1 ) *                        *         *        \n",
       "14  ( 1 ) *                        *         *        "
      ]
     },
     "metadata": {},
     "output_type": "display_data"
    }
   ],
   "source": [
    "Best_Subset <-\n",
    "    regsubsets(diagnosis~.,\n",
    "               data =heart_data_select,\n",
    "               nbest = 1,      # 1 best model for each number of predictors\n",
    "               nvmax = NULL,    # NULL for no limit on number of variables\n",
    "               force.in = NULL, force.out = NULL,\n",
    "               method = \"exhaustive\")\n",
    "\n",
    "summary_best_subset <- summary(Best_Subset)\n",
    "as.data.frame(summary_best_subset$outmat)"
   ]
  },
  {
   "cell_type": "markdown",
   "id": "bd27fbe8-9176-4b5d-9e70-d297dac37a1e",
   "metadata": {},
   "source": [
    "**Step 8:** Find best number of predictors"
   ]
  },
  {
   "cell_type": "code",
   "execution_count": 9,
   "id": "523e0840-7414-428d-af3a-3a2ee7c7271b",
   "metadata": {},
   "outputs": [
    {
     "data": {
      "text/html": [
       "7"
      ],
      "text/latex": [
       "7"
      ],
      "text/markdown": [
       "7"
      ],
      "text/plain": [
       "[1] 7"
      ]
     },
     "metadata": {},
     "output_type": "display_data"
    }
   ],
   "source": [
    "which.max(summary_best_subset$adjr2)"
   ]
  },
  {
   "cell_type": "markdown",
   "id": "4c7c02bf-0278-4c4f-bbed-c14fec646ad6",
   "metadata": {},
   "source": [
    "**Step 9:** \n",
    "Select best 6 predictors"
   ]
  },
  {
   "cell_type": "code",
   "execution_count": 10,
   "id": "8d6f8982-9545-4477-9d96-90047d64910a",
   "metadata": {},
   "outputs": [
    {
     "name": "stdout",
     "output_type": "stream",
     "text": [
      "             (Intercept)                      age                     sex1 \n",
      "                    TRUE                     TRUE                     TRUE \n",
      "             chest_pain2              chest_pain3              chest_pain4 \n",
      "                   FALSE                    FALSE                     TRUE \n",
      "  resting_blood_pressure              cholesterol     fasting_blood_sugar1 \n",
      "                    TRUE                    FALSE                    FALSE \n",
      "               rest_ecg1                rest_ecg2           max_heart_rate \n",
      "                   FALSE                     TRUE                    FALSE \n",
      "exercise_induced_angina1                ST_slope2                ST_slope3 \n",
      "                    TRUE                     TRUE                    FALSE \n"
     ]
    }
   ],
   "source": [
    "print(summary_best_subset$which[7,])"
   ]
  },
  {
   "cell_type": "markdown",
   "id": "b8fcfd30-f913-46b3-9772-95f6dfef5bb0",
   "metadata": {},
   "source": [
    "The 6 best predictors with the most important coefficents are: Rest ECG, ST Slope, Chest Pain, Fasting Blood Sugar, Age, Max_Heart_Rate. \n",
    "\n",
    "The model we used to get feature importance looked at each class within the predictors not the predictors as a whole. So when selecting our predictors we expanded the list until we had 6 seperate catergories named as we are filtering our data for the entire predictor subset, not specific predictor classes. "
   ]
  },
  {
   "cell_type": "markdown",
   "id": "2b725f87-c451-4779-8f05-edcf0db0fbf2",
   "metadata": {},
   "source": [
    "**Step 10:** \n",
    "Summary of training data set containing 6 best predictors"
   ]
  },
  {
   "cell_type": "code",
   "execution_count": 25,
   "id": "58abdf79-c8ba-483a-a1c4-70af51a34a3c",
   "metadata": {},
   "outputs": [
    {
     "data": {
      "text/html": [
       "<table class=\"dataframe\">\n",
       "<caption>A data.frame: 2 × 2</caption>\n",
       "<thead>\n",
       "\t<tr><th scope=col>diagnosis</th><th scope=col>n</th></tr>\n",
       "\t<tr><th scope=col>&lt;fct&gt;</th><th scope=col>&lt;int&gt;</th></tr>\n",
       "</thead>\n",
       "<tbody>\n",
       "\t<tr><td>0</td><td>123</td></tr>\n",
       "\t<tr><td>1</td><td>104</td></tr>\n",
       "</tbody>\n",
       "</table>\n"
      ],
      "text/latex": [
       "A data.frame: 2 × 2\n",
       "\\begin{tabular}{ll}\n",
       " diagnosis & n\\\\\n",
       " <fct> & <int>\\\\\n",
       "\\hline\n",
       "\t 0 & 123\\\\\n",
       "\t 1 & 104\\\\\n",
       "\\end{tabular}\n"
      ],
      "text/markdown": [
       "\n",
       "A data.frame: 2 × 2\n",
       "\n",
       "| diagnosis &lt;fct&gt; | n &lt;int&gt; |\n",
       "|---|---|\n",
       "| 0 | 123 |\n",
       "| 1 | 104 |\n",
       "\n"
      ],
      "text/plain": [
       "  diagnosis n  \n",
       "1 0         123\n",
       "2 1         104"
      ]
     },
     "metadata": {},
     "output_type": "display_data"
    }
   ],
   "source": [
    "#count of factor predictor variables (fasting blood sugar, rest ECG, ST slope, and chest pain) and target variable (diagnosis)\n",
    "count_diag <- heart_train|>\n",
    "    count(diagnosis)\n",
    "count_diag"
   ]
  },
  {
   "cell_type": "code",
   "execution_count": 26,
   "id": "3498e8a7-0f7d-42ff-87a1-b4be85e75455",
   "metadata": {},
   "outputs": [
    {
     "data": {
      "text/html": [
       "<table class=\"dataframe\">\n",
       "<caption>A data.frame: 2 × 2</caption>\n",
       "<thead>\n",
       "\t<tr><th scope=col>fasting_blood_sugar</th><th scope=col>n</th></tr>\n",
       "\t<tr><th scope=col>&lt;fct&gt;</th><th scope=col>&lt;int&gt;</th></tr>\n",
       "</thead>\n",
       "<tbody>\n",
       "\t<tr><td>0</td><td>194</td></tr>\n",
       "\t<tr><td>1</td><td> 33</td></tr>\n",
       "</tbody>\n",
       "</table>\n"
      ],
      "text/latex": [
       "A data.frame: 2 × 2\n",
       "\\begin{tabular}{ll}\n",
       " fasting\\_blood\\_sugar & n\\\\\n",
       " <fct> & <int>\\\\\n",
       "\\hline\n",
       "\t 0 & 194\\\\\n",
       "\t 1 &  33\\\\\n",
       "\\end{tabular}\n"
      ],
      "text/markdown": [
       "\n",
       "A data.frame: 2 × 2\n",
       "\n",
       "| fasting_blood_sugar &lt;fct&gt; | n &lt;int&gt; |\n",
       "|---|---|\n",
       "| 0 | 194 |\n",
       "| 1 |  33 |\n",
       "\n"
      ],
      "text/plain": [
       "  fasting_blood_sugar n  \n",
       "1 0                   194\n",
       "2 1                    33"
      ]
     },
     "metadata": {},
     "output_type": "display_data"
    }
   ],
   "source": [
    "count_sugar <- heart_train|>\n",
    "    count(fasting_blood_sugar)\n",
    "count_sugar"
   ]
  },
  {
   "cell_type": "code",
   "execution_count": 17,
   "id": "41955ae9-08d1-48d2-81f2-6c96ab8c0ff5",
   "metadata": {},
   "outputs": [
    {
     "data": {
      "text/html": [
       "<table class=\"dataframe\">\n",
       "<caption>A data.frame: 3 × 2</caption>\n",
       "<thead>\n",
       "\t<tr><th scope=col>rest_ecg</th><th scope=col>n</th></tr>\n",
       "\t<tr><th scope=col>&lt;fct&gt;</th><th scope=col>&lt;int&gt;</th></tr>\n",
       "</thead>\n",
       "<tbody>\n",
       "\t<tr><td>0</td><td>115</td></tr>\n",
       "\t<tr><td>1</td><td>  4</td></tr>\n",
       "\t<tr><td>2</td><td>108</td></tr>\n",
       "</tbody>\n",
       "</table>\n"
      ],
      "text/latex": [
       "A data.frame: 3 × 2\n",
       "\\begin{tabular}{ll}\n",
       " rest\\_ecg & n\\\\\n",
       " <fct> & <int>\\\\\n",
       "\\hline\n",
       "\t 0 & 115\\\\\n",
       "\t 1 &   4\\\\\n",
       "\t 2 & 108\\\\\n",
       "\\end{tabular}\n"
      ],
      "text/markdown": [
       "\n",
       "A data.frame: 3 × 2\n",
       "\n",
       "| rest_ecg &lt;fct&gt; | n &lt;int&gt; |\n",
       "|---|---|\n",
       "| 0 | 115 |\n",
       "| 1 |   4 |\n",
       "| 2 | 108 |\n",
       "\n"
      ],
      "text/plain": [
       "  rest_ecg n  \n",
       "1 0        115\n",
       "2 1          4\n",
       "3 2        108"
      ]
     },
     "metadata": {},
     "output_type": "display_data"
    }
   ],
   "source": [
    "count_rest_ecg <- heart_train|>\n",
    "    count(rest_ecg)\n",
    "count_rest_ecg"
   ]
  },
  {
   "cell_type": "code",
   "execution_count": 18,
   "id": "d925da43-3252-4a2c-9318-7ac94989e2e8",
   "metadata": {},
   "outputs": [
    {
     "data": {
      "text/html": [
       "<table class=\"dataframe\">\n",
       "<caption>A data.frame: 3 × 2</caption>\n",
       "<thead>\n",
       "\t<tr><th scope=col>ST_slope</th><th scope=col>n</th></tr>\n",
       "\t<tr><th scope=col>&lt;fct&gt;</th><th scope=col>&lt;int&gt;</th></tr>\n",
       "</thead>\n",
       "<tbody>\n",
       "\t<tr><td>1</td><td>111</td></tr>\n",
       "\t<tr><td>2</td><td>102</td></tr>\n",
       "\t<tr><td>3</td><td> 14</td></tr>\n",
       "</tbody>\n",
       "</table>\n"
      ],
      "text/latex": [
       "A data.frame: 3 × 2\n",
       "\\begin{tabular}{ll}\n",
       " ST\\_slope & n\\\\\n",
       " <fct> & <int>\\\\\n",
       "\\hline\n",
       "\t 1 & 111\\\\\n",
       "\t 2 & 102\\\\\n",
       "\t 3 &  14\\\\\n",
       "\\end{tabular}\n"
      ],
      "text/markdown": [
       "\n",
       "A data.frame: 3 × 2\n",
       "\n",
       "| ST_slope &lt;fct&gt; | n &lt;int&gt; |\n",
       "|---|---|\n",
       "| 1 | 111 |\n",
       "| 2 | 102 |\n",
       "| 3 |  14 |\n",
       "\n"
      ],
      "text/plain": [
       "  ST_slope n  \n",
       "1 1        111\n",
       "2 2        102\n",
       "3 3         14"
      ]
     },
     "metadata": {},
     "output_type": "display_data"
    }
   ],
   "source": [
    "count_slope <- heart_train|>\n",
    "    count(ST_slope)\n",
    "count_slope"
   ]
  },
  {
   "cell_type": "code",
   "execution_count": 19,
   "id": "4c661dea-8eef-4172-9e8e-7d3a3ee12e34",
   "metadata": {},
   "outputs": [
    {
     "data": {
      "text/html": [
       "<table class=\"dataframe\">\n",
       "<caption>A data.frame: 4 × 2</caption>\n",
       "<thead>\n",
       "\t<tr><th scope=col>chest_pain</th><th scope=col>n</th></tr>\n",
       "\t<tr><th scope=col>&lt;fct&gt;</th><th scope=col>&lt;int&gt;</th></tr>\n",
       "</thead>\n",
       "<tbody>\n",
       "\t<tr><td>1</td><td> 20</td></tr>\n",
       "\t<tr><td>2</td><td> 36</td></tr>\n",
       "\t<tr><td>3</td><td> 65</td></tr>\n",
       "\t<tr><td>4</td><td>106</td></tr>\n",
       "</tbody>\n",
       "</table>\n"
      ],
      "text/latex": [
       "A data.frame: 4 × 2\n",
       "\\begin{tabular}{ll}\n",
       " chest\\_pain & n\\\\\n",
       " <fct> & <int>\\\\\n",
       "\\hline\n",
       "\t 1 &  20\\\\\n",
       "\t 2 &  36\\\\\n",
       "\t 3 &  65\\\\\n",
       "\t 4 & 106\\\\\n",
       "\\end{tabular}\n"
      ],
      "text/markdown": [
       "\n",
       "A data.frame: 4 × 2\n",
       "\n",
       "| chest_pain &lt;fct&gt; | n &lt;int&gt; |\n",
       "|---|---|\n",
       "| 1 |  20 |\n",
       "| 2 |  36 |\n",
       "| 3 |  65 |\n",
       "| 4 | 106 |\n",
       "\n"
      ],
      "text/plain": [
       "  chest_pain n  \n",
       "1 1           20\n",
       "2 2           36\n",
       "3 3           65\n",
       "4 4          106"
      ]
     },
     "metadata": {},
     "output_type": "display_data"
    }
   ],
   "source": [
    "count_chest <- heart_train|>\n",
    "    count(chest_pain)\n",
    "count_chest"
   ]
  },
  {
   "cell_type": "code",
   "execution_count": 20,
   "id": "b0e237c5-1f7d-4d09-853a-ee55b0791896",
   "metadata": {},
   "outputs": [
    {
     "data": {
      "text/html": [
       "<table class=\"dataframe\">\n",
       "<caption>A data.frame: 1 × 2</caption>\n",
       "<thead>\n",
       "\t<tr><th scope=col>age</th><th scope=col>max_heart_rate</th></tr>\n",
       "\t<tr><th scope=col>&lt;dbl&gt;</th><th scope=col>&lt;dbl&gt;</th></tr>\n",
       "</thead>\n",
       "<tbody>\n",
       "\t<tr><td>77</td><td>195</td></tr>\n",
       "</tbody>\n",
       "</table>\n"
      ],
      "text/latex": [
       "A data.frame: 1 × 2\n",
       "\\begin{tabular}{ll}\n",
       " age & max\\_heart\\_rate\\\\\n",
       " <dbl> & <dbl>\\\\\n",
       "\\hline\n",
       "\t 77 & 195\\\\\n",
       "\\end{tabular}\n"
      ],
      "text/markdown": [
       "\n",
       "A data.frame: 1 × 2\n",
       "\n",
       "| age &lt;dbl&gt; | max_heart_rate &lt;dbl&gt; |\n",
       "|---|---|\n",
       "| 77 | 195 |\n",
       "\n"
      ],
      "text/plain": [
       "  age max_heart_rate\n",
       "1 77  195           "
      ]
     },
     "metadata": {},
     "output_type": "display_data"
    },
    {
     "data": {
      "text/html": [
       "<table class=\"dataframe\">\n",
       "<caption>A data.frame: 1 × 2</caption>\n",
       "<thead>\n",
       "\t<tr><th scope=col>age</th><th scope=col>max_heart_rate</th></tr>\n",
       "\t<tr><th scope=col>&lt;dbl&gt;</th><th scope=col>&lt;dbl&gt;</th></tr>\n",
       "</thead>\n",
       "<tbody>\n",
       "\t<tr><td>34</td><td>71</td></tr>\n",
       "</tbody>\n",
       "</table>\n"
      ],
      "text/latex": [
       "A data.frame: 1 × 2\n",
       "\\begin{tabular}{ll}\n",
       " age & max\\_heart\\_rate\\\\\n",
       " <dbl> & <dbl>\\\\\n",
       "\\hline\n",
       "\t 34 & 71\\\\\n",
       "\\end{tabular}\n"
      ],
      "text/markdown": [
       "\n",
       "A data.frame: 1 × 2\n",
       "\n",
       "| age &lt;dbl&gt; | max_heart_rate &lt;dbl&gt; |\n",
       "|---|---|\n",
       "| 34 | 71 |\n",
       "\n"
      ],
      "text/plain": [
       "  age max_heart_rate\n",
       "1 34  71            "
      ]
     },
     "metadata": {},
     "output_type": "display_data"
    }
   ],
   "source": [
    "#STATS \n",
    "#maximum values of discrete and continious variables (age, resting_blood_pressure, cholesterol, max_heart_rate, ST_depression)\n",
    "heart_max <- heart_train |>\n",
    "  summarize(across(-sex, ~ if(is.numeric(.)) max(.) else first(.))) |>\n",
    "  select(age, max_heart_rate)   \n",
    "heart_max\n",
    "                   \n",
    "#minimum values of discrete and continious variables (age, resting_blood_pressure, cholesterol, max_heart_rate, ST_depression)                  \n",
    "heart_min <- heart_train |>\n",
    "  summarize(across(-sex, ~ if(is.numeric(.)) min(.) else first(.))) |>\n",
    "  select(age, max_heart_rate)\n",
    "heart_min\n"
   ]
  },
  {
   "cell_type": "code",
   "execution_count": 21,
   "id": "b2714cdb-19d6-4689-8082-2e106e129f9c",
   "metadata": {},
   "outputs": [
    {
     "data": {
      "text/html": [
       "<table class=\"dataframe\">\n",
       "<caption>A data.frame: 1 × 2</caption>\n",
       "<thead>\n",
       "\t<tr><th scope=col>age</th><th scope=col>max_heart_rate</th></tr>\n",
       "\t<tr><th scope=col>&lt;dbl&gt;</th><th scope=col>&lt;dbl&gt;</th></tr>\n",
       "</thead>\n",
       "<tbody>\n",
       "\t<tr><td>54.4978</td><td>149.2907</td></tr>\n",
       "</tbody>\n",
       "</table>\n"
      ],
      "text/latex": [
       "A data.frame: 1 × 2\n",
       "\\begin{tabular}{ll}\n",
       " age & max\\_heart\\_rate\\\\\n",
       " <dbl> & <dbl>\\\\\n",
       "\\hline\n",
       "\t 54.4978 & 149.2907\\\\\n",
       "\\end{tabular}\n"
      ],
      "text/markdown": [
       "\n",
       "A data.frame: 1 × 2\n",
       "\n",
       "| age &lt;dbl&gt; | max_heart_rate &lt;dbl&gt; |\n",
       "|---|---|\n",
       "| 54.4978 | 149.2907 |\n",
       "\n"
      ],
      "text/plain": [
       "  age     max_heart_rate\n",
       "1 54.4978 149.2907      "
      ]
     },
     "metadata": {},
     "output_type": "display_data"
    },
    {
     "data": {
      "text/html": [
       "<table class=\"dataframe\">\n",
       "<caption>A data.frame: 1 × 2</caption>\n",
       "<thead>\n",
       "\t<tr><th scope=col>age</th><th scope=col>max_heart_rate</th></tr>\n",
       "\t<tr><th scope=col>&lt;dbl&gt;</th><th scope=col>&lt;dbl&gt;</th></tr>\n",
       "</thead>\n",
       "<tbody>\n",
       "\t<tr><td>9.265682</td><td>23.08553</td></tr>\n",
       "</tbody>\n",
       "</table>\n"
      ],
      "text/latex": [
       "A data.frame: 1 × 2\n",
       "\\begin{tabular}{ll}\n",
       " age & max\\_heart\\_rate\\\\\n",
       " <dbl> & <dbl>\\\\\n",
       "\\hline\n",
       "\t 9.265682 & 23.08553\\\\\n",
       "\\end{tabular}\n"
      ],
      "text/markdown": [
       "\n",
       "A data.frame: 1 × 2\n",
       "\n",
       "| age &lt;dbl&gt; | max_heart_rate &lt;dbl&gt; |\n",
       "|---|---|\n",
       "| 9.265682 | 23.08553 |\n",
       "\n"
      ],
      "text/plain": [
       "  age      max_heart_rate\n",
       "1 9.265682 23.08553      "
      ]
     },
     "metadata": {},
     "output_type": "display_data"
    }
   ],
   "source": [
    "#averages and standard deviations of continous or discrete variables (age, max_heart_rate)\n",
    "\n",
    "heart_mean <- heart_train |>\n",
    "  select(age, max_heart_rate) |>\n",
    "  summarize(across(age:max_heart_rate, mean))\n",
    "heart_mean\n",
    "\n",
    "heart_sd <- heart_train |>\n",
    "  select(age, max_heart_rate) |>\n",
    "  summarize(across(age:max_heart_rate, sd))\n",
    "heart_sd\n",
    "\n"
   ]
  },
  {
   "cell_type": "code",
   "execution_count": 22,
   "id": "a863048d-c61a-4b02-8229-df5b56eba438",
   "metadata": {},
   "outputs": [
    {
     "data": {
      "text/html": [
       "<table class=\"dataframe\">\n",
       "<caption>A data.frame: 4 × 2</caption>\n",
       "<thead>\n",
       "\t<tr><th scope=col>age</th><th scope=col>max_heart_rate</th></tr>\n",
       "\t<tr><th scope=col>&lt;dbl&gt;</th><th scope=col>&lt;dbl&gt;</th></tr>\n",
       "</thead>\n",
       "<tbody>\n",
       "\t<tr><td>34.000000</td><td> 71.00000</td></tr>\n",
       "\t<tr><td>77.000000</td><td>195.00000</td></tr>\n",
       "\t<tr><td>54.497797</td><td>149.29075</td></tr>\n",
       "\t<tr><td> 9.265682</td><td> 23.08553</td></tr>\n",
       "</tbody>\n",
       "</table>\n"
      ],
      "text/latex": [
       "A data.frame: 4 × 2\n",
       "\\begin{tabular}{ll}\n",
       " age & max\\_heart\\_rate\\\\\n",
       " <dbl> & <dbl>\\\\\n",
       "\\hline\n",
       "\t 34.000000 &  71.00000\\\\\n",
       "\t 77.000000 & 195.00000\\\\\n",
       "\t 54.497797 & 149.29075\\\\\n",
       "\t  9.265682 &  23.08553\\\\\n",
       "\\end{tabular}\n"
      ],
      "text/markdown": [
       "\n",
       "A data.frame: 4 × 2\n",
       "\n",
       "| age &lt;dbl&gt; | max_heart_rate &lt;dbl&gt; |\n",
       "|---|---|\n",
       "| 34.000000 |  71.00000 |\n",
       "| 77.000000 | 195.00000 |\n",
       "| 54.497797 | 149.29075 |\n",
       "|  9.265682 |  23.08553 |\n",
       "\n"
      ],
      "text/plain": [
       "  age       max_heart_rate\n",
       "1 34.000000  71.00000     \n",
       "2 77.000000 195.00000     \n",
       "3 54.497797 149.29075     \n",
       "4  9.265682  23.08553     "
      ]
     },
     "metadata": {},
     "output_type": "display_data"
    }
   ],
   "source": [
    "# Combine all the summary statistics into one table. \n",
    "# Row 1 = minimum value\n",
    "# Row 2 = maximum value\n",
    "# Row 3 = mean\n",
    "# Row 4 = standard deviation\n",
    "heart_summary <- bind_rows(\n",
    "  heart_min,\n",
    "  heart_max,\n",
    "  heart_mean,\n",
    "  heart_sd\n",
    ")\n",
    "\n",
    "heart_summary\n"
   ]
  },
  {
   "cell_type": "markdown",
   "id": "0aa1296b-a8ce-4df9-b75f-2adf35f00ee9",
   "metadata": {},
   "source": [
    "**Explanation of the Summary Statistics for Training Set**\n",
    "\n",
    "diagnosis: diagnosis is the target variable. It is a binary categorical variable with 41 observations having an absence of heart disease and 63 observations have a presence of heart disease. \n",
    "\n",
    "fasting_blood_sugar: Fasting blood sugar is a categorical variable where there are 86 obervsations with blood sugar lower than 120mg/dl and 18 higher than 120mg/dl.\n",
    "\n",
    "rest_ecg: Resting ECG is a categorical variable where 44 have normal resting electrocardiographic, 2 have some abnormality, and 58 have definite hypertrophy\n",
    "\n",
    "ST_slope: ST slope is a categorical variable where 24 observations have an upslope heart rate, 71 have flat, and 9 have downward sloping ST heart rates. \n",
    "\n",
    "chest_pain: Chest pain is a categorical variable where 6 observations have typical angina, 7 observations have atypical angina, 11 observations have non-anginal pain, and 80 have asymptomatic chest pain. \n",
    "\n",
    "age: Age is a discrete variable. The minimum age observed in the training data is 35 years, and the maximum age is 70 years. The average age of the patients in the training data is approximately 56.91 years, with a standard deviation of around 7.44.\n",
    "\n",
    "max_heart_rate: Maximum heart rate is a discrete variable. The minimum max heart rate observed in the training data is 71 beats per minute, and the maximum max heart rate is 195 beats per minute. The average maximum heart rate is approximately 137.79 beats per minute, with a standard deviation of around 23.35."
   ]
  },
  {
   "cell_type": "markdown",
   "id": "ea0d3c5b-a335-422c-a025-bc5df14dec41",
   "metadata": {},
   "source": [
    "**Step 11** Visualizations and Comparisons Within the Training Data Set"
   ]
  },
  {
   "cell_type": "code",
   "execution_count": 23,
   "id": "c323f6d8-bc36-4b55-89af-0b386228276b",
   "metadata": {},
   "outputs": [
    {
     "data": {
      "image/png": "[encoded data removed]",
      "text/plain": [
       "plot without title"
      ]
     },
     "metadata": {
      "image/png": {
       "height": 480,
       "width": 480
      }
     },
     "output_type": "display_data"
    }
   ],
   "source": [
    "#Using only training data, visualize the data with at least one plot relevant to the analysis you plan to do\n",
    "\n",
    "#scattor plot showing elationship between age and resting blood pressure, categorised by target.\n",
    "options(repr.plot.width = 8, repr.plot.height = 8) \n",
    "age_resting_point <- heart_train |>\n",
    "    ggplot(aes(x = age, y = max_heart_rate))+\n",
    "    geom_point(aes(colour = diagnosis))+\n",
    "    labs(x = \"Age (years)\", y = \"Max Heart Rate (bpm)\")+\n",
    "    ggtitle(\"Scatterplot showing relationship between age and maximum heart rate, categorised by diagnosis\")+\n",
    "    theme(text = element_text(size = 20))\n",
    "age_resting_point\n",
    "\n",
    "#0 = negative diagnosis. 1 = positive diagnosis."
   ]
  },
  {
   "cell_type": "code",
   "execution_count": 24,
   "id": "ac0fe166-b817-46bb-976b-c8f2bbbc4fe4",
   "metadata": {},
   "outputs": [
    {
     "name": "stderr",
     "output_type": "stream",
     "text": [
      "`stat_bin()` using `bins = 30`. Pick better value with `binwidth`.\n",
      "\n"
     ]
    },
    {
     "data": {
      "image/png": "[encoded data removed]",
      "text/plain": [
       "plot without title"
      ]
     },
     "metadata": {
      "image/png": {
       "height": 480,
       "width": 720
      }
     },
     "output_type": "display_data"
    }
   ],
   "source": [
    "#bar chart showing the relations between sex and cholestrol, categorised by target\n",
    "options(repr.plot.width = 12, repr.plot.height = 8) \n",
    "sex_chol_bar <- heart_train |>\n",
    "    ggplot(aes(x = age, fill = diagnosis))+\n",
    "    geom_histogram(alpha = 0.5, position = \"identity\")+\n",
    "    facet_grid(rows = vars(chest_pain))+\n",
    "    labs(x = \"Chest Pain\", y = \"Age in Years\")+\n",
    "    ggtitle(\"Bar chart showing relationship between chest pain and age, categorised by diagnosis\")+\n",
    "    theme(text = element_text(size = 16))\n",
    "sex_chol_bar\n",
    "\n",
    "#0 = negative diagnosis. 1 = positive diagnosis."
   ]
  },
  {
   "cell_type": "code",
   "execution_count": 25,
   "id": "694d1231-641c-4a59-9945-e38c6261da65",
   "metadata": {},
   "outputs": [
    {
     "data": {
      "image/png": "[encoded data removed]",
      "text/plain": [
       "plot without title"
      ]
     },
     "metadata": {
      "image/png": {
       "height": 420,
       "width": 720
      }
     },
     "output_type": "display_data"
    }
   ],
   "source": [
    "options(repr.plot.width = 12, repr.plot.height = 7) \n",
    "sugar_heart_bar <- heart_train |>\n",
    "    ggplot(aes(x = fasting_blood_sugar, y = max_heart_rate, fill = diagnosis))+\n",
    "    geom_bar(stat = \"identity\")+\n",
    "    facet_grid(cols = vars(diagnosis))+\n",
    "    labs(x = \"Fasting Blood Sugar (>120mg/dl)\", y = \"Max Heart Rate (bpm)\")+\n",
    "    ggtitle(\"Bar chart showing relationship between diabetes and maximum heart rate, categorised by diagnosis\")+\n",
    "    theme(text = element_text(size = 12))\n",
    "sugar_heart_bar\n",
    "\n",
    "#0 = negative diagnosis. 1 = positive diagnosis.\n",
    "#False = absence diabetes. True = presence of diabetes"
   ]
  },
  {
   "cell_type": "code",
   "execution_count": 27,
   "id": "6a9a568a-4821-45f5-b2d1-cac6c5683da7",
   "metadata": {},
   "outputs": [
    {
     "name": "stderr",
     "output_type": "stream",
     "text": [
      "`stat_bin()` using `bins = 30`. Pick better value with `binwidth`.\n",
      "\n"
     ]
    },
    {
     "data": {
      "image/png": "[encoded data removed]",
      "text/plain": [
       "plot without title"
      ]
     },
     "metadata": {
      "image/png": {
       "height": 420,
       "width": 720
      }
     },
     "output_type": "display_data"
    }
   ],
   "source": [
    "options(repr.plot.width = 12, repr.plot.height = 7)\n",
    "\n",
    "max_slope_hist <- heart_train %>%\n",
    "  ggplot(aes(x = max_heart_rate, fill = diagnosis)) +\n",
    "  geom_histogram(alpha = 0.5, position = \"identity\") +\n",
    "  facet_grid(rows = vars(ST_slope)) +\n",
    "  labs(x = \"ST Slope\", y = \"Count\") +\n",
    "  ggtitle(\"Histogram showing distribution of ST Slope, categorized by diagnosis\") +\n",
    "  theme(text = element_text(size = 20))\n",
    "\n",
    "max_slope_hist\n"
   ]
  },
  {
   "cell_type": "code",
   "execution_count": 28,
   "id": "5644fa64-645e-423e-8da8-4e9533b7484e",
   "metadata": {},
   "outputs": [
    {
     "data": {
      "text/plain": [
       "List of 1\n",
       " $ text:List of 11\n",
       "  ..$ family       : NULL\n",
       "  ..$ face         : NULL\n",
       "  ..$ colour       : NULL\n",
       "  ..$ size         : num 20\n",
       "  ..$ hjust        : NULL\n",
       "  ..$ vjust        : NULL\n",
       "  ..$ angle        : NULL\n",
       "  ..$ lineheight   : NULL\n",
       "  ..$ margin       : NULL\n",
       "  ..$ debug        : NULL\n",
       "  ..$ inherit.blank: logi FALSE\n",
       "  ..- attr(*, \"class\")= chr [1:2] \"element_text\" \"element\"\n",
       " - attr(*, \"class\")= chr [1:2] \"theme\" \"gg\"\n",
       " - attr(*, \"complete\")= logi FALSE\n",
       " - attr(*, \"validate\")= logi TRUE"
      ]
     },
     "metadata": {},
     "output_type": "display_data"
    },
    {
     "name": "stderr",
     "output_type": "stream",
     "text": [
      "`stat_bin()` using `bins = 30`. Pick better value with `binwidth`.\n",
      "\n"
     ]
    },
    {
     "data": {
      "image/png": "[encoded data removed]",
      "text/plain": [
       "plot without title"
      ]
     },
     "metadata": {
      "image/png": {
       "height": 420,
       "width": 720
      }
     },
     "output_type": "display_data"
    }
   ],
   "source": [
    "options(repr.plot.width = 12, repr.plot.height = 7) \n",
    "slope_hist <- heart_train |>\n",
    "    ggplot(aes(x = age, fill = diagnosis))+\n",
    "    geom_histogram(alpha = 0.5, position = \"identity\")+\n",
    "    facet_grid(rows = vars(rest_ecg)) +\n",
    "    labs(x = \"cholestrol (mg/dl)\")+\n",
    "    ggtitle(\"Histogram showing the distribution of cholestrol, categorised by diagnosis\")\n",
    "    theme(text = element_text(size = 20))\n",
    "slope_hist"
   ]
  },
  {
   "cell_type": "code",
   "execution_count": 29,
   "id": "a845634d-f378-4fff-bb8a-0ec41b372fd5",
   "metadata": {},
   "outputs": [
    {
     "data": {
      "image/png": "[encoded data removed]",
      "text/plain": [
       "plot without title"
      ]
     },
     "metadata": {
      "image/png": {
       "height": 240,
       "width": 900
      }
     },
     "output_type": "display_data"
    }
   ],
   "source": [
    "#bar chart showing relationship between chest pain type and cholesterol, categorised by diagnosis\n",
    "options(repr.plot.width = 15, repr.plot.height = 4) \n",
    "chest_chol_bar <- heart_train |>\n",
    "    ggplot(aes(x = age, y = rest_ecg, fill = diagnosis))+\n",
    "    geom_bar(stat = \"identity\")+\n",
    "    facet_grid(cols = vars(diagnosis))+\n",
    "    labs(x = \"Chest Pain type\", y = \"cholesterol (mg/dl)\")+\n",
    "    ggtitle(\"Bar chart showing relationship between chest pain type and cholesterol levels, categorised by diagnosis\")+\n",
    "    theme(text = element_text(size = 15))\n",
    "\n",
    "chest_chol_bar <- chest_chol_bar+coord_flip()\n",
    "chest_chol_bar\n",
    "\n",
    "#0 = negative diagnosis. 1 = positive diagnosis."
   ]
  },
  {
   "cell_type": "markdown",
   "id": "68f7b3b9-7a5a-46cb-b141-4fbf29e2b01f",
   "metadata": {},
   "source": [
    "**Finding best K neighbors value and plotting accuracy vs. k-value** "
   ]
  },
  {
   "cell_type": "code",
   "execution_count": 30,
   "id": "959d3341-9f5a-44b0-ac01-3e7273f764be",
   "metadata": {},
   "outputs": [
    {
     "data": {
      "text/html": [
       "<table class=\"dataframe\">\n",
       "<caption>A data.frame: 227 × 8</caption>\n",
       "<thead>\n",
       "\t<tr><th></th><th scope=col>chest_pain</th><th scope=col>resting_blood_pressure</th><th scope=col>exercise_induced_angina</th><th scope=col>ST_slope</th><th scope=col>age</th><th scope=col>sex</th><th scope=col>rest_ecg</th><th scope=col>diagnosis</th></tr>\n",
       "\t<tr><th></th><th scope=col>&lt;fct&gt;</th><th scope=col>&lt;dbl&gt;</th><th scope=col>&lt;fct&gt;</th><th scope=col>&lt;fct&gt;</th><th scope=col>&lt;dbl&gt;</th><th scope=col>&lt;fct&gt;</th><th scope=col>&lt;fct&gt;</th><th scope=col>&lt;fct&gt;</th></tr>\n",
       "</thead>\n",
       "<tbody>\n",
       "\t<tr><th scope=row>1</th><td>1</td><td>145</td><td>0</td><td>3</td><td>63</td><td>1</td><td>2</td><td>0</td></tr>\n",
       "\t<tr><th scope=row>4</th><td>3</td><td>130</td><td>0</td><td>3</td><td>37</td><td>1</td><td>0</td><td>0</td></tr>\n",
       "\t<tr><th scope=row>5</th><td>2</td><td>130</td><td>0</td><td>1</td><td>41</td><td>0</td><td>2</td><td>0</td></tr>\n",
       "\t<tr><th scope=row>⋮</th><td>⋮</td><td>⋮</td><td>⋮</td><td>⋮</td><td>⋮</td><td>⋮</td><td>⋮</td><td>⋮</td></tr>\n",
       "\t<tr><th scope=row>298</th><td>4</td><td>140</td><td>1</td><td>2</td><td>57</td><td>0</td><td>0</td><td>1</td></tr>\n",
       "\t<tr><th scope=row>300</th><td>4</td><td>144</td><td>0</td><td>2</td><td>68</td><td>1</td><td>0</td><td>1</td></tr>\n",
       "\t<tr><th scope=row>301</th><td>4</td><td>130</td><td>1</td><td>2</td><td>57</td><td>1</td><td>0</td><td>1</td></tr>\n",
       "</tbody>\n",
       "</table>\n"
      ],
      "text/latex": [
       "A data.frame: 227 × 8\n",
       "\\begin{tabular}{r|llllllll}\n",
       "  & chest\\_pain & resting\\_blood\\_pressure & exercise\\_induced\\_angina & ST\\_slope & age & sex & rest\\_ecg & diagnosis\\\\\n",
       "  & <fct> & <dbl> & <fct> & <fct> & <dbl> & <fct> & <fct> & <fct>\\\\\n",
       "\\hline\n",
       "\t1 & 1 & 145 & 0 & 3 & 63 & 1 & 2 & 0\\\\\n",
       "\t4 & 3 & 130 & 0 & 3 & 37 & 1 & 0 & 0\\\\\n",
       "\t5 & 2 & 130 & 0 & 1 & 41 & 0 & 2 & 0\\\\\n",
       "\t⋮ & ⋮ & ⋮ & ⋮ & ⋮ & ⋮ & ⋮ & ⋮ & ⋮\\\\\n",
       "\t298 & 4 & 140 & 1 & 2 & 57 & 0 & 0 & 1\\\\\n",
       "\t300 & 4 & 144 & 0 & 2 & 68 & 1 & 0 & 1\\\\\n",
       "\t301 & 4 & 130 & 1 & 2 & 57 & 1 & 0 & 1\\\\\n",
       "\\end{tabular}\n"
      ],
      "text/markdown": [
       "\n",
       "A data.frame: 227 × 8\n",
       "\n",
       "| <!--/--> | chest_pain &lt;fct&gt; | resting_blood_pressure &lt;dbl&gt; | exercise_induced_angina &lt;fct&gt; | ST_slope &lt;fct&gt; | age &lt;dbl&gt; | sex &lt;fct&gt; | rest_ecg &lt;fct&gt; | diagnosis &lt;fct&gt; |\n",
       "|---|---|---|---|---|---|---|---|---|\n",
       "| 1 | 1 | 145 | 0 | 3 | 63 | 1 | 2 | 0 |\n",
       "| 4 | 3 | 130 | 0 | 3 | 37 | 1 | 0 | 0 |\n",
       "| 5 | 2 | 130 | 0 | 1 | 41 | 0 | 2 | 0 |\n",
       "| ⋮ | ⋮ | ⋮ | ⋮ | ⋮ | ⋮ | ⋮ | ⋮ | ⋮ |\n",
       "| 298 | 4 | 140 | 1 | 2 | 57 | 0 | 0 | 1 |\n",
       "| 300 | 4 | 144 | 0 | 2 | 68 | 1 | 0 | 1 |\n",
       "| 301 | 4 | 130 | 1 | 2 | 57 | 1 | 0 | 1 |\n",
       "\n"
      ],
      "text/plain": [
       "    chest_pain resting_blood_pressure exercise_induced_angina ST_slope age sex\n",
       "1   1          145                    0                       3        63  1  \n",
       "4   3          130                    0                       3        37  1  \n",
       "5   2          130                    0                       1        41  0  \n",
       "⋮   ⋮          ⋮                      ⋮                       ⋮        ⋮   ⋮  \n",
       "298 4          140                    1                       2        57  0  \n",
       "300 4          144                    0                       2        68  1  \n",
       "301 4          130                    1                       2        57  1  \n",
       "    rest_ecg diagnosis\n",
       "1   2        0        \n",
       "4   0        0        \n",
       "5   2        0        \n",
       "⋮   ⋮        ⋮        \n",
       "298 0        1        \n",
       "300 0        1        \n",
       "301 0        1        "
      ]
     },
     "metadata": {},
     "output_type": "display_data"
    }
   ],
   "source": [
    "heart_select_scale <- heart_train |>\n",
    "    select(chest_pain, resting_blood_pressure, exercise_induced_angina, ST_slope, age, sex, rest_ecg, diagnosis)\n",
    "heart_select_scale"
   ]
  },
  {
   "cell_type": "code",
   "execution_count": 31,
   "id": "51543148-fe41-4187-97ca-803702f5bf93",
   "metadata": {},
   "outputs": [
    {
     "name": "stderr",
     "output_type": "stream",
     "text": [
      "Warning message:\n",
      "“tune samples were requested but there were 227 rows in the data. 222 will be used.”\n"
     ]
    },
    {
     "data": {
      "image/png": "[encoded data removed]",
      "text/plain": [
       "plot without title"
      ]
     },
     "metadata": {
      "image/png": {
       "height": 480,
       "width": 480
      }
     },
     "output_type": "display_data"
    }
   ],
   "source": [
    "set.seed(20)\n",
    "options(repr.plot.width = 8, repr.plot.height = 8) \n",
    "knn_spec <- nearest_neighbor(weight_func = \"rectangular\", neighbors = tune()) |>\n",
    "            set_engine(\"kknn\") |>\n",
    "            set_mode(\"classification\")\n",
    "\n",
    "recipe <- recipe(diagnosis ~., data = heart_select_scale) |>\n",
    "                        step_scale(all_numeric()) |>\n",
    "                        step_center(all_numeric()) |> \n",
    "    step_dummy(chest_pain, exercise_induced_angina, ST_slope, rest_ecg, sex)\n",
    "\n",
    "fit <- workflow() |>\n",
    "                    add_recipe(recipe) |>\n",
    "                    add_model(knn_spec) |>\n",
    "                    fit(data = heart_select_scale)\n",
    "\n",
    "train_vfold <- vfold_cv(heart_select_scale, v = 10, strata = diagnosis)\n",
    "\n",
    "k_lots <- tibble(neighbors = seq(from = 2, to = 10, by = 1))\n",
    "\n",
    "knn_results <- workflow() |>\n",
    "  add_recipe(recipe) |>\n",
    "  add_model(knn_spec) |>\n",
    "  tune_grid(resamples = train_vfold, grid = k_lots) |>\n",
    "  collect_metrics()\n",
    "\n",
    "accuracies <- knn_results |>\n",
    "  filter(.metric == \"accuracy\")\n",
    "\n",
    "cross_val_plot <- ggplot(accuracies, aes(x = neighbors, y = mean)) +\n",
    "  geom_point() +\n",
    "  geom_line() +\n",
    "  labs(x = \"Neighbors\", y = \"Accuracy Estimate\") + \n",
    "  theme(text = element_text(size = 12))\n",
    "cross_val_plot"
   ]
  },
  {
   "cell_type": "markdown",
   "id": "1ff7f8da-cb84-4729-aa9e-51f27a356fac",
   "metadata": {},
   "source": [
    "Number of k neighbours selected: 4"
   ]
  },
  {
   "cell_type": "markdown",
   "id": "5fea93c2-0b55-4949-89c7-6f6bc29055ae",
   "metadata": {},
   "source": [
    "**Create model with best predictors and best k-value**"
   ]
  },
  {
   "cell_type": "code",
   "execution_count": 32,
   "id": "86069d3b-ffe7-4bd8-94ee-fe8fa5bc1ccb",
   "metadata": {},
   "outputs": [],
   "source": [
    "heart_spec <- nearest_neighbor(weight_func = \"rectangular\",neighbors = 4)|>\n",
    "set_engine(\"kknn\")|>\n",
    "set_mode(\"classification\")\n",
    "\n",
    "heart_fit <- workflow()|>\n",
    "add_recipe(recipe)|>\n",
    "add_model(heart_spec)|>\n",
    "fit(data=heart_select_scale)"
   ]
  },
  {
   "cell_type": "markdown",
   "id": "6e40256c-75f3-4873-98a6-eac7ed4132ea",
   "metadata": {},
   "source": [
    "**Use test data with predictor model, display with table.**"
   ]
  },
  {
   "cell_type": "code",
   "execution_count": 33,
   "id": "4c1800da-caec-4133-92a6-a1271426607b",
   "metadata": {},
   "outputs": [
    {
     "data": {
      "text/html": [
       "<table class=\"dataframe\">\n",
       "<caption>A tibble: 2 × 3</caption>\n",
       "<thead>\n",
       "\t<tr><th scope=col>.metric</th><th scope=col>.estimator</th><th scope=col>.estimate</th></tr>\n",
       "\t<tr><th scope=col>&lt;chr&gt;</th><th scope=col>&lt;chr&gt;</th><th scope=col>&lt;dbl&gt;</th></tr>\n",
       "</thead>\n",
       "<tbody>\n",
       "\t<tr><td>accuracy</td><td>binary</td><td>0.8026316</td></tr>\n",
       "\t<tr><td>kap     </td><td>binary</td><td>0.6019553</td></tr>\n",
       "</tbody>\n",
       "</table>\n"
      ],
      "text/latex": [
       "A tibble: 2 × 3\n",
       "\\begin{tabular}{lll}\n",
       " .metric & .estimator & .estimate\\\\\n",
       " <chr> & <chr> & <dbl>\\\\\n",
       "\\hline\n",
       "\t accuracy & binary & 0.8026316\\\\\n",
       "\t kap      & binary & 0.6019553\\\\\n",
       "\\end{tabular}\n"
      ],
      "text/markdown": [
       "\n",
       "A tibble: 2 × 3\n",
       "\n",
       "| .metric &lt;chr&gt; | .estimator &lt;chr&gt; | .estimate &lt;dbl&gt; |\n",
       "|---|---|---|\n",
       "| accuracy | binary | 0.8026316 |\n",
       "| kap      | binary | 0.6019553 |\n",
       "\n"
      ],
      "text/plain": [
       "  .metric  .estimator .estimate\n",
       "1 accuracy binary     0.8026316\n",
       "2 kap      binary     0.6019553"
      ]
     },
     "metadata": {},
     "output_type": "display_data"
    },
    {
     "data": {
      "text/plain": [
       "          Truth\n",
       "Prediction  0  1\n",
       "         0 34  8\n",
       "         1  7 27"
      ]
     },
     "metadata": {},
     "output_type": "display_data"
    }
   ],
   "source": [
    "heart_predictions <- predict(heart_fit, heart_test)|>\n",
    "    bind_cols(heart_test)\n",
    "\n",
    "heart_metrics <- heart_predictions|>\n",
    "    metrics(truth = diagnosis, estimate = .pred_class)\n",
    "heart_metrics\n",
    "\n",
    "heart_conf_mat <- heart_predictions|>\n",
    "    conf_mat(truth = diagnosis ,estimate = .pred_class)\n",
    "\n",
    "heart_conf_mat"
   ]
  },
  {
   "cell_type": "markdown",
   "id": "94625e71-da40-4c96-bd8d-a47dfeb1a116",
   "metadata": {},
   "source": [
    "**Discussion**\n",
    "\n",
    "From our data analysis using K-nearest neighbors classification, we found that our binary estimator had an accuracy of about 57.14%. This is quite a low accuracy, as in this course we have discussed how even accuracies of 80% and greater may not be sufficient in producing high-value results. \n",
    "\n",
    "Based on the method we used pick predictors for our classification model, our group would have expected to have a higher accuracy result. \n",
    "\n",
    "Our findings could be impacted by our methods, since we used google to help us use tools learned during the regression portion of this course to find correlations between variables. In attempting to go beyond the scope of the course and apply our knowledge in novel ways, there is a possibility of error occuring on our end. An alternative method would have been to do more background research on the greatest known health symptoms corresponding to heart disease, and then manually selecting our predictors based on this background knowledge. \n",
    "\n",
    "There is a great potential for future questioning from the basis of data science project. For example, we can test our classification model to diagnosis the health conditions of new patients (outside of the database) and thus assign them a health condition that corresponds to their symptoms and current physiological state. There are also broader applications of a project like this, specifically in the realm of medicine and healthcare. There is a growing standardization and implementation of data and computer science models into healthcare workflows - making the diagnosis and treatment process for patients much more efficient. After all, in theory, a highly well trained model with high accuracy may outcompete a tired, overworked physician when it comes to accurately creating a diagnosis and treatment plan. This was once thought to be a futuristic idea, but the power of data and computer science is undeniable, and there is great promise that it may change the state of modern healthcare.\n",
    "\n",
    "*Explanation for predictor choices:* \n",
    "\n",
    "We didn't use forward selection as mentioned in our proposal, a TA advised us not to as it was beyond the scope of this course. Thus, we set out to find another way to choose our best predictors without having to test the accuracy of 479001600 predictor combonations by hand. A quick google search led us to understand we can use what we learned in regression to view the correlations between varibles and use that to pick our predictors for classification (Carvalho et. al, 2019). Using the leaps package, an article by Atinakarim on medium walked us through how to do this (2021).  \n"
   ]
  },
  {
   "cell_type": "markdown",
   "id": "6dee0f2a-7e1a-44d2-adc6-82615f14838b",
   "metadata": {},
   "source": [
    "**References** \n",
    "\n",
    "Atinakarim. (2021, May 25). Selecting the best predictors for linear regression in R. Medium. https://towardsdatascience.com/selecting-the-best-predictors-for-linear-regression-in-r-f385bf3d93e9 \n",
    "\n",
    "Carvalho, P., López, D., &amp; Alex2006. (2019, April). How to determine which are the best predictor variables given a known classification?. Cross Validated. https://stats.stackexchange.com/questions/399711/how-to-determine-which-are-the-best-predictor-variables-given-a-known-classifica \n",
    "\n",
    "Lumley, T. (Version 3.1). leaps: Regression Subset Selection [Computer software]. Retrieved from CRAN. URL: https://rdrr.io/cran/leaps/\n",
    "\n",
    "Janosi,Andras, Steinbrunn,William, Pfisterer,Matthias, and Detrano,Robert. (1988). Heart Disease. UCI Machine Learning Repository. \n",
    "https://doi.org/10.24432/C52P4X.\n"
   ]
  },
  {
   "cell_type": "markdown",
   "id": "beaafcce-c5e2-49fc-9fe0-8ed502a122d7",
   "metadata": {},
   "source": [
    "."
   ]
  }
 ],
 "metadata": {
  "kernelspec": {
   "display_name": "R",
   "language": "R",
   "name": "ir"
  },
  "language_info": {
   "codemirror_mode": "r",
   "file_extension": ".r",
   "mimetype": "text/x-r-source",
   "name": "R",
   "pygments_lexer": "r",
   "version": "4.1.3"
  }
 },
 "nbformat": 4,
 "nbformat_minor": 5
}
