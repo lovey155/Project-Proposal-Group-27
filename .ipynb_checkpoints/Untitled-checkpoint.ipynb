{
 "cells": [
  {
   "cell_type": "code",
   "execution_count": 1,
   "id": "ccbfa0b7-b949-476e-821b-100736b67c8c",
   "metadata": {},
   "outputs": [
    {
     "ename": "ERROR",
     "evalue": "Error in select(heart_train, age, sex, chest_pain, resting_blood_pressure, : could not find function \"select\"\n",
     "output_type": "error",
     "traceback": [
      "Error in select(heart_train, age, sex, chest_pain, resting_blood_pressure, : could not find function \"select\"\nTraceback:\n"
     ]
    }
   ],
   "source": [
    "heart_subset <- heart_train |> \n",
    "  select(age, \n",
    "         sex, \n",
    "         chest_pain, \n",
    "         resting_blood_pressure,\n",
    "         cholesterol,\n",
    "         fasting_blood_sugar,\n",
    "         rest_ecg,\n",
    "         max_heart_rate,\n",
    "         exercise_induced_angina,\n",
    "         ST_depression,\n",
    "         ST_slope,\n",
    "         thalassemia, \n",
    "         diagnosis)\n",
    "\n",
    "names <- colnames(heart_subset |> select(-diagnosis))\n",
    "\n",
    "heart_subset"
   ]
  },
  {
   "cell_type": "code",
   "execution_count": 1,
   "id": "43a5557c-dfb9-405a-88f4-14366f65a635",
   "metadata": {},
   "outputs": [
    {
     "ename": "ERROR",
     "evalue": "Error in select(heart_train, age, sex, chest_pain, resting_blood_pressure, : could not find function \"select\"\n",
     "output_type": "error",
     "traceback": [
      "Error in select(heart_train, age, sex, chest_pain, resting_blood_pressure, : could not find function \"select\"\nTraceback:\n"
     ]
    }
   ],
   "source": [
    "heart_subset <- heart_train |> \n",
    "  select(age, \n",
    "         sex, \n",
    "         chest_pain, \n",
    "         resting_blood_pressure,\n",
    "         cholesterol,\n",
    "         fasting_blood_sugar,\n",
    "         rest_ecg,\n",
    "         max_heart_rate,\n",
    "         exercise_induced_angina,\n",
    "         ST_depression,\n",
    "         ST_slope,\n",
    "         thalassemia, \n",
    "         diagnosis)\n",
    "\n",
    "names <- colnames(heart_subset |> select(-diagnosis))\n",
    "\n",
    "heart_subset"
   ]
  },
  {
   "cell_type": "code",
   "execution_count": 2,
   "id": "eedb926e-d83d-4c3e-af14-7d904195921a",
   "metadata": {},
   "outputs": [
    {
     "ename": "ERROR",
     "evalue": "Error in tibble(size = integer(), model_string = character(), accuracy = numeric()): could not find function \"tibble\"\n",
     "output_type": "error",
     "traceback": [
      "Error in tibble(size = integer(), model_string = character(), accuracy = numeric()): could not find function \"tibble\"\nTraceback:\n"
     ]
    }
   ],
   "source": [
    "# create an empty tibble to store the results\n",
    "accuracies <- tibble(size = integer(), \n",
    "                     model_string = character(), \n",
    "                     accuracy = numeric())\n",
    "\n",
    "# create a model specification\n",
    "knn_spec <- nearest_neighbor(weight_func = \"rectangular\", \n",
    "                             neighbors = tune()) |>\n",
    "     set_engine(\"kknn\") |>\n",
    "     set_mode(\"classification\")\n",
    "\n",
    "# create a 5-fold cross-validation object\n",
    "heart_vfold <- vfold_cv(heart_train, v = 5, strata = diagnosis)\n",
    "\n",
    "# store the total number of predictors\n",
    "n_total <- length(names)\n",
    "\n",
    "# stores selected predictors\n",
    "selected <- c()\n",
    "\n",
    "# for every size from 1 to the total number of predictors\n",
    "for (i in 1:n_total) {\n",
    "    # for every predictor still not added yet\n",
    "    accs <- list()\n",
    "    models <- list()\n",
    "    for (j in 1:length(names)) {\n",
    "        # create a model string for this combination of predictors\n",
    "        preds_new <- c(selected, names[[j]])\n",
    "        model_string <- paste(\"diagnosis\", \"~\", paste(preds_new, collapse=\"+\"))\n",
    "\n",
    "        # create a recipe from the model string\n",
    "       heart_recipe<- recipe(as.formula(model_string), \n",
    "                                data = heart_train) |>\n",
    "                          step_scale(all_predictors()) |>\n",
    "                          step_center(all_predictors())\n",
    "\n",
    "        # tune the KNN classifier with these predictors, \n",
    "        # and collect the accuracy for the best K\n",
    "        acc <- workflow() |>\n",
    "          add_recipe(heart_recipe) |>\n",
    "          add_model(knn_spec) |>\n",
    "          tune_grid(resamples = heart_vfold, grid = 10) |>\n",
    "          collect_metrics() |>\n",
    "          filter(.metric == \"accuracy\") |>\n",
    "          summarize(mx = max(mean))\n",
    "        acc <- acc$mx |> unlist()\n",
    "\n",
    "        # add this result to the dataframe\n",
    "        accs[[j]] <- acc\n",
    "        models[[j]] <- model_string\n",
    "    }\n",
    "    jstar <- which.max(unlist(accs))\n",
    "    accuracies <- accuracies |> \n",
    "      add_row(size = i, \n",
    "              model_string = models[[jstar]], \n",
    "              accuracy = accs[[jstar]])\n",
    "    selected <- c(selected, names[[jstar]])\n",
    "    names <- names[-jstar]\n",
    "}\n",
    "accuracies"
   ]
  },
  {
   "cell_type": "code",
   "execution_count": null,
   "id": "2a412e0f-da39-4526-9a6b-e0af9b544c57",
   "metadata": {},
   "outputs": [],
   "source": [
    "choose_preds <- ggplot(accuracies, aes(x = size, y = accuracy)) +\n",
    "  geom_point() +\n",
    "  geom_line() +\n",
    "  xlab(\"Number of Predictors\") +\n",
    "  ylab(\"Estimated Accuracy\") +\n",
    "  scale_x_continuous(breaks = 1:12) + \n",
    "  theme(text = element_text(size = 12))\n",
    "\n",
    "choose_preds"
   ]
  }
 ],
 "metadata": {
  "kernelspec": {
   "display_name": "R",
   "language": "R",
   "name": "ir"
  },
  "language_info": {
   "codemirror_mode": "r",
   "file_extension": ".r",
   "mimetype": "text/x-r-source",
   "name": "R",
   "pygments_lexer": "r",
   "version": "4.1.3"
  }
 },
 "nbformat": 4,
 "nbformat_minor": 5
}
