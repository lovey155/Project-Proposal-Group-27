{
 "cells": [
  {
   "cell_type": "code",
   "execution_count": 1,
   "id": "43a5557c-dfb9-405a-88f4-14366f65a635",
   "metadata": {},
   "outputs": [
    {
     "ename": "ERROR",
     "evalue": "Error in select(heart_train, age, sex, chest_pain, resting_blood_pressure, : could not find function \"select\"\n",
     "output_type": "error",
     "traceback": [
      "Error in select(heart_train, age, sex, chest_pain, resting_blood_pressure, : could not find function \"select\"\nTraceback:\n"
     ]
    }
   ],
   "source": [
    "heart_subset <- heart_train |> \n",
    "  select(age, \n",
    "         sex, \n",
    "         chest_pain, \n",
    "         resting_blood_pressure,\n",
    "         cholesterol,\n",
    "         fasting_blood_sugar,\n",
    "         rest_ecg,\n",
    "         max_heart_rate,\n",
    "         exercise_induced_angina,\n",
    "         ST_depression,\n",
    "         ST_slope,\n",
    "         thalassemia, \n",
    "         diagnosis)\n",
    "\n",
    "names <- colnames(heart_subset |> select(-diagnosis))\n",
    "\n",
    "heart_subset"
   ]
  },
  {
   "cell_type": "code",
   "execution_count": 2,
   "id": "eedb926e-d83d-4c3e-af14-7d904195921a",
   "metadata": {},
   "outputs": [
    {
     "ename": "ERROR",
     "evalue": "Error in tibble(size = integer(), model_string = character(), accuracy = numeric()): could not find function \"tibble\"\n",
     "output_type": "error",
     "traceback": [
      "Error in tibble(size = integer(), model_string = character(), accuracy = numeric()): could not find function \"tibble\"\nTraceback:\n"
     ]
    }
   ],
   "source": [
    "# create an empty tibble to store the results\n",
    "accuracies <- tibble(size = integer(), \n",
    "                     model_string = character(), \n",
    "                     accuracy = numeric())\n",
    "\n",
    "# create a model specification\n",
    "knn_spec <- nearest_neighbor(weight_func = \"rectangular\", \n",
    "                             neighbors = tune()) |>\n",
    "     set_engine(\"kknn\") |>\n",
    "     set_mode(\"classification\")\n",
    "\n",
    "# create a 5-fold cross-validation object\n",
    "heart_vfold <- vfold_cv(heart_train, v = 5, strata = diagnosis)\n",
    "\n",
    "# store the total number of predictors\n",
    "n_total <- length(names)\n",
    "\n",
    "# stores selected predictors\n",
    "selected <- c()\n",
    "\n",
    "# for every size from 1 to the total number of predictors\n",
    "for (i in 1:n_total) {\n",
    "    # for every predictor still not added yet\n",
    "    accs <- list()\n",
    "    models <- list()\n",
    "    for (j in 1:length(names)) {\n",
    "        # create a model string for this combination of predictors\n",
    "        preds_new <- c(selected, names[[j]])\n",
    "        model_string <- paste(\"diagnosis\", \"~\", paste(preds_new, collapse=\"+\"))\n",
    "\n",
    "        # create a recipe from the model string\n",
    "       heart_recipe<- recipe(as.formula(model_string), \n",
    "                                data = heart_train) |>\n",
    "                          step_scale(all_predictors()) |>\n",
    "                          step_center(all_predictors())\n",
    "\n",
    "        # tune the KNN classifier with these predictors, \n",
    "        # and collect the accuracy for the best K\n",
    "        acc <- workflow() |>\n",
    "          add_recipe(heart_recipe) |>\n",
    "          add_model(knn_spec) |>\n",
    "          tune_grid(resamples = heart_vfold, grid = 10) |>\n",
    "          collect_metrics() |>\n",
    "          filter(.metric == \"accuracy\") |>\n",
    "          summarize(mx = max(mean))\n",
    "        acc <- acc$mx |> unlist()\n",
    "\n",
    "        # add this result to the dataframe\n",
    "        accs[[j]] <- acc\n",
    "        models[[j]] <- model_string\n",
    "    }\n",
    "    jstar <- which.max(unlist(accs))\n",
    "    accuracies <- accuracies |> \n",
    "      add_row(size = i, \n",
    "              model_string = models[[jstar]], \n",
    "              accuracy = accs[[jstar]])\n",
    "    selected <- c(selected, names[[jstar]])\n",
    "    names <- names[-jstar]\n",
    "}\n",
    "accuracies"
   ]
  },
  {
   "cell_type": "code",
   "execution_count": null,
   "id": "2a412e0f-da39-4526-9a6b-e0af9b544c57",
   "metadata": {},
   "outputs": [],
   "source": [
    "choose_preds <- ggplot(accuracies, aes(x = size, y = accuracy)) +\n",
    "  geom_point() +\n",
    "  geom_line() +\n",
    "  xlab(\"Number of Predictors\") +\n",
    "  ylab(\"Estimated Accuracy\") +\n",
    "  scale_x_continuous(breaks = 1:12) + \n",
    "  theme(text = element_text(size = 12))\n",
    "\n",
    "choose_preds"
   ]
  },
  {
   "cell_type": "code",
   "execution_count": null,
   "id": "d860c541-c2ff-4e95-86be-de9e3384cb03",
   "metadata": {},
   "outputs": [],
   "source": [
    "library(GGally)\n",
    "#testing correlation coefficients in order to narrow down important varibles - I only used ones with numerical values as the 0,1s wouldnt show anything. \n",
    "options(repr.plot.width=10, repr.plot.height=10)\n",
    "heart_select <- heart_train|> \n",
    "    select(\"age\", \"resting_blood_pressure\", \"cholesterol\", \"max_heart_rate\",\"ST_depression\") \n",
    "heart_ggpairs <- heart_select|>\n",
    "    ggpairs(mapping = aes(alpha = 0.4)) +\n",
    "    theme(text = element_text(size=15))\n",
    "heart_ggpairs"
   ]
  },
  {
   "cell_type": "code",
   "execution_count": 3,
   "id": "b274fe4c-81d6-42c7-bb91-feacd4753934",
   "metadata": {},
   "outputs": [
    {
     "ename": "ERROR",
     "evalue": "Error in parse(text = x, srcfile = src): <text>:1:5: unexpected symbol\n1: Age is\n        ^\n",
     "output_type": "error",
     "traceback": [
      "Error in parse(text = x, srcfile = src): <text>:1:5: unexpected symbol\n1: Age is\n        ^\nTraceback:\n"
     ]
    }
   ],
   "source": [
    "Age is really well correlated with all of them. \n",
    "Max heart rate and ST_depression \n",
    "\n",
    "- * 5% p-value \n",
    "- ** 1% p-value\n",
    "- *** 0.1% p-value \n",
    "    Max heart rate and ST_depression "
   ]
  },
  {
   "cell_type": "code",
   "execution_count": 4,
   "id": "54d4ae0a-4ebe-4a49-b0b5-cb84d496dbf1",
   "metadata": {},
   "outputs": [
    {
     "ename": "ERROR",
     "evalue": "Error in set_mode(set_engine(nearest_neighbor(weight_func = \"rectangular\", : could not find function \"set_mode\"\n",
     "output_type": "error",
     "traceback": [
      "Error in set_mode(set_engine(nearest_neighbor(weight_func = \"rectangular\", : could not find function \"set_mode\"\nTraceback:\n"
     ]
    }
   ],
   "source": [
    "#first accuracy test, all predictors \n",
    "knn_spec <- nearest_neighbor(weight_func = \"rectangular\", neighbors = tune()) |>\n",
    "            set_engine(\"kknn\") |>\n",
    "            set_mode(\"classification\")\n",
    "\n",
    "recipe_12 <- recipe(diagnosis ~ age + sex + chest_pain + resting_blood_pressure + cholesterol + fasting_blood_sugar + rest_ecg + max_heart_rate + exercise_induced_angina + ST_depression + ST_slope + thalassemia, data = heart_train)\n",
    "\n",
    "heart_vfold <- vfold_cv(heart_train, v = 5, strata = diagnosis)\n",
    "\n",
    "fit_12 <- workflow() |>\n",
    "                    add_recipe(recipe_12) |>\n",
    "                    add_model(knn_spec) |>\n",
    "                    fit(data = heart_train)|> \n",
    "                    tune_grid(resamples = heart_vfold, grid = 10) |>\n",
    "                      collect_metrics() |>\n",
    "                      filter(.metric == \"accuracy\")|> \n",
    "                    summarize(best_accuracy = max(mean))\n",
    "fit_12"
   ]
  },
  {
   "cell_type": "code",
   "execution_count": null,
   "id": "5a51f5d5-535d-4733-9bc3-247818269e40",
   "metadata": {},
   "outputs": [],
   "source": [
    "#Clean and wrangle your data into a tidy format\n",
    "heart_data_2 <- na.omit(heart_data)\n",
    "colnames(heart_data_2) <- c(\"ID\", \"age\", \"sex\", \"location\", \"chest_pain\", \"resting_blood_pressure\", \"cholesterol\", \"fasting_blood_sugar\", \"rest_ecg\", \"max_heart_rate\", \"exercise_induced_angina\", \"ST_depression\", \"ST_slope\", \"num_major_vessels\", \"thalassemia\", \"diagnosis\")\n",
    "\n",
    "#Datasets of other locations do not have inputs for some variables. So will limit dataframe to Cleveland.\n",
    "heart_data_3 <- heart_data_2|>\n",
    "    filter(location == \"Cleveland\")\n",
    "\n",
    "# Select relevant columns and convert diagnosis and other specified columns to binary\n",
    "heart_data_4 <- heart_data_3 |>\n",
    "  select(-location, -num_major_vessels) |>\n",
    "  mutate(diagnosis = ifelse(diagnosis > 0, 1, 0)) |>\n",
    "  mutate(sex = ifelse(sex == \"female\", 0, 1)) |>\n",
    "  mutate(chest_pain = as.numeric(ifelse(chest_pain == \"typical angina\", 0, 1))) |>\n",
    "  mutate(fasting_blood_sugar = as.numeric(ifelse(fasting_blood_sugar == \"lower than 120mg/dl\", 0, 1))) |>\n",
    "  mutate(rest_ecg = as.numeric(ifelse(rest_ecg == \"normal\", 0, 1))) |>\n",
    "  mutate(exercise_induced_angina = as.numeric(ifelse(exercise_induced_angina == \"no\", 0, 1))) |>\n",
    "  mutate(ST_slope = as.numeric(ifelse(ST_slope == \"upsloping\", 0, 1))) |>\n",
    "  mutate(thalassemia = as.numeric(ifelse(thalassemia == \"normal\", 0, 1)))\n",
    "\n",
    "heart_data_4 <- heart_data_4|>\n",
    "    mutate(diagnosis = as_factor(diagnosis))\n",
    "heart_data_4"
   ]
  }
 ],
 "metadata": {
  "kernelspec": {
   "display_name": "R",
   "language": "R",
   "name": "ir"
  },
  "language_info": {
   "codemirror_mode": "r",
   "file_extension": ".r",
   "mimetype": "text/x-r-source",
   "name": "R",
   "pygments_lexer": "r",
   "version": "4.1.3"
  }
 },
 "nbformat": 4,
 "nbformat_minor": 5
}
